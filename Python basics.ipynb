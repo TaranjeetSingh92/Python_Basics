{
 "cells": [
  {
   "cell_type": "markdown",
   "metadata": {},
   "source": [
    "# Introduction To Python   "
   ]
  },
  {
   "cell_type": "markdown",
   "metadata": {},
   "source": [
    "## Why python? \n",
    "\n",
    "* Written by Guido van Rossum in 1991.\n",
    "\n",
    "* Was named after BBC Show **Monty Python's Flying Circus**\n",
    "\n",
    "* Practical uses of python."
   ]
  },
  {
   "cell_type": "markdown",
   "metadata": {},
   "source": [
    "## Advantages of Python\n",
    "\n",
    "* **The Code looks similar to how Humans think.****\n",
    "\n",
    "\n",
    "* **Python is free and open-source** - open source means that's it's source code is available to public . we can download it , change it ,use it and distribute it. This feature is called FLOSS (Free Libre and open source software.)\n",
    "\n",
    "\n",
    "* **Portable** - we does not need to change the code that's written in windows operating system to run it on mac or any other operating system.\n",
    "\n",
    "\n",
    "* **It is well supoorted and has numerous online content.**\n",
    "\n",
    "\n",
    "* **It is Dynamically typed**  - meand the type of value is decided at runtime , this is why de don't need to specify the data type while decalaring it.\n",
    "\n",
    "\n",
    "* **It has many powerfull libraries for data manipulation and analysis , data visulatization.**\n",
    "\n",
    "\n",
    "* **Python has Machine Learning.**\n"
   ]
  },
  {
   "cell_type": "markdown",
   "metadata": {},
   "source": [
    "## Downloading and Installing\n",
    "\n",
    "* It can be downloaded from Python official website download section. - **https://www.python.org/downloads**\n",
    "\n",
    "* A executable file (.exe) will be download and upon running it python will be installed in machine.\n",
    "\n",
    "## File Extension  - \n",
    "   **.py**"
   ]
  },
  {
   "cell_type": "markdown",
   "metadata": {},
   "source": [
    "### IDE (Integrated Development Environment) - Is a the Text Editior for writing the Program ( Code )."
   ]
  },
  {
   "cell_type": "markdown",
   "metadata": {},
   "source": [
    "## Python Distributions\n",
    "\n",
    "- Python software foundation does regular releases of python on its offical webstie . we call them standard distribution.\n",
    "\n",
    "- Other python distribution are downloaded as per person's convenience , they also have many 3^rd party libraries pre installed.\n",
    "\n",
    "Examples of python distribution - \n",
    "\n",
    "* Anaconda from continuum analytics\n",
    "* Pocket python\n",
    "* Portable Python - run python from USB device.\n",
    "* Active python from active state."
   ]
  },
  {
   "cell_type": "markdown",
   "metadata": {},
   "source": [
    "## Anaconda Python Distribution\n",
    "\n",
    "- We can download it from  - https://www.anaconda.com/distribution/  , use graphical installer\n",
    "- A .exe file will be downloaded ,run it and Anaconda will be installed. \n",
    "- Run anaconda distribution.\n",
    "\n",
    "### Lets have a brief introduction to Anaconda navigator and Jupyter notebook."
   ]
  },
  {
   "cell_type": "markdown",
   "metadata": {},
   "source": [
    "# Operators - \n",
    "\n",
    "**Arithmetic Operators**\n",
    "\n",
    "**Assignment  Operators**\n",
    "\n",
    "**Comparsion Operators**\n",
    "\n",
    "**Logical  Operators**\n",
    "\n",
    "**Identity Operators**\n",
    "\n",
    "**Membership Operators**\n"
   ]
  },
  {
   "cell_type": "markdown",
   "metadata": {},
   "source": [
    "# Operators\n",
    "They help us in performing operations\n",
    "\n",
    "## Arithmetic Operators\n",
    "\n",
    "- **+**  : addition\n",
    "\n",
    "- **-**  : subtraction\n",
    "\n",
    "- [ * ] : multiplication\n",
    "\n",
    "- **/**  : division\n",
    "\n",
    "- **%**  : modulus  - gives remainder\n",
    "\n",
    "-   **   : Exponentiation\n",
    "\n",
    "- **//** : Floor division - gives quoitent\n"
   ]
  },
  {
   "cell_type": "markdown",
   "metadata": {},
   "source": [
    "## Data types\n",
    "\n",
    "* Integers\n",
    "\n",
    "* float\n",
    "\n",
    "* string\n",
    "\n",
    "* boolean"
   ]
  },
  {
   "cell_type": "markdown",
   "metadata": {},
   "source": [
    "### Intergers"
   ]
  },
  {
   "cell_type": "code",
   "execution_count": 4,
   "metadata": {
    "ExecuteTime": {
     "end_time": "2023-09-30T16:06:52.535298Z",
     "start_time": "2023-09-30T16:06:52.526282Z"
    }
   },
   "outputs": [
    {
     "data": {
      "text/plain": [
       "100"
      ]
     },
     "execution_count": 4,
     "metadata": {},
     "output_type": "execute_result"
    }
   ],
   "source": [
    "100   # shift + enter/return  -> for running the cell"
   ]
  },
  {
   "cell_type": "code",
   "execution_count": 8,
   "metadata": {
    "ExecuteTime": {
     "end_time": "2022-05-28T15:57:33.084688Z",
     "start_time": "2022-05-28T15:57:33.070639Z"
    },
    "run_control": {
     "marked": false
    }
   },
   "outputs": [
    {
     "data": {
      "text/plain": [
       "2"
      ]
     },
     "execution_count": 8,
     "metadata": {},
     "output_type": "execute_result"
    }
   ],
   "source": [
    "1 + 1  "
   ]
  },
  {
   "cell_type": "code",
   "execution_count": 9,
   "metadata": {
    "ExecuteTime": {
     "end_time": "2022-05-28T15:57:33.084688Z",
     "start_time": "2022-05-28T15:57:33.070639Z"
    },
    "run_control": {
     "marked": false
    }
   },
   "outputs": [
    {
     "data": {
      "text/plain": [
       "3"
      ]
     },
     "execution_count": 9,
     "metadata": {},
     "output_type": "execute_result"
    }
   ],
   "source": [
    "1 * 3"
   ]
  },
  {
   "cell_type": "code",
   "execution_count": 10,
   "metadata": {
    "ExecuteTime": {
     "end_time": "2022-05-28T15:57:33.084688Z",
     "start_time": "2022-05-28T15:57:33.070639Z"
    },
    "run_control": {
     "marked": false
    }
   },
   "outputs": [
    {
     "data": {
      "text/plain": [
       "0.5"
      ]
     },
     "execution_count": 10,
     "metadata": {},
     "output_type": "execute_result"
    }
   ],
   "source": [
    "1 / 2"
   ]
  },
  {
   "cell_type": "code",
   "execution_count": 11,
   "metadata": {
    "ExecuteTime": {
     "end_time": "2022-05-28T15:57:33.084688Z",
     "start_time": "2022-05-28T15:57:33.070639Z"
    },
    "run_control": {
     "marked": false
    }
   },
   "outputs": [
    {
     "data": {
      "text/plain": [
       "16"
      ]
     },
     "execution_count": 11,
     "metadata": {},
     "output_type": "execute_result"
    }
   ],
   "source": [
    "2 ** 4"
   ]
  },
  {
   "cell_type": "code",
   "execution_count": 12,
   "metadata": {
    "ExecuteTime": {
     "end_time": "2022-05-28T15:57:33.084688Z",
     "start_time": "2022-05-28T15:57:33.070639Z"
    },
    "run_control": {
     "marked": false
    }
   },
   "outputs": [
    {
     "data": {
      "text/plain": [
       "0"
      ]
     },
     "execution_count": 12,
     "metadata": {},
     "output_type": "execute_result"
    }
   ],
   "source": [
    "4 % 2 "
   ]
  },
  {
   "cell_type": "code",
   "execution_count": 13,
   "metadata": {},
   "outputs": [
    {
     "data": {
      "text/plain": [
       "1"
      ]
     },
     "execution_count": 13,
     "metadata": {},
     "output_type": "execute_result"
    }
   ],
   "source": [
    "5 % 2"
   ]
  },
  {
   "cell_type": "code",
   "execution_count": 14,
   "metadata": {
    "ExecuteTime": {
     "end_time": "2022-05-28T15:57:33.084688Z",
     "start_time": "2022-05-28T15:57:33.070639Z"
    },
    "run_control": {
     "marked": false
    }
   },
   "outputs": [
    {
     "name": "stdout",
     "output_type": "stream",
     "text": [
      "1\n"
     ]
    }
   ],
   "source": [
    "print(5 % 2)"
   ]
  },
  {
   "cell_type": "code",
   "execution_count": 15,
   "metadata": {
    "ExecuteTime": {
     "end_time": "2022-05-28T15:57:33.084688Z",
     "start_time": "2022-05-28T15:57:33.070639Z"
    },
    "run_control": {
     "marked": false
    }
   },
   "outputs": [
    {
     "data": {
      "text/plain": [
       "7"
      ]
     },
     "execution_count": 15,
     "metadata": {},
     "output_type": "execute_result"
    }
   ],
   "source": [
    "15 // 2"
   ]
  },
  {
   "cell_type": "code",
   "execution_count": 17,
   "metadata": {
    "ExecuteTime": {
     "end_time": "2022-05-28T15:57:33.084688Z",
     "start_time": "2022-05-28T15:57:33.070639Z"
    },
    "run_control": {
     "marked": false
    }
   },
   "outputs": [
    {
     "data": {
      "text/plain": [
       "50"
      ]
     },
     "execution_count": 17,
     "metadata": {},
     "output_type": "execute_result"
    }
   ],
   "source": [
    "(2 + 3) * (5 + 5) "
   ]
  },
  {
   "cell_type": "markdown",
   "metadata": {
    "ExecuteTime": {
     "end_time": "2022-05-28T15:57:33.084688Z",
     "start_time": "2022-05-28T15:57:33.070639Z"
    },
    "run_control": {
     "marked": false
    }
   },
   "source": [
    "### Float"
   ]
  },
  {
   "cell_type": "code",
   "execution_count": 18,
   "metadata": {
    "ExecuteTime": {
     "end_time": "2023-09-30T16:21:19.484517Z",
     "start_time": "2023-09-30T16:21:19.463503Z"
    }
   },
   "outputs": [
    {
     "data": {
      "text/plain": [
       "1.0"
      ]
     },
     "execution_count": 18,
     "metadata": {},
     "output_type": "execute_result"
    }
   ],
   "source": [
    "1.0 "
   ]
  },
  {
   "cell_type": "code",
   "execution_count": 19,
   "metadata": {
    "ExecuteTime": {
     "end_time": "2023-09-30T16:21:29.115985Z",
     "start_time": "2023-09-30T16:21:29.096984Z"
    },
    "run_control": {
     "marked": false
    }
   },
   "outputs": [
    {
     "data": {
      "text/plain": [
       "-6.75"
      ]
     },
     "execution_count": 19,
     "metadata": {},
     "output_type": "execute_result"
    }
   ],
   "source": [
    "1.25 - 8.0"
   ]
  },
  {
   "cell_type": "code",
   "execution_count": 20,
   "metadata": {
    "ExecuteTime": {
     "end_time": "2023-09-30T16:21:32.065610Z",
     "start_time": "2023-09-30T16:21:32.050612Z"
    },
    "run_control": {
     "marked": false
    }
   },
   "outputs": [
    {
     "data": {
      "text/plain": [
       "2.0"
      ]
     },
     "execution_count": 20,
     "metadata": {},
     "output_type": "execute_result"
    }
   ],
   "source": [
    "1 + 1.0"
   ]
  },
  {
   "cell_type": "markdown",
   "metadata": {
    "ExecuteTime": {
     "end_time": "2022-05-28T15:57:33.084688Z",
     "start_time": "2022-05-28T15:57:33.070639Z"
    },
    "run_control": {
     "marked": false
    }
   },
   "source": [
    "### Strings"
   ]
  },
  {
   "cell_type": "code",
   "execution_count": 22,
   "metadata": {
    "ExecuteTime": {
     "end_time": "2022-05-28T15:57:33.084688Z",
     "start_time": "2022-05-28T15:57:33.070639Z"
    },
    "run_control": {
     "marked": false
    }
   },
   "outputs": [
    {
     "data": {
      "text/plain": [
       "'This is a sentence and in python it is treated as a string'"
      ]
     },
     "execution_count": 22,
     "metadata": {},
     "output_type": "execute_result"
    }
   ],
   "source": [
    "'This is a sentence and in python it is treated as a string'"
   ]
  },
  {
   "cell_type": "code",
   "execution_count": 23,
   "metadata": {
    "ExecuteTime": {
     "end_time": "2022-05-28T15:57:33.084688Z",
     "start_time": "2022-05-28T15:57:33.070639Z"
    },
    "run_control": {
     "marked": false
    }
   },
   "outputs": [
    {
     "data": {
      "text/plain": [
       "'string with single quotes'"
      ]
     },
     "execution_count": 23,
     "metadata": {},
     "output_type": "execute_result"
    }
   ],
   "source": [
    "'string with single quotes'"
   ]
  },
  {
   "cell_type": "code",
   "execution_count": 24,
   "metadata": {
    "ExecuteTime": {
     "end_time": "2022-05-28T16:02:06.123227Z",
     "start_time": "2022-05-28T16:02:06.107230Z"
    }
   },
   "outputs": [
    {
     "data": {
      "text/plain": [
       "'string with double quotes'"
      ]
     },
     "execution_count": 24,
     "metadata": {},
     "output_type": "execute_result"
    }
   ],
   "source": [
    "\"string with double quotes\""
   ]
  },
  {
   "cell_type": "code",
   "execution_count": 25,
   "metadata": {
    "ExecuteTime": {
     "end_time": "2022-05-28T16:02:45.699227Z",
     "start_time": "2022-05-28T16:02:45.684216Z"
    }
   },
   "outputs": [
    {
     "ename": "SyntaxError",
     "evalue": "invalid syntax (3762654407.py, line 1)",
     "output_type": "error",
     "traceback": [
      "\u001b[1;36m  File \u001b[1;32m\"C:\\Users\\PC\\AppData\\Local\\Temp\\ipykernel_15972\\3762654407.py\"\u001b[1;36m, line \u001b[1;32m1\u001b[0m\n\u001b[1;33m    'He doesn't like Mangoes'\u001b[0m\n\u001b[1;37m              ^\u001b[0m\n\u001b[1;31mSyntaxError\u001b[0m\u001b[1;31m:\u001b[0m invalid syntax\n"
     ]
    }
   ],
   "source": [
    "'He doesn't like Mangoes'\n",
    "# gives syntax error beacuse single quotes used inside of single quotes"
   ]
  },
  {
   "cell_type": "code",
   "execution_count": 26,
   "metadata": {
    "ExecuteTime": {
     "end_time": "2022-05-28T16:02:58.375730Z",
     "start_time": "2022-05-28T16:02:58.358701Z"
    }
   },
   "outputs": [
    {
     "data": {
      "text/plain": [
       "\"He doesn't like Mangoes\""
      ]
     },
     "execution_count": 26,
     "metadata": {},
     "output_type": "execute_result"
    }
   ],
   "source": [
    "\"He doesn't like Mangoes\"\n",
    "# using single quotes within \"\" quotes"
   ]
  },
  {
   "cell_type": "code",
   "execution_count": 27,
   "metadata": {
    "ExecuteTime": {
     "end_time": "2023-09-30T16:25:47.007460Z",
     "start_time": "2023-09-30T16:25:46.996448Z"
    }
   },
   "outputs": [
    {
     "data": {
      "text/plain": [
       "\"He doesn't like Mangoes\""
      ]
     },
     "execution_count": 27,
     "metadata": {},
     "output_type": "execute_result"
    }
   ],
   "source": [
    "'He doesn\\'t like Mangoes'  # \\ -> escape char"
   ]
  },
  {
   "cell_type": "markdown",
   "metadata": {},
   "source": [
    "### Booleans"
   ]
  },
  {
   "cell_type": "code",
   "execution_count": 28,
   "metadata": {
    "ExecuteTime": {
     "end_time": "2023-09-30T16:23:13.013540Z",
     "start_time": "2023-09-30T16:23:13.001540Z"
    }
   },
   "outputs": [
    {
     "data": {
      "text/plain": [
       "True"
      ]
     },
     "execution_count": 28,
     "metadata": {},
     "output_type": "execute_result"
    }
   ],
   "source": [
    "True    # 1"
   ]
  },
  {
   "cell_type": "code",
   "execution_count": 29,
   "metadata": {
    "ExecuteTime": {
     "end_time": "2023-09-30T16:23:13.420533Z",
     "start_time": "2023-09-30T16:23:13.403532Z"
    }
   },
   "outputs": [
    {
     "data": {
      "text/plain": [
       "False"
      ]
     },
     "execution_count": 29,
     "metadata": {},
     "output_type": "execute_result"
    }
   ],
   "source": [
    "False   # 0"
   ]
  },
  {
   "cell_type": "markdown",
   "metadata": {},
   "source": [
    "### Variables / Placeholders"
   ]
  },
  {
   "cell_type": "code",
   "execution_count": 30,
   "metadata": {
    "ExecuteTime": {
     "end_time": "2023-09-30T16:29:03.458663Z",
     "start_time": "2023-09-30T16:29:03.447664Z"
    }
   },
   "outputs": [],
   "source": [
    "this_is_my_placeholder_name = 3454397345034"
   ]
  },
  {
   "cell_type": "code",
   "execution_count": 32,
   "metadata": {
    "ExecuteTime": {
     "end_time": "2023-09-30T16:29:11.122740Z",
     "start_time": "2023-09-30T16:29:11.112794Z"
    }
   },
   "outputs": [
    {
     "data": {
      "text/plain": [
       "3454397345034"
      ]
     },
     "execution_count": 32,
     "metadata": {},
     "output_type": "execute_result"
    }
   ],
   "source": [
    "this_is_my_placeholder_name "
   ]
  },
  {
   "cell_type": "code",
   "execution_count": 42,
   "metadata": {
    "ExecuteTime": {
     "end_time": "2023-09-30T16:43:34.635366Z",
     "start_time": "2023-09-30T16:43:34.629332Z"
    }
   },
   "outputs": [],
   "source": [
    "# Cannot start with number , special charaters\n",
    "# Cannot have special charaters , spaces , bools in anywhere\n",
    "# but can have number in between or end\n",
    "name_of_var = 2"
   ]
  },
  {
   "cell_type": "code",
   "execution_count": 43,
   "metadata": {
    "ExecuteTime": {
     "end_time": "2023-09-30T16:43:46.166454Z",
     "start_time": "2023-09-30T16:43:46.161461Z"
    }
   },
   "outputs": [
    {
     "name": "stdout",
     "output_type": "stream",
     "text": [
      "2\n"
     ]
    }
   ],
   "source": [
    "print(name_of_var)"
   ]
  },
  {
   "cell_type": "code",
   "execution_count": 44,
   "metadata": {
    "ExecuteTime": {
     "end_time": "2023-09-30T16:44:20.046353Z",
     "start_time": "2023-09-30T16:44:20.038383Z"
    }
   },
   "outputs": [
    {
     "data": {
      "text/plain": [
       "7"
      ]
     },
     "execution_count": 44,
     "metadata": {},
     "output_type": "execute_result"
    }
   ],
   "source": [
    "name_of_var + 5"
   ]
  },
  {
   "cell_type": "code",
   "execution_count": 45,
   "metadata": {
    "ExecuteTime": {
     "end_time": "2023-09-30T16:44:40.174195Z",
     "start_time": "2023-09-30T16:44:40.154156Z"
    }
   },
   "outputs": [
    {
     "data": {
      "text/plain": [
       "2"
      ]
     },
     "execution_count": 45,
     "metadata": {},
     "output_type": "execute_result"
    }
   ],
   "source": [
    "name_of_var"
   ]
  },
  {
   "cell_type": "code",
   "execution_count": 62,
   "metadata": {
    "ExecuteTime": {
     "end_time": "2023-09-30T16:47:18.303986Z",
     "start_time": "2023-09-30T16:47:18.285944Z"
    }
   },
   "outputs": [],
   "source": [
    "x = 2\n",
    "y = 3\n",
    "\n",
    "x,y = 2,3  # there should be equal no. on both sides also called unpacking"
   ]
  },
  {
   "cell_type": "code",
   "execution_count": 63,
   "metadata": {
    "ExecuteTime": {
     "end_time": "2023-09-30T16:47:18.791947Z",
     "start_time": "2023-09-30T16:47:18.788944Z"
    }
   },
   "outputs": [],
   "source": [
    "z = x + y  "
   ]
  },
  {
   "cell_type": "code",
   "execution_count": 64,
   "metadata": {
    "ExecuteTime": {
     "end_time": "2023-09-30T16:47:19.451947Z",
     "start_time": "2023-09-30T16:47:19.440944Z"
    }
   },
   "outputs": [
    {
     "data": {
      "text/plain": [
       "5"
      ]
     },
     "execution_count": 64,
     "metadata": {},
     "output_type": "execute_result"
    }
   ],
   "source": [
    "z"
   ]
  },
  {
   "cell_type": "code",
   "execution_count": 65,
   "metadata": {
    "ExecuteTime": {
     "end_time": "2023-09-30T16:47:23.915448Z",
     "start_time": "2023-09-30T16:47:23.898420Z"
    }
   },
   "outputs": [
    {
     "data": {
      "text/plain": [
       "2"
      ]
     },
     "execution_count": 65,
     "metadata": {},
     "output_type": "execute_result"
    }
   ],
   "source": [
    "x"
   ]
  },
  {
   "cell_type": "code",
   "execution_count": 66,
   "metadata": {
    "ExecuteTime": {
     "end_time": "2023-09-30T16:47:25.488863Z",
     "start_time": "2023-09-30T16:47:25.472829Z"
    }
   },
   "outputs": [
    {
     "data": {
      "text/plain": [
       "10"
      ]
     },
     "execution_count": 66,
     "metadata": {},
     "output_type": "execute_result"
    }
   ],
   "source": [
    "# variable reassigned\n",
    "x = 10\n",
    "x"
   ]
  },
  {
   "cell_type": "markdown",
   "metadata": {},
   "source": [
    "### In-build functions\n",
    "python comes with many inbuild functions."
   ]
  },
  {
   "cell_type": "markdown",
   "metadata": {},
   "source": [
    "### Printing "
   ]
  },
  {
   "cell_type": "code",
   "execution_count": 1,
   "metadata": {
    "ExecuteTime": {
     "end_time": "2023-09-30T16:56:13.131436Z",
     "start_time": "2023-09-30T16:56:13.115399Z"
    }
   },
   "outputs": [],
   "source": [
    "x = 'hello'\n",
    "y = 3"
   ]
  },
  {
   "cell_type": "code",
   "execution_count": 7,
   "metadata": {},
   "outputs": [
    {
     "name": "stdout",
     "output_type": "stream",
     "text": [
      "hello\n"
     ]
    }
   ],
   "source": [
    "print(x)"
   ]
  },
  {
   "cell_type": "code",
   "execution_count": 8,
   "metadata": {
    "ExecuteTime": {
     "end_time": "2023-09-30T16:56:13.479405Z",
     "start_time": "2023-09-30T16:56:13.472403Z"
    },
    "run_control": {
     "marked": false
    }
   },
   "outputs": [
    {
     "name": "stdout",
     "output_type": "stream",
     "text": [
      "hello 3 6 9\n"
     ]
    }
   ],
   "source": [
    "print(x , y , y + y , y**2) # shift + tab  inside brackets --> opens doc"
   ]
  },
  {
   "cell_type": "code",
   "execution_count": 9,
   "metadata": {
    "ExecuteTime": {
     "end_time": "2023-09-30T16:56:13.479405Z",
     "start_time": "2023-09-30T16:56:13.472403Z"
    },
    "run_control": {
     "marked": false
    }
   },
   "outputs": [
    {
     "name": "stdout",
     "output_type": "stream",
     "text": [
      "hello , 3 , 6 , 9\n"
     ]
    }
   ],
   "source": [
    "print(x , y , y + y , y**2 , sep = ' , ') # shift + tab  inside brackets --> opens doc"
   ]
  },
  {
   "cell_type": "code",
   "execution_count": 44,
   "metadata": {
    "ExecuteTime": {
     "end_time": "2023-09-30T16:56:42.610032Z",
     "start_time": "2023-09-30T16:56:42.592034Z"
    }
   },
   "outputs": [
    {
     "name": "stdout",
     "output_type": "stream",
     "text": [
      "Hello World\n"
     ]
    }
   ],
   "source": [
    "print('Hello World')"
   ]
  },
  {
   "cell_type": "code",
   "execution_count": 45,
   "metadata": {
    "ExecuteTime": {
     "end_time": "2022-05-28T16:29:33.799863Z",
     "start_time": "2022-05-28T16:29:33.787858Z"
    }
   },
   "outputs": [
    {
     "name": "stdout",
     "output_type": "stream",
     "text": [
      "Hi_python hello 3.0 This_is_test\n"
     ]
    }
   ],
   "source": [
    "print('Hi_python' , x , 3.0 , 'This_is_test')  # shift + tab --> opens doc"
   ]
  },
  {
   "cell_type": "markdown",
   "metadata": {},
   "source": [
    "### **Type**"
   ]
  },
  {
   "cell_type": "code",
   "execution_count": 10,
   "metadata": {
    "ExecuteTime": {
     "end_time": "2022-05-28T16:29:58.624281Z",
     "start_time": "2022-05-28T16:29:58.605245Z"
    }
   },
   "outputs": [
    {
     "data": {
      "text/plain": [
       "int"
      ]
     },
     "execution_count": 10,
     "metadata": {},
     "output_type": "execute_result"
    }
   ],
   "source": [
    "type( 2 )"
   ]
  },
  {
   "cell_type": "code",
   "execution_count": 47,
   "metadata": {
    "ExecuteTime": {
     "end_time": "2022-05-28T16:34:20.380153Z",
     "start_time": "2022-05-28T16:34:20.364084Z"
    }
   },
   "outputs": [
    {
     "data": {
      "text/plain": [
       "bool"
      ]
     },
     "execution_count": 47,
     "metadata": {},
     "output_type": "execute_result"
    }
   ],
   "source": [
    "type(True)"
   ]
  },
  {
   "cell_type": "code",
   "execution_count": 11,
   "metadata": {},
   "outputs": [
    {
     "name": "stdout",
     "output_type": "stream",
     "text": [
      "<class 'bool'>\n"
     ]
    }
   ],
   "source": [
    "print(type(True))"
   ]
  },
  {
   "cell_type": "code",
   "execution_count": 48,
   "metadata": {
    "ExecuteTime": {
     "end_time": "2022-05-28T16:32:22.533301Z",
     "start_time": "2022-05-28T16:32:22.520295Z"
    }
   },
   "outputs": [
    {
     "data": {
      "text/plain": [
       "str"
      ]
     },
     "execution_count": 48,
     "metadata": {},
     "output_type": "execute_result"
    }
   ],
   "source": [
    "type('all')"
   ]
  },
  {
   "cell_type": "code",
   "execution_count": 49,
   "metadata": {
    "ExecuteTime": {
     "end_time": "2022-05-28T16:32:24.013274Z",
     "start_time": "2022-05-28T16:32:24.008238Z"
    },
    "run_control": {
     "marked": false
    }
   },
   "outputs": [
    {
     "data": {
      "text/plain": [
       "float"
      ]
     },
     "execution_count": 49,
     "metadata": {},
     "output_type": "execute_result"
    }
   ],
   "source": [
    "x = 8.0\n",
    "type(x)"
   ]
  },
  {
   "cell_type": "markdown",
   "metadata": {},
   "source": [
    "### Inter-converting string , float and int"
   ]
  },
  {
   "cell_type": "markdown",
   "metadata": {},
   "source": [
    "**Converting to int**\n",
    "\n",
    "only the values which are number can be converted to int"
   ]
  },
  {
   "cell_type": "code",
   "execution_count": 14,
   "metadata": {
    "ExecuteTime": {
     "end_time": "2023-09-30T16:58:59.618514Z",
     "start_time": "2023-09-30T16:58:59.602557Z"
    }
   },
   "outputs": [],
   "source": [
    "s = '10'"
   ]
  },
  {
   "cell_type": "code",
   "execution_count": 15,
   "metadata": {
    "ExecuteTime": {
     "end_time": "2023-09-30T17:00:12.078211Z",
     "start_time": "2023-09-30T17:00:12.061211Z"
    }
   },
   "outputs": [
    {
     "data": {
      "text/plain": [
       "10"
      ]
     },
     "execution_count": 15,
     "metadata": {},
     "output_type": "execute_result"
    }
   ],
   "source": [
    "int(s)"
   ]
  },
  {
   "cell_type": "code",
   "execution_count": 52,
   "metadata": {
    "ExecuteTime": {
     "end_time": "2023-09-30T17:00:15.021397Z",
     "start_time": "2023-09-30T17:00:15.004396Z"
    }
   },
   "outputs": [
    {
     "data": {
      "text/plain": [
       "'10'"
      ]
     },
     "execution_count": 52,
     "metadata": {},
     "output_type": "execute_result"
    }
   ],
   "source": [
    "s"
   ]
  },
  {
   "cell_type": "code",
   "execution_count": 53,
   "metadata": {
    "ExecuteTime": {
     "end_time": "2023-09-30T17:02:33.796706Z",
     "start_time": "2023-09-30T17:02:33.789706Z"
    },
    "run_control": {
     "marked": false
    }
   },
   "outputs": [],
   "source": [
    "s = int(s)"
   ]
  },
  {
   "cell_type": "code",
   "execution_count": 54,
   "metadata": {
    "ExecuteTime": {
     "end_time": "2023-09-30T17:03:08.025314Z",
     "start_time": "2023-09-30T17:03:08.006315Z"
    }
   },
   "outputs": [
    {
     "data": {
      "text/plain": [
       "10"
      ]
     },
     "execution_count": 54,
     "metadata": {},
     "output_type": "execute_result"
    }
   ],
   "source": [
    "s "
   ]
  },
  {
   "cell_type": "code",
   "execution_count": 55,
   "metadata": {
    "ExecuteTime": {
     "end_time": "2023-09-30T17:02:41.101808Z",
     "start_time": "2023-09-30T17:02:41.096772Z"
    }
   },
   "outputs": [],
   "source": [
    "v = int(s)"
   ]
  },
  {
   "cell_type": "code",
   "execution_count": 56,
   "metadata": {
    "ExecuteTime": {
     "end_time": "2023-09-30T17:02:42.021771Z",
     "start_time": "2023-09-30T17:02:42.013798Z"
    }
   },
   "outputs": [
    {
     "data": {
      "text/plain": [
       "10"
      ]
     },
     "execution_count": 56,
     "metadata": {},
     "output_type": "execute_result"
    }
   ],
   "source": [
    "v"
   ]
  },
  {
   "cell_type": "code",
   "execution_count": 57,
   "metadata": {
    "ExecuteTime": {
     "end_time": "2023-09-30T17:02:57.374587Z",
     "start_time": "2023-09-30T17:02:57.370588Z"
    }
   },
   "outputs": [],
   "source": [
    "f = 10.0\n",
    "fc = int(f)"
   ]
  },
  {
   "cell_type": "code",
   "execution_count": 58,
   "metadata": {
    "ExecuteTime": {
     "end_time": "2023-09-30T17:03:25.804014Z",
     "start_time": "2023-09-30T17:03:25.790000Z"
    }
   },
   "outputs": [
    {
     "name": "stdout",
     "output_type": "stream",
     "text": [
      "10\n"
     ]
    }
   ],
   "source": [
    "print(fc)"
   ]
  },
  {
   "cell_type": "code",
   "execution_count": 59,
   "metadata": {
    "ExecuteTime": {
     "end_time": "2023-09-30T17:03:57.931354Z",
     "start_time": "2023-09-30T17:03:57.924398Z"
    }
   },
   "outputs": [
    {
     "name": "stdout",
     "output_type": "stream",
     "text": [
      "<class 'float'> <class 'int'>\n"
     ]
    }
   ],
   "source": [
    "print(    type(f)    ,    type(fc)    )"
   ]
  },
  {
   "cell_type": "code",
   "execution_count": 60,
   "metadata": {
    "ExecuteTime": {
     "end_time": "2022-05-28T16:36:34.760124Z",
     "start_time": "2022-05-28T16:36:34.742094Z"
    }
   },
   "outputs": [
    {
     "ename": "ValueError",
     "evalue": "invalid literal for int() with base 10: 'hello'",
     "output_type": "error",
     "traceback": [
      "\u001b[1;31m---------------------------------------------------------------------------\u001b[0m",
      "\u001b[1;31mValueError\u001b[0m                                Traceback (most recent call last)",
      "\u001b[1;32m~\\AppData\\Local\\Temp\\ipykernel_15980\\1706697438.py\u001b[0m in \u001b[0;36m<module>\u001b[1;34m\u001b[0m\n\u001b[1;32m----> 1\u001b[1;33m \u001b[0ms\u001b[0m \u001b[1;33m=\u001b[0m \u001b[0mint\u001b[0m\u001b[1;33m(\u001b[0m\u001b[1;34m'hello'\u001b[0m\u001b[1;33m)\u001b[0m\u001b[1;33m\u001b[0m\u001b[1;33m\u001b[0m\u001b[0m\n\u001b[0m",
      "\u001b[1;31mValueError\u001b[0m: invalid literal for int() with base 10: 'hello'"
     ]
    }
   ],
   "source": [
    "s = int('hello') "
   ]
  },
  {
   "cell_type": "markdown",
   "metadata": {},
   "source": [
    "**Converting to float**\n",
    "\n",
    "only the values which are number can be converted to float"
   ]
  },
  {
   "cell_type": "code",
   "execution_count": 61,
   "metadata": {
    "ExecuteTime": {
     "end_time": "2022-05-28T16:43:40.108167Z",
     "start_time": "2022-05-28T16:43:40.094166Z"
    }
   },
   "outputs": [
    {
     "name": "stdout",
     "output_type": "stream",
     "text": [
      "1.0\n",
      "10.0\n",
      "34.0\n"
     ]
    }
   ],
   "source": [
    "print(   float('1.0')   )\n",
    "print(   float(10)      )\n",
    "print(   float('34')    )"
   ]
  },
  {
   "cell_type": "markdown",
   "metadata": {},
   "source": [
    "**Converting to string**\n",
    "\n",
    "any value can be converted to float"
   ]
  },
  {
   "cell_type": "code",
   "execution_count": 62,
   "metadata": {
    "ExecuteTime": {
     "end_time": "2022-05-28T16:44:07.011274Z",
     "start_time": "2022-05-28T16:44:06.996275Z"
    }
   },
   "outputs": [
    {
     "data": {
      "text/plain": [
       "'1.0'"
      ]
     },
     "execution_count": 62,
     "metadata": {},
     "output_type": "execute_result"
    }
   ],
   "source": [
    "str(1.0) "
   ]
  },
  {
   "cell_type": "code",
   "execution_count": 63,
   "metadata": {
    "ExecuteTime": {
     "end_time": "2022-05-28T16:44:24.639249Z",
     "start_time": "2022-05-28T16:44:24.623211Z"
    }
   },
   "outputs": [
    {
     "data": {
      "text/plain": [
       "'True'"
      ]
     },
     "execution_count": 63,
     "metadata": {},
     "output_type": "execute_result"
    }
   ],
   "source": [
    "str(True)"
   ]
  },
  {
   "cell_type": "code",
   "execution_count": 64,
   "metadata": {
    "ExecuteTime": {
     "end_time": "2023-09-30T17:05:46.240855Z",
     "start_time": "2023-09-30T17:05:46.223213Z"
    }
   },
   "outputs": [
    {
     "name": "stdout",
     "output_type": "stream",
     "text": [
      "<class 'str'>\n"
     ]
    }
   ],
   "source": [
    "print(   type(  str(1.0)   )    )  "
   ]
  },
  {
   "cell_type": "markdown",
   "metadata": {},
   "source": [
    "**Converting to Bool**"
   ]
  },
  {
   "cell_type": "code",
   "execution_count": 65,
   "metadata": {
    "ExecuteTime": {
     "end_time": "2022-05-28T16:46:28.995506Z",
     "start_time": "2022-05-28T16:46:28.977558Z"
    }
   },
   "outputs": [
    {
     "data": {
      "text/plain": [
       "True"
      ]
     },
     "execution_count": 65,
     "metadata": {},
     "output_type": "execute_result"
    }
   ],
   "source": [
    "bool(\"True\") "
   ]
  },
  {
   "cell_type": "code",
   "execution_count": 66,
   "metadata": {
    "ExecuteTime": {
     "end_time": "2022-05-28T16:46:29.280511Z",
     "start_time": "2022-05-28T16:46:29.263507Z"
    }
   },
   "outputs": [
    {
     "data": {
      "text/plain": [
       "bool"
      ]
     },
     "execution_count": 66,
     "metadata": {},
     "output_type": "execute_result"
    }
   ],
   "source": [
    "type(  bool('True')  )"
   ]
  },
  {
   "cell_type": "code",
   "execution_count": 67,
   "metadata": {
    "ExecuteTime": {
     "end_time": "2022-05-28T16:46:26.460604Z",
     "start_time": "2022-05-28T16:46:26.438569Z"
    },
    "run_control": {
     "marked": false
    }
   },
   "outputs": [
    {
     "data": {
      "text/plain": [
       "True"
      ]
     },
     "execution_count": 67,
     "metadata": {},
     "output_type": "execute_result"
    }
   ],
   "source": [
    "bool(1)"
   ]
  },
  {
   "cell_type": "code",
   "execution_count": 68,
   "metadata": {
    "ExecuteTime": {
     "end_time": "2022-05-28T16:46:26.460604Z",
     "start_time": "2022-05-28T16:46:26.438569Z"
    },
    "run_control": {
     "marked": false
    }
   },
   "outputs": [
    {
     "data": {
      "text/plain": [
       "True"
      ]
     },
     "execution_count": 68,
     "metadata": {},
     "output_type": "execute_result"
    }
   ],
   "source": [
    "bool(100)"
   ]
  },
  {
   "cell_type": "code",
   "execution_count": 69,
   "metadata": {},
   "outputs": [],
   "source": [
    "# Falsy values -> '' , 0 , anything except falsy values will be converted to True using bool function"
   ]
  },
  {
   "cell_type": "code",
   "execution_count": 17,
   "metadata": {
    "ExecuteTime": {
     "end_time": "2023-09-30T17:09:27.396019Z",
     "start_time": "2023-09-30T17:09:27.383010Z"
    }
   },
   "outputs": [
    {
     "data": {
      "text/plain": [
       "False"
      ]
     },
     "execution_count": 17,
     "metadata": {},
     "output_type": "execute_result"
    }
   ],
   "source": [
    "bool(0)  # '' "
   ]
  },
  {
   "cell_type": "markdown",
   "metadata": {},
   "source": [
    "### Comments\n",
    "They are used for giving a information about anything . They come in action when # i put before a line code\n",
    "\n",
    "when the program runs seeing the # character the program skips that line."
   ]
  },
  {
   "cell_type": "code",
   "execution_count": 18,
   "metadata": {
    "ExecuteTime": {
     "end_time": "2022-02-26T17:49:32.953875Z",
     "start_time": "2022-02-26T17:49:32.939878Z"
    }
   },
   "outputs": [
    {
     "name": "stdout",
     "output_type": "stream",
     "text": [
      "5\n",
      "11\n"
     ]
    }
   ],
   "source": [
    "print(2 + 3) # this is footnote/comment for what is happening in this line - so addition \n",
    "print(3 + 8)"
   ]
  },
  {
   "cell_type": "code",
   "execution_count": 19,
   "metadata": {},
   "outputs": [
    {
     "ename": "SyntaxError",
     "evalue": "invalid syntax (1759759399.py, line 2)",
     "output_type": "error",
     "traceback": [
      "\u001b[1;36m  File \u001b[1;32m\"C:\\Users\\PC\\AppData\\Local\\Temp\\ipykernel_14488\\1759759399.py\"\u001b[1;36m, line \u001b[1;32m2\u001b[0m\n\u001b[1;33m    but i can not carry on with the comment in this line\u001b[0m\n\u001b[1;37m        ^\u001b[0m\n\u001b[1;31mSyntaxError\u001b[0m\u001b[1;31m:\u001b[0m invalid syntax\n"
     ]
    }
   ],
   "source": [
    "# this is my comment \n",
    "but i can not carry on with the comment in this line"
   ]
  },
  {
   "cell_type": "code",
   "execution_count": 73,
   "metadata": {
    "ExecuteTime": {
     "end_time": "2023-09-30T17:13:26.646128Z",
     "start_time": "2023-09-30T17:13:26.642129Z"
    },
    "run_control": {
     "marked": false
    }
   },
   "outputs": [
    {
     "data": {
      "text/plain": [
       "' used for multi line comment also called doc string.This is a multi line comment'"
      ]
     },
     "execution_count": 73,
     "metadata": {},
     "output_type": "execute_result"
    }
   ],
   "source": [
    "''' used for multi line comment also called doc string.\\\n",
    "This is a multi line comment\\\n",
    "'''"
   ]
  },
  {
   "cell_type": "code",
   "execution_count": 23,
   "metadata": {
    "ExecuteTime": {
     "end_time": "2023-09-30T17:14:19.122406Z",
     "start_time": "2023-09-30T17:14:19.109406Z"
    },
    "code_folding": []
   },
   "outputs": [
    {
     "name": "stdout",
     "output_type": "stream",
     "text": [
      "17\n"
     ]
    }
   ],
   "source": [
    "# comments are also used for making code inactive\n",
    "# print(5 + 6)\n",
    "print(6 + 11)"
   ]
  },
  {
   "cell_type": "code",
   "execution_count": 75,
   "metadata": {
    "ExecuteTime": {
     "end_time": "2022-02-26T17:51:04.465373Z",
     "start_time": "2022-02-26T17:51:04.462323Z"
    },
    "run_control": {
     "marked": false
    }
   },
   "outputs": [
    {
     "data": {
      "text/plain": [
       "11"
      ]
     },
     "execution_count": 75,
     "metadata": {},
     "output_type": "execute_result"
    }
   ],
   "source": [
    "5 + 6 \n",
    "6 + 7 \n",
    "# shortcut in jupyter notebook for putting # and removing # in start of line is  - ctrl + /"
   ]
  },
  {
   "cell_type": "markdown",
   "metadata": {},
   "source": [
    "## Assignment Operators\n",
    "**=**  : assigns a value to a variable\n",
    "\n",
    "**+=**  : c += a   is equivalent to c = c + a\n",
    "\n",
    "**- =**  : c -= a   is equivalent to c = c - a\n",
    "\n",
    "**(*=)**  : c *= a   is equivalent to c = c * a\n",
    "\n",
    "**/=**  : c /= a   is equivalent to c = c / a\n",
    "\n",
    "**%=**  : c %= a   is equivalent to c = c % a\n",
    "\n",
    "**//=**  : c //= a   is equivalent to c = c // a"
   ]
  },
  {
   "cell_type": "code",
   "execution_count": 76,
   "metadata": {
    "ExecuteTime": {
     "end_time": "2023-09-30T17:17:26.013624Z",
     "start_time": "2023-09-30T17:17:25.999624Z"
    }
   },
   "outputs": [],
   "source": [
    "x = 1 \n",
    "y = 2"
   ]
  },
  {
   "cell_type": "code",
   "execution_count": 77,
   "metadata": {
    "ExecuteTime": {
     "end_time": "2023-09-30T17:17:32.503394Z",
     "start_time": "2023-09-30T17:17:32.499396Z"
    }
   },
   "outputs": [],
   "source": [
    "x = x + y"
   ]
  },
  {
   "cell_type": "code",
   "execution_count": 78,
   "metadata": {
    "ExecuteTime": {
     "end_time": "2023-09-30T17:17:33.261393Z",
     "start_time": "2023-09-30T17:17:33.245394Z"
    }
   },
   "outputs": [
    {
     "data": {
      "text/plain": [
       "3"
      ]
     },
     "execution_count": 78,
     "metadata": {},
     "output_type": "execute_result"
    }
   ],
   "source": [
    "x"
   ]
  },
  {
   "cell_type": "code",
   "execution_count": 79,
   "metadata": {
    "ExecuteTime": {
     "end_time": "2023-09-30T17:17:58.183640Z",
     "start_time": "2023-09-30T17:17:58.168598Z"
    }
   },
   "outputs": [
    {
     "data": {
      "text/plain": [
       "5"
      ]
     },
     "execution_count": 79,
     "metadata": {},
     "output_type": "execute_result"
    }
   ],
   "source": [
    "x += y # x = x + y   \n",
    "x  "
   ]
  },
  {
   "cell_type": "code",
   "execution_count": 80,
   "metadata": {
    "ExecuteTime": {
     "end_time": "2023-09-30T17:18:56.643120Z",
     "start_time": "2023-09-30T17:18:56.634215Z"
    }
   },
   "outputs": [
    {
     "data": {
      "text/plain": [
       "3"
      ]
     },
     "execution_count": 80,
     "metadata": {},
     "output_type": "execute_result"
    }
   ],
   "source": [
    "x -= y # x = x - y\n",
    "x"
   ]
  },
  {
   "cell_type": "code",
   "execution_count": 81,
   "metadata": {
    "ExecuteTime": {
     "end_time": "2022-05-28T16:58:22.868766Z",
     "start_time": "2022-05-28T16:58:22.852767Z"
    }
   },
   "outputs": [
    {
     "data": {
      "text/plain": [
       "1"
      ]
     },
     "execution_count": 81,
     "metadata": {},
     "output_type": "execute_result"
    }
   ],
   "source": [
    "x //= y # x = x // y\n",
    "x"
   ]
  },
  {
   "cell_type": "code",
   "execution_count": 82,
   "metadata": {
    "ExecuteTime": {
     "end_time": "2022-05-28T16:58:26.308776Z",
     "start_time": "2022-05-28T16:58:26.303770Z"
    }
   },
   "outputs": [],
   "source": [
    "x *= y # x = x * y "
   ]
  },
  {
   "cell_type": "code",
   "execution_count": 83,
   "metadata": {
    "ExecuteTime": {
     "end_time": "2022-05-28T16:58:26.610741Z",
     "start_time": "2022-05-28T16:58:26.594719Z"
    }
   },
   "outputs": [
    {
     "data": {
      "text/plain": [
       "2"
      ]
     },
     "execution_count": 83,
     "metadata": {},
     "output_type": "execute_result"
    }
   ],
   "source": [
    "x"
   ]
  },
  {
   "cell_type": "markdown",
   "metadata": {},
   "source": [
    "# Operators\n",
    "\n",
    "## Comparison Operators - \n",
    "They compares the values and returns bool if required\n",
    "\n",
    "**==** : are equal\n",
    "\n",
    "**!=** : not equal\n",
    "\n",
    "**>** : greater than\n",
    "\n",
    "**<** : smaller than\n",
    "\n",
    "**>=** : greater than or equal to\n",
    "\n",
    "**<=** : smaller than or equal to\n"
   ]
  },
  {
   "cell_type": "code",
   "execution_count": 84,
   "metadata": {
    "ExecuteTime": {
     "end_time": "2023-09-30T17:20:22.561363Z",
     "start_time": "2023-09-30T17:20:22.546325Z"
    }
   },
   "outputs": [
    {
     "data": {
      "text/plain": [
       "False"
      ]
     },
     "execution_count": 84,
     "metadata": {},
     "output_type": "execute_result"
    }
   ],
   "source": [
    "1 > 2"
   ]
  },
  {
   "cell_type": "code",
   "execution_count": 85,
   "metadata": {
    "ExecuteTime": {
     "end_time": "2023-09-30T17:20:36.701838Z",
     "start_time": "2023-09-30T17:20:36.689810Z"
    }
   },
   "outputs": [
    {
     "data": {
      "text/plain": [
       "bool"
      ]
     },
     "execution_count": 85,
     "metadata": {},
     "output_type": "execute_result"
    }
   ],
   "source": [
    "type(1 > 2) # type(False)"
   ]
  },
  {
   "cell_type": "code",
   "execution_count": 86,
   "metadata": {
    "ExecuteTime": {
     "end_time": "2023-09-30T17:20:41.429417Z",
     "start_time": "2023-09-30T17:20:41.423417Z"
    }
   },
   "outputs": [
    {
     "data": {
      "text/plain": [
       "True"
      ]
     },
     "execution_count": 86,
     "metadata": {},
     "output_type": "execute_result"
    }
   ],
   "source": [
    "1 < 2"
   ]
  },
  {
   "cell_type": "code",
   "execution_count": 87,
   "metadata": {
    "ExecuteTime": {
     "end_time": "2023-09-30T17:21:07.216177Z",
     "start_time": "2023-09-30T17:21:07.202179Z"
    }
   },
   "outputs": [
    {
     "data": {
      "text/plain": [
       "True"
      ]
     },
     "execution_count": 87,
     "metadata": {},
     "output_type": "execute_result"
    }
   ],
   "source": [
    "1 == 1"
   ]
  },
  {
   "cell_type": "code",
   "execution_count": 88,
   "metadata": {},
   "outputs": [
    {
     "data": {
      "text/plain": [
       "False"
      ]
     },
     "execution_count": 88,
     "metadata": {},
     "output_type": "execute_result"
    }
   ],
   "source": [
    "1 != 1   "
   ]
  },
  {
   "cell_type": "code",
   "execution_count": 89,
   "metadata": {
    "ExecuteTime": {
     "end_time": "2022-05-28T17:05:15.595576Z",
     "start_time": "2022-05-28T17:05:15.578550Z"
    },
    "scrolled": true
   },
   "outputs": [
    {
     "data": {
      "text/plain": [
       "True"
      ]
     },
     "execution_count": 89,
     "metadata": {},
     "output_type": "execute_result"
    }
   ],
   "source": [
    "1 >= 1"
   ]
  },
  {
   "cell_type": "code",
   "execution_count": 90,
   "metadata": {
    "ExecuteTime": {
     "end_time": "2023-09-30T17:21:28.081319Z",
     "start_time": "2023-09-30T17:21:28.065256Z"
    }
   },
   "outputs": [
    {
     "data": {
      "text/plain": [
       "True"
      ]
     },
     "execution_count": 90,
     "metadata": {},
     "output_type": "execute_result"
    }
   ],
   "source": [
    "1 <= 4"
   ]
  },
  {
   "cell_type": "code",
   "execution_count": 91,
   "metadata": {
    "ExecuteTime": {
     "end_time": "2022-05-28T17:05:25.824439Z",
     "start_time": "2022-05-28T17:05:25.810379Z"
    }
   },
   "outputs": [
    {
     "data": {
      "text/plain": [
       "False"
      ]
     },
     "execution_count": 91,
     "metadata": {},
     "output_type": "execute_result"
    }
   ],
   "source": [
    "'hi' == 'bye'"
   ]
  },
  {
   "cell_type": "code",
   "execution_count": 92,
   "metadata": {
    "ExecuteTime": {
     "end_time": "2022-05-28T17:05:29.417730Z",
     "start_time": "2022-05-28T17:05:29.398732Z"
    }
   },
   "outputs": [
    {
     "data": {
      "text/plain": [
       "True"
      ]
     },
     "execution_count": 92,
     "metadata": {},
     "output_type": "execute_result"
    }
   ],
   "source": [
    "'hi' != 'bye'"
   ]
  },
  {
   "cell_type": "code",
   "execution_count": 93,
   "metadata": {
    "ExecuteTime": {
     "end_time": "2023-09-30T17:21:46.581385Z",
     "start_time": "2023-09-30T17:21:46.573381Z"
    }
   },
   "outputs": [
    {
     "data": {
      "text/plain": [
       "False"
      ]
     },
     "execution_count": 93,
     "metadata": {},
     "output_type": "execute_result"
    }
   ],
   "source": [
    "'a' == 'A'"
   ]
  },
  {
   "cell_type": "markdown",
   "metadata": {},
   "source": [
    "# Data Structures / Data Containers / Sequence / Iterables\n",
    "\n",
    "* Lists\n",
    "\n",
    "* Dictionaries\n",
    "\n",
    "* Tuples\n",
    "\n",
    "* Sets"
   ]
  },
  {
   "cell_type": "markdown",
   "metadata": {},
   "source": [
    "## Lists\n",
    "Data type that stores any kind of data.\n",
    "\n",
    "Are recognized by square brackets  [    ]"
   ]
  },
  {
   "cell_type": "code",
   "execution_count": 94,
   "metadata": {},
   "outputs": [],
   "source": [
    "li = []  # empty list"
   ]
  },
  {
   "cell_type": "code",
   "execution_count": 95,
   "metadata": {},
   "outputs": [
    {
     "data": {
      "text/plain": [
       "list"
      ]
     },
     "execution_count": 95,
     "metadata": {},
     "output_type": "execute_result"
    }
   ],
   "source": [
    "type(li)"
   ]
  },
  {
   "cell_type": "code",
   "execution_count": 96,
   "metadata": {
    "ExecuteTime": {
     "end_time": "2023-10-01T13:47:56.255826Z",
     "start_time": "2023-10-01T13:47:56.227823Z"
    }
   },
   "outputs": [
    {
     "data": {
      "text/plain": [
       "['chips', 'cold drink', 3, 'anything', 3.0, True]"
      ]
     },
     "execution_count": 96,
     "metadata": {},
     "output_type": "execute_result"
    }
   ],
   "source": [
    "market_list = [ 'chips' , 'cold drink' , 3  , 'anything'  , 3.0  , True  ]\n",
    "market_list "
   ]
  },
  {
   "cell_type": "code",
   "execution_count": 97,
   "metadata": {
    "ExecuteTime": {
     "end_time": "2022-05-29T13:44:57.025121Z",
     "start_time": "2022-05-29T13:44:57.017119Z"
    }
   },
   "outputs": [
    {
     "data": {
      "text/plain": [
       "list"
      ]
     },
     "execution_count": 97,
     "metadata": {},
     "output_type": "execute_result"
    }
   ],
   "source": [
    "type(market_list)"
   ]
  },
  {
   "cell_type": "code",
   "execution_count": 98,
   "metadata": {
    "ExecuteTime": {
     "end_time": "2023-10-01T13:52:23.746383Z",
     "start_time": "2023-10-01T13:52:23.729346Z"
    }
   },
   "outputs": [
    {
     "data": {
      "text/plain": [
       "[[1, 2], [45, 25, 43], 89, 'hi', 12.0]"
      ]
     },
     "execution_count": 98,
     "metadata": {},
     "output_type": "execute_result"
    }
   ],
   "source": [
    "a = [ [1,2]  ,   [45,25,43]  ,  89 , 'hi' , 12.0 ]\n",
    "a"
   ]
  },
  {
   "cell_type": "markdown",
   "metadata": {},
   "source": [
    "### Tuples\n",
    "used for storing any data type.\n",
    "recoznized by small brackets ()."
   ]
  },
  {
   "cell_type": "code",
   "execution_count": 99,
   "metadata": {
    "ExecuteTime": {
     "end_time": "2023-10-01T13:51:27.507141Z",
     "start_time": "2023-10-01T13:51:27.494149Z"
    }
   },
   "outputs": [
    {
     "data": {
      "text/plain": [
       "(1, 2, 3, 'hi', [1, 2], 333.33, True)"
      ]
     },
     "execution_count": 99,
     "metadata": {},
     "output_type": "execute_result"
    }
   ],
   "source": [
    "a = ( 1 , 2 , 3  , 'hi' , [1,2] , 333.33 , True  )\n",
    "a"
   ]
  },
  {
   "cell_type": "code",
   "execution_count": 100,
   "metadata": {
    "ExecuteTime": {
     "end_time": "2023-10-01T13:51:28.538366Z",
     "start_time": "2023-10-01T13:51:28.523330Z"
    }
   },
   "outputs": [
    {
     "data": {
      "text/plain": [
       "tuple"
      ]
     },
     "execution_count": 100,
     "metadata": {},
     "output_type": "execute_result"
    }
   ],
   "source": [
    "type(a)"
   ]
  },
  {
   "cell_type": "code",
   "execution_count": 101,
   "metadata": {},
   "outputs": [
    {
     "data": {
      "text/plain": [
       "(44,)"
      ]
     },
     "execution_count": 101,
     "metadata": {},
     "output_type": "execute_result"
    }
   ],
   "source": [
    "(44) # It is not a tuple it is just 44 written in brackets.\n",
    "(44,)  # it is a tuple ,due to trailing comma after 44 within the brackets."
   ]
  },
  {
   "cell_type": "code",
   "execution_count": 102,
   "metadata": {
    "ExecuteTime": {
     "end_time": "2022-05-29T13:46:26.966438Z",
     "start_time": "2022-05-29T13:46:26.948439Z"
    }
   },
   "outputs": [
    {
     "data": {
      "text/plain": [
       "((1, 2), [45, 25, 43], 89, 'ko')"
      ]
     },
     "execution_count": 102,
     "metadata": {},
     "output_type": "execute_result"
    }
   ],
   "source": [
    "( (1,2) , [45,25,43] , 89 , 'ko' )"
   ]
  },
  {
   "cell_type": "markdown",
   "metadata": {},
   "source": [
    "**The difference between tuples and list are that tuples are immutable (means they cannot be changed) where as list are mutable (means they can be changed)**"
   ]
  },
  {
   "cell_type": "markdown",
   "metadata": {},
   "source": [
    "**To convert and data type to tuple - use python tuple build in function**"
   ]
  },
  {
   "cell_type": "code",
   "execution_count": 103,
   "metadata": {
    "ExecuteTime": {
     "end_time": "2023-10-01T13:56:22.018234Z",
     "start_time": "2023-10-01T13:56:21.999235Z"
    }
   },
   "outputs": [],
   "source": [
    "li = [1,2,3,4,5]"
   ]
  },
  {
   "cell_type": "code",
   "execution_count": 104,
   "metadata": {
    "ExecuteTime": {
     "end_time": "2023-10-01T13:56:34.592995Z",
     "start_time": "2023-10-01T13:56:34.587981Z"
    }
   },
   "outputs": [
    {
     "data": {
      "text/plain": [
       "(1, 2, 3, 4, 5)"
      ]
     },
     "execution_count": 104,
     "metadata": {},
     "output_type": "execute_result"
    }
   ],
   "source": [
    "tuple(li)"
   ]
  },
  {
   "cell_type": "code",
   "execution_count": 105,
   "metadata": {
    "ExecuteTime": {
     "end_time": "2023-10-01T13:56:53.028900Z",
     "start_time": "2023-10-01T13:56:53.020886Z"
    }
   },
   "outputs": [
    {
     "data": {
      "text/plain": [
       "[1, 2, 3, 4, 5]"
      ]
     },
     "execution_count": 105,
     "metadata": {},
     "output_type": "execute_result"
    }
   ],
   "source": [
    "li"
   ]
  },
  {
   "cell_type": "code",
   "execution_count": 106,
   "metadata": {
    "ExecuteTime": {
     "end_time": "2023-10-01T13:59:58.438637Z",
     "start_time": "2023-10-01T13:59:58.420630Z"
    }
   },
   "outputs": [],
   "source": [
    "tu = tuple(li)"
   ]
  },
  {
   "cell_type": "code",
   "execution_count": 107,
   "metadata": {
    "ExecuteTime": {
     "end_time": "2023-10-01T13:59:59.505032Z",
     "start_time": "2023-10-01T13:59:59.498994Z"
    }
   },
   "outputs": [
    {
     "data": {
      "text/plain": [
       "(1, 2, 3, 4, 5)"
      ]
     },
     "execution_count": 107,
     "metadata": {},
     "output_type": "execute_result"
    }
   ],
   "source": [
    "tu"
   ]
  },
  {
   "cell_type": "markdown",
   "metadata": {},
   "source": [
    "**To convert and data type to list - use python build in function**"
   ]
  },
  {
   "cell_type": "code",
   "execution_count": 108,
   "metadata": {
    "ExecuteTime": {
     "end_time": "2022-05-29T13:48:59.338414Z",
     "start_time": "2022-05-29T13:48:59.327382Z"
    }
   },
   "outputs": [
    {
     "data": {
      "text/plain": [
       "[1, 2, 3, 4, 5]"
      ]
     },
     "execution_count": 108,
     "metadata": {},
     "output_type": "execute_result"
    }
   ],
   "source": [
    "list(tu)"
   ]
  },
  {
   "cell_type": "markdown",
   "metadata": {},
   "source": [
    "## Indexing"
   ]
  },
  {
   "cell_type": "code",
   "execution_count": 109,
   "metadata": {
    "ExecuteTime": {
     "end_time": "2023-10-01T14:06:28.778706Z",
     "start_time": "2023-10-01T14:06:28.761660Z"
    }
   },
   "outputs": [],
   "source": [
    "s = 'abcde'\n",
    "l = [34,28,35,43,'hi']\n",
    "tu = (112.0 , 'k')"
   ]
  },
  {
   "cell_type": "markdown",
   "metadata": {},
   "source": [
    "#### iterable_name[index]"
   ]
  },
  {
   "cell_type": "code",
   "execution_count": 110,
   "metadata": {
    "ExecuteTime": {
     "end_time": "2023-10-01T14:06:42.951105Z",
     "start_time": "2023-10-01T14:06:42.928158Z"
    }
   },
   "outputs": [
    {
     "data": {
      "text/plain": [
       "'c'"
      ]
     },
     "execution_count": 110,
     "metadata": {},
     "output_type": "execute_result"
    }
   ],
   "source": [
    "s[2]   "
   ]
  },
  {
   "cell_type": "code",
   "execution_count": 111,
   "metadata": {
    "ExecuteTime": {
     "end_time": "2023-10-01T14:06:55.906953Z",
     "start_time": "2023-10-01T14:06:55.890907Z"
    }
   },
   "outputs": [
    {
     "data": {
      "text/plain": [
       "'hi'"
      ]
     },
     "execution_count": 111,
     "metadata": {},
     "output_type": "execute_result"
    }
   ],
   "source": [
    "l[4]"
   ]
  },
  {
   "cell_type": "code",
   "execution_count": 112,
   "metadata": {
    "ExecuteTime": {
     "end_time": "2023-10-01T14:07:04.790393Z",
     "start_time": "2023-10-01T14:07:04.770391Z"
    }
   },
   "outputs": [
    {
     "data": {
      "text/plain": [
       "112.0"
      ]
     },
     "execution_count": 112,
     "metadata": {},
     "output_type": "execute_result"
    }
   ],
   "source": [
    "tu[0]"
   ]
  },
  {
   "cell_type": "markdown",
   "metadata": {},
   "source": [
    "### Indexing with nested list and tuples."
   ]
  },
  {
   "cell_type": "code",
   "execution_count": 113,
   "metadata": {
    "ExecuteTime": {
     "end_time": "2023-10-01T14:08:05.063744Z",
     "start_time": "2023-10-01T14:08:05.051696Z"
    }
   },
   "outputs": [
    {
     "data": {
      "text/plain": [
       "(122, 240)"
      ]
     },
     "execution_count": 113,
     "metadata": {},
     "output_type": "execute_result"
    }
   ],
   "source": [
    "tu = ( (122,240) , [45,25,43] , 89 , 'ko' )\n",
    "\n",
    "tu[0]"
   ]
  },
  {
   "cell_type": "code",
   "execution_count": 114,
   "metadata": {
    "ExecuteTime": {
     "end_time": "2023-10-01T14:08:41.250696Z",
     "start_time": "2023-10-01T14:08:41.230640Z"
    }
   },
   "outputs": [
    {
     "data": {
      "text/plain": [
       "240"
      ]
     },
     "execution_count": 114,
     "metadata": {},
     "output_type": "execute_result"
    }
   ],
   "source": [
    "tu[0][1]"
   ]
  },
  {
   "cell_type": "markdown",
   "metadata": {},
   "source": [
    "### slicing \n",
    "sequence [start = 0 (default) : end : step = 1 (optional)]"
   ]
  },
  {
   "cell_type": "code",
   "execution_count": 115,
   "metadata": {
    "ExecuteTime": {
     "end_time": "2023-10-01T14:20:30.284620Z",
     "start_time": "2023-10-01T14:20:30.267580Z"
    }
   },
   "outputs": [],
   "source": [
    "lis = ['a' ,'b' ,'c' ,'d' ,'e' ,'f' ,'g' ,'h' ,'i' ,'j' ,'k']"
   ]
  },
  {
   "cell_type": "code",
   "execution_count": 116,
   "metadata": {},
   "outputs": [
    {
     "data": {
      "text/plain": [
       "['a', 'b', 'c', 'd', 'e', 'f', 'g', 'h', 'i', 'j', 'k']"
      ]
     },
     "execution_count": 116,
     "metadata": {},
     "output_type": "execute_result"
    }
   ],
   "source": [
    "lis"
   ]
  },
  {
   "cell_type": "code",
   "execution_count": 117,
   "metadata": {
    "ExecuteTime": {
     "end_time": "2023-10-01T14:21:54.203926Z",
     "start_time": "2023-10-01T14:21:54.188888Z"
    }
   },
   "outputs": [
    {
     "data": {
      "text/plain": [
       "['a', 'b', 'c']"
      ]
     },
     "execution_count": 117,
     "metadata": {},
     "output_type": "execute_result"
    }
   ],
   "source": [
    "lis[0:3]\n",
    "#  thing to note is that the element at 3rd index is not included\n",
    "#  in simple terms the END is not included"
   ]
  },
  {
   "cell_type": "code",
   "execution_count": 118,
   "metadata": {
    "ExecuteTime": {
     "end_time": "2023-10-01T14:22:13.135248Z",
     "start_time": "2023-10-01T14:22:13.117248Z"
    }
   },
   "outputs": [
    {
     "data": {
      "text/plain": [
       "['a', 'b', 'c', 'd']"
      ]
     },
     "execution_count": 118,
     "metadata": {},
     "output_type": "execute_result"
    }
   ],
   "source": [
    "lis[:4]   #seq[:end]"
   ]
  },
  {
   "cell_type": "code",
   "execution_count": 119,
   "metadata": {
    "ExecuteTime": {
     "end_time": "2022-05-29T14:03:52.469805Z",
     "start_time": "2022-05-29T14:03:52.461800Z"
    }
   },
   "outputs": [
    {
     "data": {
      "text/plain": [
       "['d', 'e', 'f', 'g', 'h', 'i']"
      ]
     },
     "execution_count": 119,
     "metadata": {},
     "output_type": "execute_result"
    }
   ],
   "source": [
    "lis[3:9]"
   ]
  },
  {
   "cell_type": "code",
   "execution_count": 120,
   "metadata": {
    "ExecuteTime": {
     "end_time": "2022-05-29T14:03:57.988275Z",
     "start_time": "2022-05-29T14:03:57.972318Z"
    }
   },
   "outputs": [
    {
     "data": {
      "text/plain": [
       "['g', 'h', 'i', 'j', 'k']"
      ]
     },
     "execution_count": 120,
     "metadata": {},
     "output_type": "execute_result"
    }
   ],
   "source": [
    "lis[6:]"
   ]
  },
  {
   "cell_type": "code",
   "execution_count": 121,
   "metadata": {
    "ExecuteTime": {
     "end_time": "2022-05-29T14:04:16.700315Z",
     "start_time": "2022-05-29T14:04:16.688314Z"
    }
   },
   "outputs": [
    {
     "data": {
      "text/plain": [
       "['a', 'b', 'c', 'd', 'e', 'f', 'g', 'h', 'i', 'j', 'k']"
      ]
     },
     "execution_count": 121,
     "metadata": {},
     "output_type": "execute_result"
    }
   ],
   "source": [
    "lis[:] # lis"
   ]
  },
  {
   "cell_type": "code",
   "execution_count": 122,
   "metadata": {
    "ExecuteTime": {
     "end_time": "2022-05-29T14:04:54.394378Z",
     "start_time": "2022-05-29T14:04:54.380376Z"
    }
   },
   "outputs": [
    {
     "data": {
      "text/plain": [
       "['a', 'b', 'c', 'd', 'e', 'f', 'g', 'h', 'i']"
      ]
     },
     "execution_count": 122,
     "metadata": {},
     "output_type": "execute_result"
    }
   ],
   "source": [
    "lis[0:9]"
   ]
  },
  {
   "cell_type": "code",
   "execution_count": 123,
   "metadata": {
    "ExecuteTime": {
     "end_time": "2022-05-29T14:05:02.547338Z",
     "start_time": "2022-05-29T14:05:02.538343Z"
    }
   },
   "outputs": [
    {
     "data": {
      "text/plain": [
       "['b', 'c', 'd', 'e', 'f', 'g', 'h']"
      ]
     },
     "execution_count": 123,
     "metadata": {},
     "output_type": "execute_result"
    }
   ],
   "source": [
    "x = lis[1:8]\n",
    "x"
   ]
  },
  {
   "cell_type": "code",
   "execution_count": 124,
   "metadata": {
    "ExecuteTime": {
     "end_time": "2023-10-01T14:24:01.748245Z",
     "start_time": "2023-10-01T14:24:01.728211Z"
    }
   },
   "outputs": [
    {
     "data": {
      "text/plain": [
       "['a', 'b', 'c', 'd', 'e', 'f', 'g', 'h', 'i', 'j', 'k']"
      ]
     },
     "execution_count": 124,
     "metadata": {},
     "output_type": "execute_result"
    }
   ],
   "source": [
    "lis"
   ]
  },
  {
   "cell_type": "code",
   "execution_count": 125,
   "metadata": {
    "ExecuteTime": {
     "end_time": "2023-10-01T14:26:59.247834Z",
     "start_time": "2023-10-01T14:26:59.232834Z"
    }
   },
   "outputs": [
    {
     "data": {
      "text/plain": [
       "['b', 'e', 'h']"
      ]
     },
     "execution_count": 125,
     "metadata": {},
     "output_type": "execute_result"
    }
   ],
   "source": [
    "lis[1:10:3]"
   ]
  },
  {
   "cell_type": "code",
   "execution_count": 126,
   "metadata": {
    "ExecuteTime": {
     "end_time": "2023-10-01T14:27:06.190725Z",
     "start_time": "2023-10-01T14:27:06.185752Z"
    }
   },
   "outputs": [
    {
     "data": {
      "text/plain": [
       "['a', 'b', 'c', 'd', 'e', 'f', 'g', 'h', 'i', 'j', 'k']"
      ]
     },
     "execution_count": 126,
     "metadata": {},
     "output_type": "execute_result"
    }
   ],
   "source": [
    "lis"
   ]
  },
  {
   "cell_type": "code",
   "execution_count": 127,
   "metadata": {
    "ExecuteTime": {
     "end_time": "2022-05-29T14:08:48.317907Z",
     "start_time": "2022-05-29T14:08:48.304907Z"
    }
   },
   "outputs": [
    {
     "data": {
      "text/plain": [
       "'i'"
      ]
     },
     "execution_count": 127,
     "metadata": {},
     "output_type": "execute_result"
    }
   ],
   "source": [
    "lis[-3]"
   ]
  },
  {
   "cell_type": "code",
   "execution_count": 128,
   "metadata": {
    "ExecuteTime": {
     "end_time": "2022-05-29T14:09:04.647380Z",
     "start_time": "2022-05-29T14:09:04.633381Z"
    }
   },
   "outputs": [
    {
     "data": {
      "text/plain": [
       "['f', 'g', 'h', 'i', 'j', 'k']"
      ]
     },
     "execution_count": 128,
     "metadata": {},
     "output_type": "execute_result"
    }
   ],
   "source": [
    "lis[-6:] "
   ]
  },
  {
   "cell_type": "code",
   "execution_count": 129,
   "metadata": {
    "ExecuteTime": {
     "end_time": "2023-10-01T14:32:58.870648Z",
     "start_time": "2023-10-01T14:32:58.859688Z"
    }
   },
   "outputs": [
    {
     "data": {
      "text/plain": [
       "['h', 'i', 'j']"
      ]
     },
     "execution_count": 129,
     "metadata": {},
     "output_type": "execute_result"
    }
   ],
   "source": [
    "lis[-4:-1]"
   ]
  },
  {
   "cell_type": "code",
   "execution_count": 130,
   "metadata": {
    "ExecuteTime": {
     "end_time": "2023-10-01T14:33:02.706942Z",
     "start_time": "2023-10-01T14:33:02.686982Z"
    }
   },
   "outputs": [
    {
     "data": {
      "text/plain": [
       "[]"
      ]
     },
     "execution_count": 130,
     "metadata": {},
     "output_type": "execute_result"
    }
   ],
   "source": [
    "lis[-1:-4]"
   ]
  },
  {
   "cell_type": "code",
   "execution_count": 131,
   "metadata": {
    "ExecuteTime": {
     "end_time": "2022-05-29T14:11:19.167140Z",
     "start_time": "2022-05-29T14:11:19.151135Z"
    }
   },
   "outputs": [
    {
     "data": {
      "text/plain": [
       "['a', 'b', 'c', 'd', 'e', 'f', 'g', 'h', 'i', 'j', 'k']"
      ]
     },
     "execution_count": 131,
     "metadata": {},
     "output_type": "execute_result"
    }
   ],
   "source": [
    "lis"
   ]
  },
  {
   "cell_type": "code",
   "execution_count": 132,
   "metadata": {
    "ExecuteTime": {
     "end_time": "2023-10-01T14:33:20.720117Z",
     "start_time": "2023-10-01T14:33:20.702117Z"
    }
   },
   "outputs": [
    {
     "data": {
      "text/plain": [
       "['k', 'j', 'i']"
      ]
     },
     "execution_count": 132,
     "metadata": {},
     "output_type": "execute_result"
    }
   ],
   "source": [
    "lis[-1:-4:-1]"
   ]
  },
  {
   "cell_type": "code",
   "execution_count": 133,
   "metadata": {},
   "outputs": [
    {
     "data": {
      "text/plain": [
       "['a', 'b', 'c', 'd', 'e', 'f', 'g', 'h', 'i', 'j', 'k']"
      ]
     },
     "execution_count": 133,
     "metadata": {},
     "output_type": "execute_result"
    }
   ],
   "source": [
    "lis[:]"
   ]
  },
  {
   "cell_type": "code",
   "execution_count": 134,
   "metadata": {
    "ExecuteTime": {
     "end_time": "2023-10-01T14:34:13.213970Z",
     "start_time": "2023-10-01T14:34:13.208924Z"
    }
   },
   "outputs": [
    {
     "data": {
      "text/plain": [
       "['k', 'j', 'i', 'h', 'g', 'f', 'e', 'd', 'c', 'b', 'a']"
      ]
     },
     "execution_count": 134,
     "metadata": {},
     "output_type": "execute_result"
    }
   ],
   "source": [
    "lis[::-1]"
   ]
  },
  {
   "cell_type": "code",
   "execution_count": 135,
   "metadata": {
    "ExecuteTime": {
     "end_time": "2023-10-01T14:34:16.470606Z",
     "start_time": "2023-10-01T14:34:16.457608Z"
    }
   },
   "outputs": [
    {
     "data": {
      "text/plain": [
       "['k', 'i', 'g', 'e', 'c', 'a']"
      ]
     },
     "execution_count": 135,
     "metadata": {},
     "output_type": "execute_result"
    }
   ],
   "source": [
    "lis[::-2]"
   ]
  },
  {
   "cell_type": "code",
   "execution_count": 136,
   "metadata": {
    "ExecuteTime": {
     "end_time": "2022-05-29T14:12:41.060049Z",
     "start_time": "2022-05-29T14:12:41.049084Z"
    }
   },
   "outputs": [
    {
     "data": {
      "text/plain": [
       "['b', 'd', 'f', 'h']"
      ]
     },
     "execution_count": 136,
     "metadata": {},
     "output_type": "execute_result"
    }
   ],
   "source": [
    "x = lis[1:8:2]\n",
    "x"
   ]
  },
  {
   "cell_type": "markdown",
   "metadata": {
    "collapsed": true,
    "jupyter": {
     "outputs_hidden": true
    }
   },
   "source": [
    "### List methods"
   ]
  },
  {
   "cell_type": "code",
   "execution_count": 137,
   "metadata": {
    "ExecuteTime": {
     "end_time": "2023-10-01T14:45:33.022482Z",
     "start_time": "2023-10-01T14:45:33.003488Z"
    }
   },
   "outputs": [],
   "source": [
    "lis1 = [34,55,53,52,346]"
   ]
  },
  {
   "cell_type": "code",
   "execution_count": 138,
   "metadata": {
    "ExecuteTime": {
     "end_time": "2023-10-01T14:45:33.333490Z",
     "start_time": "2023-10-01T14:45:33.315483Z"
    }
   },
   "outputs": [
    {
     "data": {
      "text/plain": [
       "[34, 55, 53, 52, 346, 10]"
      ]
     },
     "execution_count": 138,
     "metadata": {},
     "output_type": "execute_result"
    }
   ],
   "source": [
    "lis1.append(10)\n",
    "lis1\n",
    "# adds the element at last"
   ]
  },
  {
   "cell_type": "code",
   "execution_count": 139,
   "metadata": {
    "ExecuteTime": {
     "end_time": "2023-10-01T14:45:34.156486Z",
     "start_time": "2023-10-01T14:45:34.144483Z"
    }
   },
   "outputs": [
    {
     "data": {
      "text/plain": [
       "[34, 55, 53, 52, 10]"
      ]
     },
     "execution_count": 139,
     "metadata": {},
     "output_type": "execute_result"
    }
   ],
   "source": [
    "#  .remove(element) searches and removes the very first occurence not all\n",
    "lis1.remove(346)\n",
    "lis1"
   ]
  },
  {
   "cell_type": "code",
   "execution_count": 140,
   "metadata": {
    "ExecuteTime": {
     "end_time": "2023-10-01T14:45:34.456486Z",
     "start_time": "2023-10-01T14:45:34.445489Z"
    }
   },
   "outputs": [
    {
     "data": {
      "text/plain": [
       "1"
      ]
     },
     "execution_count": 140,
     "metadata": {},
     "output_type": "execute_result"
    }
   ],
   "source": [
    "#  count(element)\n",
    "lis1.count(10)"
   ]
  },
  {
   "cell_type": "code",
   "execution_count": 141,
   "metadata": {
    "ExecuteTime": {
     "end_time": "2023-10-01T14:45:37.670485Z",
     "start_time": "2023-10-01T14:45:37.663485Z"
    }
   },
   "outputs": [
    {
     "data": {
      "text/plain": [
       "[10, 34, 52, 53, 55]"
      ]
     },
     "execution_count": 141,
     "metadata": {},
     "output_type": "execute_result"
    }
   ],
   "source": [
    "lis1.sort()\n",
    "lis1"
   ]
  },
  {
   "cell_type": "code",
   "execution_count": 142,
   "metadata": {
    "ExecuteTime": {
     "end_time": "2023-10-01T14:45:37.670485Z",
     "start_time": "2023-10-01T14:45:37.663485Z"
    }
   },
   "outputs": [
    {
     "data": {
      "text/plain": [
       "[55, 53, 52, 34, 10]"
      ]
     },
     "execution_count": 142,
     "metadata": {},
     "output_type": "execute_result"
    }
   ],
   "source": [
    "lis1.sort(reverse = True)\n",
    "lis1"
   ]
  },
  {
   "cell_type": "code",
   "execution_count": 143,
   "metadata": {
    "ExecuteTime": {
     "end_time": "2023-10-01T14:45:36.352484Z",
     "start_time": "2023-10-01T14:45:36.343490Z"
    }
   },
   "outputs": [
    {
     "data": {
      "text/plain": [
       "[10, 34, 52, 53, 55]"
      ]
     },
     "execution_count": 143,
     "metadata": {},
     "output_type": "execute_result"
    }
   ],
   "source": [
    "# reverses the list\n",
    "lis1.reverse()\n",
    "lis1"
   ]
  },
  {
   "cell_type": "code",
   "execution_count": 144,
   "metadata": {
    "ExecuteTime": {
     "end_time": "2023-10-01T14:45:33.619489Z",
     "start_time": "2023-10-01T14:45:33.610488Z"
    }
   },
   "outputs": [
    {
     "data": {
      "text/plain": [
       "[10, 34, 52, 'a', 53, 55]"
      ]
     },
     "execution_count": 144,
     "metadata": {},
     "output_type": "execute_result"
    }
   ],
   "source": [
    "# l1.insert(index,element)\n",
    "lis1.insert(3,'a')\n",
    "lis1"
   ]
  },
  {
   "cell_type": "code",
   "execution_count": 145,
   "metadata": {
    "ExecuteTime": {
     "end_time": "2023-10-01T14:45:34.736483Z",
     "start_time": "2023-10-01T14:45:34.729489Z"
    }
   },
   "outputs": [
    {
     "data": {
      "text/plain": [
       "'a'"
      ]
     },
     "execution_count": 145,
     "metadata": {},
     "output_type": "execute_result"
    }
   ],
   "source": [
    "# pop(index) , if no item is passed it removes element at -1 index\n",
    "lis1.pop(3)"
   ]
  },
  {
   "cell_type": "code",
   "execution_count": 146,
   "metadata": {
    "ExecuteTime": {
     "end_time": "2023-10-01T14:45:36.004490Z",
     "start_time": "2023-10-01T14:45:35.997484Z"
    }
   },
   "outputs": [
    {
     "data": {
      "text/plain": [
       "[10, 34, 52, 53, 55]"
      ]
     },
     "execution_count": 146,
     "metadata": {},
     "output_type": "execute_result"
    }
   ],
   "source": [
    "lis1"
   ]
  },
  {
   "cell_type": "code",
   "execution_count": 147,
   "metadata": {
    "ExecuteTime": {
     "end_time": "2023-10-01T14:45:39.176485Z",
     "start_time": "2023-10-01T14:45:39.161492Z"
    }
   },
   "outputs": [
    {
     "data": {
      "text/plain": [
       "3"
      ]
     },
     "execution_count": 147,
     "metadata": {},
     "output_type": "execute_result"
    }
   ],
   "source": [
    "# .index(element) - gives the index of element\n",
    "lis1.index(53)"
   ]
  },
  {
   "cell_type": "code",
   "execution_count": 148,
   "metadata": {
    "ExecuteTime": {
     "end_time": "2023-10-01T14:45:39.446492Z",
     "start_time": "2023-10-01T14:45:39.434487Z"
    }
   },
   "outputs": [
    {
     "data": {
      "text/plain": [
       "[10, 34, 52, 53, 55]"
      ]
     },
     "execution_count": 148,
     "metadata": {},
     "output_type": "execute_result"
    }
   ],
   "source": [
    "lis1"
   ]
  },
  {
   "cell_type": "code",
   "execution_count": 149,
   "metadata": {
    "ExecuteTime": {
     "end_time": "2023-10-01T14:45:39.652486Z",
     "start_time": "2023-10-01T14:45:39.638488Z"
    },
    "run_control": {
     "marked": false
    }
   },
   "outputs": [],
   "source": [
    "c = lis1"
   ]
  },
  {
   "cell_type": "code",
   "execution_count": 150,
   "metadata": {},
   "outputs": [
    {
     "data": {
      "text/plain": [
       "2564958598848"
      ]
     },
     "execution_count": 150,
     "metadata": {},
     "output_type": "execute_result"
    }
   ],
   "source": [
    "id(c)"
   ]
  },
  {
   "cell_type": "code",
   "execution_count": 151,
   "metadata": {},
   "outputs": [
    {
     "data": {
      "text/plain": [
       "2564958598848"
      ]
     },
     "execution_count": 151,
     "metadata": {},
     "output_type": "execute_result"
    }
   ],
   "source": [
    "id(lis1)"
   ]
  },
  {
   "cell_type": "code",
   "execution_count": 152,
   "metadata": {
    "ExecuteTime": {
     "end_time": "2023-10-01T14:45:39.890486Z",
     "start_time": "2023-10-01T14:45:39.878492Z"
    },
    "run_control": {
     "marked": false
    }
   },
   "outputs": [
    {
     "data": {
      "text/plain": [
       "[10, 34, 52, 53, 55]"
      ]
     },
     "execution_count": 152,
     "metadata": {},
     "output_type": "execute_result"
    }
   ],
   "source": [
    "c"
   ]
  },
  {
   "cell_type": "code",
   "execution_count": 153,
   "metadata": {
    "ExecuteTime": {
     "end_time": "2023-10-01T14:45:40.064486Z",
     "start_time": "2023-10-01T14:45:40.058487Z"
    }
   },
   "outputs": [],
   "source": [
    "c.remove(10)"
   ]
  },
  {
   "cell_type": "code",
   "execution_count": 154,
   "metadata": {
    "ExecuteTime": {
     "end_time": "2023-10-01T14:45:40.446486Z",
     "start_time": "2023-10-01T14:45:40.432494Z"
    }
   },
   "outputs": [
    {
     "data": {
      "text/plain": [
       "[34, 52, 53, 55]"
      ]
     },
     "execution_count": 154,
     "metadata": {},
     "output_type": "execute_result"
    }
   ],
   "source": [
    "c"
   ]
  },
  {
   "cell_type": "code",
   "execution_count": 155,
   "metadata": {
    "ExecuteTime": {
     "end_time": "2023-10-01T14:45:40.685495Z",
     "start_time": "2023-10-01T14:45:40.681493Z"
    }
   },
   "outputs": [
    {
     "data": {
      "text/plain": [
       "[34, 52, 53, 55]"
      ]
     },
     "execution_count": 155,
     "metadata": {},
     "output_type": "execute_result"
    }
   ],
   "source": [
    "lis1"
   ]
  },
  {
   "cell_type": "code",
   "execution_count": 156,
   "metadata": {
    "ExecuteTime": {
     "end_time": "2023-10-01T14:45:40.922487Z",
     "start_time": "2023-10-01T14:45:40.910487Z"
    }
   },
   "outputs": [],
   "source": [
    "c = lis1.copy()"
   ]
  },
  {
   "cell_type": "code",
   "execution_count": 157,
   "metadata": {},
   "outputs": [
    {
     "data": {
      "text/plain": [
       "2564958969152"
      ]
     },
     "execution_count": 157,
     "metadata": {},
     "output_type": "execute_result"
    }
   ],
   "source": [
    "id(c)"
   ]
  },
  {
   "cell_type": "code",
   "execution_count": 158,
   "metadata": {},
   "outputs": [
    {
     "data": {
      "text/plain": [
       "2564958598848"
      ]
     },
     "execution_count": 158,
     "metadata": {},
     "output_type": "execute_result"
    }
   ],
   "source": [
    "id(lis1)"
   ]
  },
  {
   "cell_type": "code",
   "execution_count": 159,
   "metadata": {
    "ExecuteTime": {
     "end_time": "2023-10-01T14:45:41.077493Z",
     "start_time": "2023-10-01T14:45:41.071488Z"
    }
   },
   "outputs": [
    {
     "data": {
      "text/plain": [
       "[34, 52, 53, 55]"
      ]
     },
     "execution_count": 159,
     "metadata": {},
     "output_type": "execute_result"
    }
   ],
   "source": [
    "lis1"
   ]
  },
  {
   "cell_type": "code",
   "execution_count": 160,
   "metadata": {
    "ExecuteTime": {
     "end_time": "2023-10-01T14:45:41.647487Z",
     "start_time": "2023-10-01T14:45:41.635489Z"
    }
   },
   "outputs": [
    {
     "data": {
      "text/plain": [
       "[34, 52, 53, 55]"
      ]
     },
     "execution_count": 160,
     "metadata": {},
     "output_type": "execute_result"
    }
   ],
   "source": [
    "c"
   ]
  },
  {
   "cell_type": "code",
   "execution_count": 161,
   "metadata": {},
   "outputs": [],
   "source": [
    "c.remove(52)"
   ]
  },
  {
   "cell_type": "code",
   "execution_count": 162,
   "metadata": {},
   "outputs": [
    {
     "data": {
      "text/plain": [
       "[34, 53, 55]"
      ]
     },
     "execution_count": 162,
     "metadata": {},
     "output_type": "execute_result"
    }
   ],
   "source": [
    "c"
   ]
  },
  {
   "cell_type": "code",
   "execution_count": 163,
   "metadata": {},
   "outputs": [
    {
     "data": {
      "text/plain": [
       "[34, 52, 53, 55]"
      ]
     },
     "execution_count": 163,
     "metadata": {},
     "output_type": "execute_result"
    }
   ],
   "source": [
    "lis1"
   ]
  },
  {
   "cell_type": "code",
   "execution_count": 164,
   "metadata": {
    "ExecuteTime": {
     "end_time": "2022-05-29T14:25:45.088254Z",
     "start_time": "2022-05-29T14:25:45.084254Z"
    }
   },
   "outputs": [],
   "source": [
    "lis2 = [87,78,56,543,24]"
   ]
  },
  {
   "cell_type": "code",
   "execution_count": 165,
   "metadata": {
    "ExecuteTime": {
     "end_time": "2022-05-29T14:26:07.275889Z",
     "start_time": "2022-05-29T14:26:07.267891Z"
    }
   },
   "outputs": [],
   "source": [
    "lis1.extend(lis2)"
   ]
  },
  {
   "cell_type": "code",
   "execution_count": 166,
   "metadata": {
    "ExecuteTime": {
     "end_time": "2022-05-29T14:26:08.956179Z",
     "start_time": "2022-05-29T14:26:08.939955Z"
    }
   },
   "outputs": [
    {
     "data": {
      "text/plain": [
       "[34, 52, 53, 55, 87, 78, 56, 543, 24]"
      ]
     },
     "execution_count": 166,
     "metadata": {},
     "output_type": "execute_result"
    }
   ],
   "source": [
    "lis1"
   ]
  },
  {
   "cell_type": "code",
   "execution_count": 167,
   "metadata": {
    "ExecuteTime": {
     "end_time": "2022-05-29T14:26:34.711087Z",
     "start_time": "2022-05-29T14:26:34.703220Z"
    }
   },
   "outputs": [
    {
     "data": {
      "text/plain": [
       "[]"
      ]
     },
     "execution_count": 167,
     "metadata": {},
     "output_type": "execute_result"
    }
   ],
   "source": [
    "# clears the list\n",
    "lis1.clear()\n",
    "lis1"
   ]
  },
  {
   "cell_type": "code",
   "execution_count": 168,
   "metadata": {
    "ExecuteTime": {
     "end_time": "2022-05-29T14:26:40.567956Z",
     "start_time": "2022-05-29T14:26:40.556161Z"
    }
   },
   "outputs": [],
   "source": [
    "lis1 = [34,55,53,52,346]"
   ]
  },
  {
   "cell_type": "code",
   "execution_count": 169,
   "metadata": {
    "ExecuteTime": {
     "end_time": "2022-05-29T14:27:02.172227Z",
     "start_time": "2022-05-29T14:27:02.163643Z"
    }
   },
   "outputs": [
    {
     "data": {
      "text/plain": [
       "[34, 55, 53, 52, 346, 87, 78, 56, 543, 24]"
      ]
     },
     "execution_count": 169,
     "metadata": {},
     "output_type": "execute_result"
    }
   ],
   "source": [
    "#  concatenating list\n",
    "lis1 + lis2"
   ]
  },
  {
   "cell_type": "code",
   "execution_count": 170,
   "metadata": {
    "ExecuteTime": {
     "end_time": "2023-10-01T14:48:18.225134Z",
     "start_time": "2023-10-01T14:48:18.218176Z"
    }
   },
   "outputs": [
    {
     "data": {
      "text/plain": [
       "[34, 55, 53, 52, 346]"
      ]
     },
     "execution_count": 170,
     "metadata": {},
     "output_type": "execute_result"
    }
   ],
   "source": [
    "lis1"
   ]
  },
  {
   "cell_type": "code",
   "execution_count": 171,
   "metadata": {
    "ExecuteTime": {
     "end_time": "2023-10-01T14:48:16.428787Z",
     "start_time": "2023-10-01T14:48:16.418747Z"
    }
   },
   "outputs": [
    {
     "data": {
      "text/plain": [
       "52"
      ]
     },
     "execution_count": 171,
     "metadata": {},
     "output_type": "execute_result"
    }
   ],
   "source": [
    "lis1[3]"
   ]
  },
  {
   "cell_type": "code",
   "execution_count": 172,
   "metadata": {
    "ExecuteTime": {
     "end_time": "2023-10-01T14:48:33.266701Z",
     "start_time": "2023-10-01T14:48:33.251650Z"
    }
   },
   "outputs": [],
   "source": [
    "# overwrite the element by index\n",
    "lis1[3] = 'i am new element at index 3'"
   ]
  },
  {
   "cell_type": "code",
   "execution_count": 173,
   "metadata": {
    "ExecuteTime": {
     "end_time": "2023-10-01T14:48:34.382706Z",
     "start_time": "2023-10-01T14:48:34.366745Z"
    }
   },
   "outputs": [
    {
     "data": {
      "text/plain": [
       "[34, 55, 53, 'i am new element at index 3', 346]"
      ]
     },
     "execution_count": 173,
     "metadata": {},
     "output_type": "execute_result"
    }
   ],
   "source": [
    "lis1"
   ]
  },
  {
   "cell_type": "markdown",
   "metadata": {},
   "source": [
    "## Tuple methods    "
   ]
  },
  {
   "cell_type": "code",
   "execution_count": 174,
   "metadata": {
    "ExecuteTime": {
     "end_time": "2023-10-01T14:54:18.027617Z",
     "start_time": "2023-10-01T14:54:18.009611Z"
    }
   },
   "outputs": [],
   "source": [
    "tu  = (1,2,'u') "
   ]
  },
  {
   "cell_type": "code",
   "execution_count": 175,
   "metadata": {
    "ExecuteTime": {
     "end_time": "2022-05-29T14:32:09.205200Z",
     "start_time": "2022-05-29T14:32:09.181435Z"
    }
   },
   "outputs": [
    {
     "ename": "TypeError",
     "evalue": "'tuple' object does not support item assignment",
     "output_type": "error",
     "traceback": [
      "\u001b[1;31m---------------------------------------------------------------------------\u001b[0m",
      "\u001b[1;31mTypeError\u001b[0m                                 Traceback (most recent call last)",
      "\u001b[1;32m~\\AppData\\Local\\Temp\\ipykernel_15980\\3323677900.py\u001b[0m in \u001b[0;36m<module>\u001b[1;34m\u001b[0m\n\u001b[1;32m----> 1\u001b[1;33m \u001b[0mtu\u001b[0m\u001b[1;33m[\u001b[0m\u001b[1;36m0\u001b[0m\u001b[1;33m]\u001b[0m \u001b[1;33m=\u001b[0m \u001b[1;34m'a'\u001b[0m\u001b[1;33m\u001b[0m\u001b[1;33m\u001b[0m\u001b[0m\n\u001b[0m\u001b[0;32m      2\u001b[0m \u001b[1;31m# this code can be applied on list because list are mutable\u001b[0m\u001b[1;33m\u001b[0m\u001b[1;33m\u001b[0m\u001b[0m\n",
      "\u001b[1;31mTypeError\u001b[0m: 'tuple' object does not support item assignment"
     ]
    }
   ],
   "source": [
    "tu[0] = 'a'\n",
    "# this code can be applied on list because list are mutable"
   ]
  },
  {
   "cell_type": "code",
   "execution_count": 176,
   "metadata": {
    "ExecuteTime": {
     "end_time": "2022-05-29T14:32:25.709780Z",
     "start_time": "2022-05-29T14:32:25.704603Z"
    }
   },
   "outputs": [
    {
     "data": {
      "text/plain": [
       "1"
      ]
     },
     "execution_count": 176,
     "metadata": {},
     "output_type": "execute_result"
    }
   ],
   "source": [
    "tu.count('u')"
   ]
  },
  {
   "cell_type": "code",
   "execution_count": 177,
   "metadata": {
    "ExecuteTime": {
     "end_time": "2022-05-29T14:34:08.608343Z",
     "start_time": "2022-05-29T14:34:08.594639Z"
    }
   },
   "outputs": [
    {
     "data": {
      "text/plain": [
       "2"
      ]
     },
     "execution_count": 177,
     "metadata": {},
     "output_type": "execute_result"
    }
   ],
   "source": [
    "tu.index('u')"
   ]
  },
  {
   "cell_type": "markdown",
   "metadata": {},
   "source": [
    "## Python identity operators\n",
    "They are used to compare objects , not if they are equal , but if they are actually the same object , eith same memory location.\n",
    "\n",
    "* **is**  - returns true if both objects are same object.\n",
    "\n",
    "* **is not**  - returns true if both objects are not he same"
   ]
  },
  {
   "cell_type": "code",
   "execution_count": 178,
   "metadata": {
    "ExecuteTime": {
     "end_time": "2023-10-01T15:04:25.469042Z",
     "start_time": "2023-10-01T15:04:25.451098Z"
    }
   },
   "outputs": [
    {
     "data": {
      "text/plain": [
       "[34, 55, 53, 'i am new element at index 3', 346]"
      ]
     },
     "execution_count": 178,
     "metadata": {},
     "output_type": "execute_result"
    }
   ],
   "source": [
    "lis1"
   ]
  },
  {
   "cell_type": "code",
   "execution_count": 180,
   "metadata": {
    "ExecuteTime": {
     "end_time": "2023-10-01T15:05:02.412704Z",
     "start_time": "2023-10-01T15:05:02.405704Z"
    }
   },
   "outputs": [
    {
     "data": {
      "text/plain": [
       "False"
      ]
     },
     "execution_count": 180,
     "metadata": {},
     "output_type": "execute_result"
    }
   ],
   "source": [
    "lis1 is None # =="
   ]
  },
  {
   "cell_type": "code",
   "execution_count": 181,
   "metadata": {
    "ExecuteTime": {
     "end_time": "2023-10-01T15:05:06.115108Z",
     "start_time": "2023-10-01T15:05:06.107109Z"
    }
   },
   "outputs": [
    {
     "data": {
      "text/plain": [
       "True"
      ]
     },
     "execution_count": 181,
     "metadata": {},
     "output_type": "execute_result"
    }
   ],
   "source": [
    "lis1 is lis1"
   ]
  },
  {
   "cell_type": "code",
   "execution_count": 182,
   "metadata": {
    "ExecuteTime": {
     "end_time": "2023-10-01T15:05:10.832113Z",
     "start_time": "2023-10-01T15:05:10.824158Z"
    }
   },
   "outputs": [
    {
     "data": {
      "text/plain": [
       "False"
      ]
     },
     "execution_count": 182,
     "metadata": {},
     "output_type": "execute_result"
    }
   ],
   "source": [
    "lis1 is not lis1 # !="
   ]
  },
  {
   "cell_type": "markdown",
   "metadata": {},
   "source": [
    "## Python membership operators\n",
    "They are used to test if the sequence is present in an obeject.\n",
    "\n",
    "* **in**  - returns true if a sequence with specified value is present in the object.\n",
    "\n",
    "* **not in**  - returns true if a sequence with specified value is not present in the object."
   ]
  },
  {
   "cell_type": "code",
   "execution_count": 184,
   "metadata": {
    "ExecuteTime": {
     "end_time": "2023-10-01T15:06:09.574182Z",
     "start_time": "2023-10-01T15:06:09.569180Z"
    }
   },
   "outputs": [],
   "source": [
    "s = 'hello man'"
   ]
  },
  {
   "cell_type": "code",
   "execution_count": 185,
   "metadata": {
    "ExecuteTime": {
     "end_time": "2023-10-01T15:06:21.584395Z",
     "start_time": "2023-10-01T15:06:21.568361Z"
    }
   },
   "outputs": [
    {
     "data": {
      "text/plain": [
       "False"
      ]
     },
     "execution_count": 185,
     "metadata": {},
     "output_type": "execute_result"
    }
   ],
   "source": [
    "'A' in s"
   ]
  },
  {
   "cell_type": "code",
   "execution_count": 186,
   "metadata": {
    "ExecuteTime": {
     "end_time": "2023-10-01T15:06:26.202806Z",
     "start_time": "2023-10-01T15:06:26.196798Z"
    }
   },
   "outputs": [
    {
     "data": {
      "text/plain": [
       "True"
      ]
     },
     "execution_count": 186,
     "metadata": {},
     "output_type": "execute_result"
    }
   ],
   "source": [
    "'he' in ['he' , 'a' , 1 , 2]"
   ]
  },
  {
   "cell_type": "code",
   "execution_count": 187,
   "metadata": {
    "ExecuteTime": {
     "end_time": "2023-10-01T15:06:31.341662Z",
     "start_time": "2023-10-01T15:06:31.329671Z"
    }
   },
   "outputs": [
    {
     "data": {
      "text/plain": [
       "True"
      ]
     },
     "execution_count": 187,
     "metadata": {},
     "output_type": "execute_result"
    }
   ],
   "source": [
    "'hjfff' not in ('fsad', 1,2,3,4,True)"
   ]
  },
  {
   "cell_type": "markdown",
   "metadata": {},
   "source": [
    "## Dictionaries\n",
    "\n",
    "- Recognized by curly brackets {    }\n",
    "\n",
    "- They are mutable and can be nested like list and tuples\n",
    "\n",
    "- They have a key and value pair , so they are also called associative pair\n",
    "\n",
    "- A given key can oly appear once in a dictionary and both key and value can be any data type - str,int,float\n",
    "\n",
    "- Each and value is seperated by a colon(  :  )\n",
    "\n",
    "- when we convert a dictionary to list or a tuple by list() then only keys come in list and tuple not the values"
   ]
  },
  {
   "cell_type": "code",
   "execution_count": 188,
   "metadata": {
    "ExecuteTime": {
     "end_time": "2023-10-01T15:10:02.710399Z",
     "start_time": "2023-10-01T15:10:02.691400Z"
    }
   },
   "outputs": [],
   "source": [
    "d = { 'ide' : 'sam'   ,  'age' :  23   ,  'hair' : 'black' ,     1 : 'id' ,        23.0 : 'float val'}\n",
    "#      key    value      key   value"
   ]
  },
  {
   "cell_type": "code",
   "execution_count": 190,
   "metadata": {
    "ExecuteTime": {
     "end_time": "2023-10-01T15:10:03.735413Z",
     "start_time": "2023-10-01T15:10:03.727415Z"
    }
   },
   "outputs": [
    {
     "data": {
      "text/plain": [
       "{'ide': 'sam', 'age': 23, 'hair': 'black', 1: 'id', 23.0: 'float val'}"
      ]
     },
     "execution_count": 190,
     "metadata": {},
     "output_type": "execute_result"
    }
   ],
   "source": [
    "d"
   ]
  },
  {
   "cell_type": "code",
   "execution_count": 191,
   "metadata": {
    "ExecuteTime": {
     "end_time": "2023-10-01T15:10:06.159158Z",
     "start_time": "2023-10-01T15:10:06.150129Z"
    }
   },
   "outputs": [
    {
     "data": {
      "text/plain": [
       "dict"
      ]
     },
     "execution_count": 191,
     "metadata": {},
     "output_type": "execute_result"
    }
   ],
   "source": [
    "type(d)"
   ]
  },
  {
   "cell_type": "code",
   "execution_count": 192,
   "metadata": {
    "ExecuteTime": {
     "end_time": "2023-10-01T15:10:18.112351Z",
     "start_time": "2023-10-01T15:10:18.096350Z"
    }
   },
   "outputs": [
    {
     "data": {
      "text/plain": [
       "{'ide': 'y', 'age': 34}"
      ]
     },
     "execution_count": 192,
     "metadata": {},
     "output_type": "execute_result"
    }
   ],
   "source": [
    "# keys can repeat , but they will be always unique\n",
    "{'ide' : 'x' , 'age' : 34 , 'ide' : 'y'}"
   ]
  },
  {
   "cell_type": "code",
   "execution_count": 194,
   "metadata": {
    "ExecuteTime": {
     "end_time": "2023-10-01T15:10:51.487362Z",
     "start_time": "2023-10-01T15:10:51.474396Z"
    }
   },
   "outputs": [
    {
     "data": {
      "text/plain": [
       "{'ide': 'x', 'age': 'x', 'id': 'x'}"
      ]
     },
     "execution_count": 194,
     "metadata": {},
     "output_type": "execute_result"
    }
   ],
   "source": [
    "# values can repeat\n",
    "{'ide' : 'x' , 'age' : 'x' , 'id' : 'x'}"
   ]
  },
  {
   "cell_type": "code",
   "execution_count": 144,
   "metadata": {
    "ExecuteTime": {
     "end_time": "2022-05-29T14:48:09.080774Z",
     "start_time": "2022-05-29T14:48:09.071417Z"
    }
   },
   "outputs": [],
   "source": [
    "# in dictionaries the indexing is done using the key name"
   ]
  },
  {
   "cell_type": "code",
   "execution_count": 196,
   "metadata": {
    "ExecuteTime": {
     "end_time": "2023-10-01T15:11:10.579263Z",
     "start_time": "2023-10-01T15:11:10.559279Z"
    }
   },
   "outputs": [
    {
     "data": {
      "text/plain": [
       "'sam'"
      ]
     },
     "execution_count": 196,
     "metadata": {},
     "output_type": "execute_result"
    }
   ],
   "source": [
    "d['ide']"
   ]
  },
  {
   "cell_type": "code",
   "execution_count": 197,
   "metadata": {
    "ExecuteTime": {
     "end_time": "2023-10-01T15:11:41.878595Z",
     "start_time": "2023-10-01T15:11:41.863612Z"
    }
   },
   "outputs": [
    {
     "data": {
      "text/plain": [
       "{'ide': 'sam', 'age': 23, 'hair': 'black', 1: 'id', 23.0: 'float val'}"
      ]
     },
     "execution_count": 197,
     "metadata": {},
     "output_type": "execute_result"
    }
   ],
   "source": [
    "d"
   ]
  },
  {
   "cell_type": "code",
   "execution_count": 198,
   "metadata": {
    "ExecuteTime": {
     "end_time": "2023-10-01T15:12:17.770879Z",
     "start_time": "2023-10-01T15:12:17.765909Z"
    }
   },
   "outputs": [
    {
     "data": {
      "text/plain": [
       "{'ide': 'new', 'age': 23, 'hair': 'black', 1: 'id', 23.0: 'float val'}"
      ]
     },
     "execution_count": 198,
     "metadata": {},
     "output_type": "execute_result"
    }
   ],
   "source": [
    "# changing the value of a key\n",
    "d['ide'] = 'new'   \n",
    "d"
   ]
  },
  {
   "cell_type": "code",
   "execution_count": 199,
   "metadata": {
    "ExecuteTime": {
     "end_time": "2023-10-01T15:12:44.742646Z",
     "start_time": "2023-10-01T15:12:44.720624Z"
    }
   },
   "outputs": [
    {
     "data": {
      "text/plain": [
       "{'ide': 'new',\n",
       " 'age': 23,\n",
       " 'hair': 'black',\n",
       " 1: 'id',\n",
       " 23.0: 'float val',\n",
       " 'place': 'Delhi'}"
      ]
     },
     "execution_count": 199,
     "metadata": {},
     "output_type": "execute_result"
    }
   ],
   "source": [
    "# adding a new and value\n",
    "d['place'] = 'Delhi'\n",
    "d"
   ]
  },
  {
   "cell_type": "markdown",
   "metadata": {},
   "source": [
    "### Dictionary methods\n"
   ]
  },
  {
   "cell_type": "code",
   "execution_count": 202,
   "metadata": {
    "ExecuteTime": {
     "end_time": "2022-05-29T14:51:37.527883Z",
     "start_time": "2022-05-29T14:51:37.520883Z"
    }
   },
   "outputs": [
    {
     "data": {
      "text/plain": [
       "{'ide': 'new',\n",
       " 'age': 23,\n",
       " 'hair': 'black',\n",
       " 1: 'id',\n",
       " 23.0: 'float val',\n",
       " 'place': 'Delhi'}"
      ]
     },
     "execution_count": 202,
     "metadata": {},
     "output_type": "execute_result"
    }
   ],
   "source": [
    "d"
   ]
  },
  {
   "cell_type": "code",
   "execution_count": 138,
   "metadata": {
    "ExecuteTime": {
     "end_time": "2023-10-01T15:14:49.850520Z",
     "start_time": "2023-10-01T15:14:49.843477Z"
    }
   },
   "outputs": [
    {
     "name": "stdout",
     "output_type": "stream",
     "text": [
      "dict_items([('ide', 'new'), ('age', 23), ('hair', 'black'), (1, 'id'), (23.0, 'float val'), ('place', 'Delhi')])\n"
     ]
    }
   ],
   "source": [
    "print(d.items())"
   ]
  },
  {
   "cell_type": "code",
   "execution_count": 203,
   "metadata": {
    "ExecuteTime": {
     "end_time": "2023-10-01T15:14:36.802498Z",
     "start_time": "2023-10-01T15:14:36.792494Z"
    }
   },
   "outputs": [
    {
     "data": {
      "text/plain": [
       "dict_items"
      ]
     },
     "execution_count": 203,
     "metadata": {},
     "output_type": "execute_result"
    }
   ],
   "source": [
    "type(d.items())"
   ]
  },
  {
   "cell_type": "code",
   "execution_count": 204,
   "metadata": {
    "ExecuteTime": {
     "end_time": "2023-10-01T15:15:13.661955Z",
     "start_time": "2023-10-01T15:15:13.656909Z"
    }
   },
   "outputs": [
    {
     "data": {
      "text/plain": [
       "[('ide', 'new'),\n",
       " ('age', 23),\n",
       " ('hair', 'black'),\n",
       " (1, 'id'),\n",
       " (23.0, 'float val'),\n",
       " ('place', 'Delhi')]"
      ]
     },
     "execution_count": 204,
     "metadata": {},
     "output_type": "execute_result"
    }
   ],
   "source": [
    "list(d.items())   # returns a view object that displays list of dictionary (key,value) in tuple pairs "
   ]
  },
  {
   "cell_type": "code",
   "execution_count": 140,
   "metadata": {
    "ExecuteTime": {
     "end_time": "2023-10-01T15:15:44.588322Z",
     "start_time": "2023-10-01T15:15:44.574285Z"
    }
   },
   "outputs": [
    {
     "data": {
      "text/plain": [
       "dict_keys(['ide', 'age', 'hair', 1, 23.0, 'place'])"
      ]
     },
     "execution_count": 140,
     "metadata": {},
     "output_type": "execute_result"
    }
   ],
   "source": [
    "d.keys()           #  returns view object  displaying a list of all keys"
   ]
  },
  {
   "cell_type": "code",
   "execution_count": 141,
   "metadata": {
    "ExecuteTime": {
     "end_time": "2023-10-01T15:15:44.858284Z",
     "start_time": "2023-10-01T15:15:44.845331Z"
    }
   },
   "outputs": [
    {
     "data": {
      "text/plain": [
       "dict_values(['new', 23, 'black', 'id', 'float val', 'Delhi'])"
      ]
     },
     "execution_count": 141,
     "metadata": {},
     "output_type": "execute_result"
    }
   ],
   "source": [
    "d.values()  "
   ]
  },
  {
   "cell_type": "code",
   "execution_count": 205,
   "metadata": {},
   "outputs": [
    {
     "data": {
      "text/plain": [
       "('new', 23, 'black', 'id', 'float val', 'Delhi')"
      ]
     },
     "execution_count": 205,
     "metadata": {},
     "output_type": "execute_result"
    }
   ],
   "source": [
    "tuple(d.values())"
   ]
  },
  {
   "cell_type": "code",
   "execution_count": 206,
   "metadata": {
    "ExecuteTime": {
     "end_time": "2023-10-01T15:15:47.550532Z",
     "start_time": "2023-10-01T15:15:47.531499Z"
    }
   },
   "outputs": [
    {
     "data": {
      "text/plain": [
       "{'ide': 'new',\n",
       " 'age': 23,\n",
       " 'hair': 'black',\n",
       " 1: 'id',\n",
       " 23.0: 'float val',\n",
       " 'place': 'Delhi'}"
      ]
     },
     "execution_count": 206,
     "metadata": {},
     "output_type": "execute_result"
    }
   ],
   "source": [
    "d"
   ]
  },
  {
   "cell_type": "code",
   "execution_count": 210,
   "metadata": {
    "ExecuteTime": {
     "end_time": "2023-10-01T15:18:06.512184Z",
     "start_time": "2023-10-01T15:18:06.500150Z"
    }
   },
   "outputs": [
    {
     "data": {
      "text/plain": [
       "'the mentioned key is not prenent hence cannot be removed'"
      ]
     },
     "execution_count": 210,
     "metadata": {},
     "output_type": "execute_result"
    }
   ],
   "source": [
    "# d.pop(keyname, message if key does not exist)  - it removes and returns element from a dictionary having given key. ,\n",
    "# default_value is to be returned if key does not exist\n",
    "d.pop('ssafasfa' , 'the mentioned key is not prenent hence cannot be removed')"
   ]
  },
  {
   "cell_type": "code",
   "execution_count": 211,
   "metadata": {},
   "outputs": [],
   "source": [
    "# del d['ide']"
   ]
  },
  {
   "cell_type": "code",
   "execution_count": 214,
   "metadata": {
    "ExecuteTime": {
     "end_time": "2023-10-01T15:18:30.725237Z",
     "start_time": "2023-10-01T15:18:30.718230Z"
    }
   },
   "outputs": [
    {
     "data": {
      "text/plain": [
       "{'age': 23, 'hair': 'black', 1: 'id', 23.0: 'float val', 'place': 'Delhi'}"
      ]
     },
     "execution_count": 214,
     "metadata": {},
     "output_type": "execute_result"
    }
   ],
   "source": [
    "d"
   ]
  },
  {
   "cell_type": "code",
   "execution_count": 213,
   "metadata": {
    "ExecuteTime": {
     "end_time": "2022-05-29T14:59:27.419878Z",
     "start_time": "2022-05-29T14:59:27.413878Z"
    }
   },
   "outputs": [
    {
     "data": {
      "text/plain": [
       "('age', 'hair', 1, 23.0, 'place')"
      ]
     },
     "execution_count": 213,
     "metadata": {},
     "output_type": "execute_result"
    }
   ],
   "source": [
    "tuple(d)"
   ]
  },
  {
   "cell_type": "code",
   "execution_count": 215,
   "metadata": {
    "ExecuteTime": {
     "end_time": "2023-10-01T15:19:21.857039Z",
     "start_time": "2023-10-01T15:19:21.845039Z"
    }
   },
   "outputs": [
    {
     "data": {
      "text/plain": [
       "{'age': 23,\n",
       " 'hair': 'black',\n",
       " 1: 'id',\n",
       " 23.0: 'float val',\n",
       " 'place': 'Delhi',\n",
       " 'country': 'India',\n",
       " 'seasons': 6}"
      ]
     },
     "execution_count": 215,
     "metadata": {},
     "output_type": "execute_result"
    }
   ],
   "source": [
    "# d.update(iterable)  - inserts the specified items to dictionary.\n",
    "d1 = {'country' : 'India' , 'seasons' : 6}\n",
    "d.update(d1)\n",
    "d"
   ]
  },
  {
   "cell_type": "markdown",
   "metadata": {},
   "source": [
    "## Sets\n",
    "- every item is unique (no duplicates)\n",
    "- To convert a list , tuple, dictionary to the set use inbuild function set()\n",
    "- Indexing is not allowed in sets"
   ]
  },
  {
   "cell_type": "code",
   "execution_count": 216,
   "metadata": {
    "ExecuteTime": {
     "end_time": "2023-10-01T15:50:46.655238Z",
     "start_time": "2023-10-01T15:50:46.641237Z"
    }
   },
   "outputs": [
    {
     "data": {
      "text/plain": [
       "{1, 2, 3}"
      ]
     },
     "execution_count": 216,
     "metadata": {},
     "output_type": "execute_result"
    }
   ],
   "source": [
    "{1,2,3}"
   ]
  },
  {
   "cell_type": "code",
   "execution_count": 217,
   "metadata": {
    "ExecuteTime": {
     "end_time": "2023-10-01T15:50:55.589379Z",
     "start_time": "2023-10-01T15:50:55.580369Z"
    }
   },
   "outputs": [
    {
     "data": {
      "text/plain": [
       "{1, 2, 3}"
      ]
     },
     "execution_count": 217,
     "metadata": {},
     "output_type": "execute_result"
    }
   ],
   "source": [
    "{1,2,3,1,2,1,2,3,3,3,3,2,2,2,1,1,2}"
   ]
  },
  {
   "cell_type": "code",
   "execution_count": 218,
   "metadata": {
    "ExecuteTime": {
     "end_time": "2023-10-01T15:51:05.261935Z",
     "start_time": "2023-10-01T15:51:05.248904Z"
    }
   },
   "outputs": [
    {
     "data": {
      "text/plain": [
       "set"
      ]
     },
     "execution_count": 218,
     "metadata": {},
     "output_type": "execute_result"
    }
   ],
   "source": [
    "type({1,2,1,1,1,1})"
   ]
  },
  {
   "cell_type": "code",
   "execution_count": 219,
   "metadata": {
    "ExecuteTime": {
     "end_time": "2023-10-01T15:51:28.323053Z",
     "start_time": "2023-10-01T15:51:28.302016Z"
    }
   },
   "outputs": [
    {
     "name": "stderr",
     "output_type": "stream",
     "text": [
      "<>:1: SyntaxWarning: 'set' object is not subscriptable; perhaps you missed a comma?\n",
      "<>:1: SyntaxWarning: 'set' object is not subscriptable; perhaps you missed a comma?\n",
      "C:\\Users\\PC\\AppData\\Local\\Temp\\ipykernel_15980\\3422808132.py:1: SyntaxWarning: 'set' object is not subscriptable; perhaps you missed a comma?\n",
      "  {3,7,9}[0]\n"
     ]
    },
    {
     "ename": "TypeError",
     "evalue": "'set' object is not subscriptable",
     "output_type": "error",
     "traceback": [
      "\u001b[1;31m---------------------------------------------------------------------------\u001b[0m",
      "\u001b[1;31mTypeError\u001b[0m                                 Traceback (most recent call last)",
      "\u001b[1;32m~\\AppData\\Local\\Temp\\ipykernel_15980\\3422808132.py\u001b[0m in \u001b[0;36m<module>\u001b[1;34m\u001b[0m\n\u001b[1;32m----> 1\u001b[1;33m \u001b[1;33m{\u001b[0m\u001b[1;36m3\u001b[0m\u001b[1;33m,\u001b[0m\u001b[1;36m7\u001b[0m\u001b[1;33m,\u001b[0m\u001b[1;36m9\u001b[0m\u001b[1;33m}\u001b[0m\u001b[1;33m[\u001b[0m\u001b[1;36m0\u001b[0m\u001b[1;33m]\u001b[0m\u001b[1;33m\u001b[0m\u001b[1;33m\u001b[0m\u001b[0m\n\u001b[0m",
      "\u001b[1;31mTypeError\u001b[0m: 'set' object is not subscriptable"
     ]
    }
   ],
   "source": [
    "{3,7,9}[0]"
   ]
  },
  {
   "cell_type": "markdown",
   "metadata": {},
   "source": [
    "### Sets methods"
   ]
  },
  {
   "cell_type": "code",
   "execution_count": 220,
   "metadata": {
    "ExecuteTime": {
     "end_time": "2023-10-01T15:51:46.264140Z",
     "start_time": "2023-10-01T15:51:46.242191Z"
    }
   },
   "outputs": [
    {
     "data": {
      "text/plain": [
       "{1, 2, 3, 5, 6, 7, 9, 23, 54}"
      ]
     },
     "execution_count": 220,
     "metadata": {},
     "output_type": "execute_result"
    }
   ],
   "source": [
    "s = {1,2,23,54,1,1,3,5,3,5,7,9,6,2,3,5,1,1,3,5,7,5,3,6,7}\n",
    "s"
   ]
  },
  {
   "cell_type": "code",
   "execution_count": 221,
   "metadata": {
    "ExecuteTime": {
     "end_time": "2023-10-01T15:51:57.424835Z",
     "start_time": "2023-10-01T15:51:57.420881Z"
    }
   },
   "outputs": [
    {
     "data": {
      "text/plain": [
       "{1, 2, 3, 5, 6, 7, 9, 23}"
      ]
     },
     "execution_count": 221,
     "metadata": {},
     "output_type": "execute_result"
    }
   ],
   "source": [
    "# s.remove(element)  removes the element\n",
    "s.remove(54)\n",
    "s"
   ]
  },
  {
   "cell_type": "code",
   "execution_count": 172,
   "metadata": {
    "ExecuteTime": {
     "end_time": "2023-10-01T15:52:14.310017Z",
     "start_time": "2023-10-01T15:52:14.292071Z"
    }
   },
   "outputs": [
    {
     "data": {
      "text/plain": [
       "{1, 2, 3, 5, 6, 7, 9, 23, 67}"
      ]
     },
     "execution_count": 172,
     "metadata": {},
     "output_type": "execute_result"
    }
   ],
   "source": [
    "# s.add(element)  - adds the element\n",
    "s.add(67)\n",
    "s"
   ]
  },
  {
   "cell_type": "code",
   "execution_count": 225,
   "metadata": {
    "ExecuteTime": {
     "end_time": "2023-10-01T15:52:23.434441Z",
     "start_time": "2023-10-01T15:52:23.419382Z"
    }
   },
   "outputs": [],
   "source": [
    "s1 = {1,2,3,4,5,6,7}\n",
    "s2 = {5,2,6,89,65,2,34,64}"
   ]
  },
  {
   "cell_type": "code",
   "execution_count": 226,
   "metadata": {
    "ExecuteTime": {
     "end_time": "2023-10-01T15:52:23.748380Z",
     "start_time": "2023-10-01T15:52:23.728384Z"
    }
   },
   "outputs": [
    {
     "data": {
      "text/plain": [
       "{1, 2, 3, 4, 5, 6, 7}"
      ]
     },
     "execution_count": 226,
     "metadata": {},
     "output_type": "execute_result"
    }
   ],
   "source": [
    "s1"
   ]
  },
  {
   "cell_type": "code",
   "execution_count": 227,
   "metadata": {
    "ExecuteTime": {
     "end_time": "2023-10-01T15:52:24.468548Z",
     "start_time": "2023-10-01T15:52:24.449548Z"
    }
   },
   "outputs": [
    {
     "data": {
      "text/plain": [
       "{2, 5, 6, 34, 64, 65, 89}"
      ]
     },
     "execution_count": 227,
     "metadata": {},
     "output_type": "execute_result"
    }
   ],
   "source": [
    "s2"
   ]
  },
  {
   "cell_type": "code",
   "execution_count": 176,
   "metadata": {
    "ExecuteTime": {
     "end_time": "2023-10-01T15:54:14.481728Z",
     "start_time": "2023-10-01T15:54:14.475735Z"
    }
   },
   "outputs": [
    {
     "data": {
      "text/plain": [
       "{1, 3, 4, 7}"
      ]
     },
     "execution_count": 176,
     "metadata": {},
     "output_type": "execute_result"
    }
   ],
   "source": [
    "s1.difference(s2) # s1 - s2  = only elements in s1 , that is minus all the elemts of s2 ,does not update s1 or s2 just provides the diff."
   ]
  },
  {
   "cell_type": "code",
   "execution_count": 228,
   "metadata": {},
   "outputs": [
    {
     "data": {
      "text/plain": [
       "{1, 3, 4, 7}"
      ]
     },
     "execution_count": 228,
     "metadata": {},
     "output_type": "execute_result"
    }
   ],
   "source": [
    "s1 - s2"
   ]
  },
  {
   "cell_type": "code",
   "execution_count": 229,
   "metadata": {
    "ExecuteTime": {
     "end_time": "2023-10-01T15:54:37.786568Z",
     "start_time": "2023-10-01T15:54:37.780568Z"
    }
   },
   "outputs": [
    {
     "data": {
      "text/plain": [
       "{2, 5, 6}"
      ]
     },
     "execution_count": 229,
     "metadata": {},
     "output_type": "execute_result"
    }
   ],
   "source": [
    "s1.intersection(s2)    # s1 and s2 ,s1 & s2 & s3 =  s1.intersection(*(any no. of sets) othersets) - returns only the common values of the set"
   ]
  },
  {
   "cell_type": "code",
   "execution_count": 179,
   "metadata": {
    "ExecuteTime": {
     "end_time": "2023-10-01T15:54:42.904915Z",
     "start_time": "2023-10-01T15:54:42.897883Z"
    }
   },
   "outputs": [
    {
     "data": {
      "text/plain": [
       "{1, 2, 3, 4, 5, 6, 7, 34, 64, 65, 89}"
      ]
     },
     "execution_count": 179,
     "metadata": {},
     "output_type": "execute_result"
    }
   ],
   "source": [
    "s1.union(s2) # s1 or s2,s1 | s2 | s3- returns a set having all elements of all sets"
   ]
  },
  {
   "cell_type": "code",
   "execution_count": 180,
   "metadata": {
    "ExecuteTime": {
     "end_time": "2023-10-01T15:55:30.857615Z",
     "start_time": "2023-10-01T15:55:30.848615Z"
    }
   },
   "outputs": [],
   "source": [
    "s1.update(s2) # adds elements of s2 to s1 , works with list , tuple, dict , string"
   ]
  },
  {
   "cell_type": "code",
   "execution_count": 181,
   "metadata": {
    "ExecuteTime": {
     "end_time": "2023-10-01T15:55:31.359651Z",
     "start_time": "2023-10-01T15:55:31.341618Z"
    }
   },
   "outputs": [
    {
     "data": {
      "text/plain": [
       "{1, 2, 3, 4, 5, 6, 7, 34, 64, 65, 89}"
      ]
     },
     "execution_count": 181,
     "metadata": {},
     "output_type": "execute_result"
    }
   ],
   "source": [
    "s1"
   ]
  },
  {
   "cell_type": "code",
   "execution_count": 231,
   "metadata": {
    "ExecuteTime": {
     "end_time": "2023-10-01T15:55:41.692688Z",
     "start_time": "2023-10-01T15:55:41.672656Z"
    }
   },
   "outputs": [
    {
     "data": {
      "text/plain": [
       "{1, 2, 3}"
      ]
     },
     "execution_count": 231,
     "metadata": {},
     "output_type": "execute_result"
    }
   ],
   "source": [
    "set(  (1,2,3,3,3,3,3)   )"
   ]
  },
  {
   "cell_type": "code",
   "execution_count": 234,
   "metadata": {
    "ExecuteTime": {
     "end_time": "2023-10-01T15:55:38.297690Z",
     "start_time": "2023-10-01T15:55:38.285687Z"
    }
   },
   "outputs": [
    {
     "data": {
      "text/plain": [
       "[243232, 1, 54]"
      ]
     },
     "execution_count": 234,
     "metadata": {},
     "output_type": "execute_result"
    }
   ],
   "source": [
    "list(  {1,54,243232}   )  "
   ]
  },
  {
   "cell_type": "markdown",
   "metadata": {},
   "source": [
    "### Range\n",
    "\n",
    "* **Syntax**  - range( start = 0(optional) , stop , step = 1 (optional) )\n",
    "\n",
    "* It is a generator. means to see its output we use list() , tuple() , set() .\n",
    "\n",
    "* It works only with Integers means it does not support Float. (To use Float numbers we can numpy arange method or we can create a function.)\n",
    "\n",
    "* All three arguments can be postive or negative."
   ]
  },
  {
   "cell_type": "code",
   "execution_count": 236,
   "metadata": {
    "ExecuteTime": {
     "end_time": "2023-10-01T15:57:31.147074Z",
     "start_time": "2023-10-01T15:57:31.140073Z"
    }
   },
   "outputs": [
    {
     "data": {
      "text/plain": [
       "range(0, 20)"
      ]
     },
     "execution_count": 236,
     "metadata": {},
     "output_type": "execute_result"
    }
   ],
   "source": [
    "range(20)"
   ]
  },
  {
   "cell_type": "code",
   "execution_count": 237,
   "metadata": {
    "ExecuteTime": {
     "end_time": "2023-10-01T15:57:53.515797Z",
     "start_time": "2023-10-01T15:57:53.500761Z"
    }
   },
   "outputs": [
    {
     "name": "stdout",
     "output_type": "stream",
     "text": [
      "range(0, 20)\n"
     ]
    }
   ],
   "source": [
    "# To show that range function is generator . \n",
    "print(range(20))"
   ]
  },
  {
   "cell_type": "code",
   "execution_count": 239,
   "metadata": {
    "ExecuteTime": {
     "end_time": "2023-10-01T15:58:46.370979Z",
     "start_time": "2023-10-01T15:58:46.365973Z"
    }
   },
   "outputs": [
    {
     "data": {
      "text/plain": [
       "[0, 1, 2, 3, 4, 5, 6, 7, 8, 9, 10, 11, 12, 13, 14, 15, 16, 17, 18, 19]"
      ]
     },
     "execution_count": 239,
     "metadata": {},
     "output_type": "execute_result"
    }
   ],
   "source": [
    "list(   range(20)    )"
   ]
  },
  {
   "cell_type": "code",
   "execution_count": 188,
   "metadata": {
    "ExecuteTime": {
     "end_time": "2023-10-01T15:59:06.715407Z",
     "start_time": "2023-10-01T15:59:06.704408Z"
    }
   },
   "outputs": [
    {
     "data": {
      "text/plain": [
       "2"
      ]
     },
     "execution_count": 188,
     "metadata": {},
     "output_type": "execute_result"
    }
   ],
   "source": [
    "range(20)[2]"
   ]
  },
  {
   "cell_type": "code",
   "execution_count": 241,
   "metadata": {
    "ExecuteTime": {
     "end_time": "2023-10-01T15:59:30.287761Z",
     "start_time": "2023-10-01T15:59:30.270754Z"
    }
   },
   "outputs": [
    {
     "data": {
      "text/plain": [
       "[10, 12, 14, 16, 18, 20, 22, 24, 26, 28, 30, 32, 34, 36, 38]"
      ]
     },
     "execution_count": 241,
     "metadata": {},
     "output_type": "execute_result"
    }
   ],
   "source": [
    "list(range(10,40,2))"
   ]
  },
  {
   "cell_type": "markdown",
   "metadata": {},
   "source": [
    "### Length -  Gives length of the iterable.\n",
    "\n",
    "**Syntax**   -   len(iterable)"
   ]
  },
  {
   "cell_type": "code",
   "execution_count": 245,
   "metadata": {
    "ExecuteTime": {
     "end_time": "2023-10-01T16:00:22.381448Z",
     "start_time": "2023-10-01T16:00:22.376450Z"
    }
   },
   "outputs": [
    {
     "data": {
      "text/plain": [
       "7"
      ]
     },
     "execution_count": 245,
     "metadata": {},
     "output_type": "execute_result"
    }
   ],
   "source": [
    "li = [1,2,3,4,5,6,7]\n",
    "len(li)"
   ]
  },
  {
   "cell_type": "markdown",
   "metadata": {},
   "source": [
    "### Max and MIn  - Gives maximum and minimum value of the iterable\n",
    "\n",
    "**Syntax** - max( iterable )  ,  min( iterable )"
   ]
  },
  {
   "cell_type": "code",
   "execution_count": 246,
   "metadata": {
    "ExecuteTime": {
     "end_time": "2022-05-29T15:50:41.284013Z",
     "start_time": "2022-05-29T15:50:41.270013Z"
    }
   },
   "outputs": [
    {
     "data": {
      "text/plain": [
       "[1, 2, 3, 4, 5, 6, 7]"
      ]
     },
     "execution_count": 246,
     "metadata": {},
     "output_type": "execute_result"
    }
   ],
   "source": [
    "li"
   ]
  },
  {
   "cell_type": "code",
   "execution_count": 247,
   "metadata": {
    "ExecuteTime": {
     "end_time": "2023-10-01T16:00:45.141420Z",
     "start_time": "2023-10-01T16:00:45.133451Z"
    }
   },
   "outputs": [
    {
     "data": {
      "text/plain": [
       "7"
      ]
     },
     "execution_count": 247,
     "metadata": {},
     "output_type": "execute_result"
    }
   ],
   "source": [
    "max(li)"
   ]
  },
  {
   "cell_type": "code",
   "execution_count": 248,
   "metadata": {
    "ExecuteTime": {
     "end_time": "2023-10-01T16:02:30.669751Z",
     "start_time": "2023-10-01T16:02:30.658757Z"
    }
   },
   "outputs": [
    {
     "data": {
      "text/plain": [
       "89"
      ]
     },
     "execution_count": 248,
     "metadata": {},
     "output_type": "execute_result"
    }
   ],
   "source": [
    "max(2,3,5,2,2,4,2,89)"
   ]
  },
  {
   "cell_type": "code",
   "execution_count": 167,
   "metadata": {
    "ExecuteTime": {
     "end_time": "2023-10-01T16:00:50.146077Z",
     "start_time": "2023-10-01T16:00:50.131019Z"
    }
   },
   "outputs": [
    {
     "data": {
      "text/plain": [
       "1"
      ]
     },
     "execution_count": 167,
     "metadata": {},
     "output_type": "execute_result"
    }
   ],
   "source": [
    "min(li)"
   ]
  },
  {
   "cell_type": "code",
   "execution_count": 198,
   "metadata": {
    "ExecuteTime": {
     "end_time": "2023-10-01T16:00:52.894745Z",
     "start_time": "2023-10-01T16:00:52.879709Z"
    }
   },
   "outputs": [
    {
     "data": {
      "text/plain": [
       "2"
      ]
     },
     "execution_count": 198,
     "metadata": {},
     "output_type": "execute_result"
    }
   ],
   "source": [
    "min(98,56,3,4,2,6,7)"
   ]
  },
  {
   "cell_type": "markdown",
   "metadata": {},
   "source": [
    "### round()\n",
    "\n",
    "Returns the rounded off number of a floating number after the decimal points.\n",
    "\n",
    "**syntax**  -  round( number , ndigits(default) = 0 ) - ndigits - number of digits upto which we want the given number to be rounded off.\n",
    "\n",
    "ndigits shold be smaller or equal to the number of digits after the decimal. if we put value of ndigit more ot will give same number without rounding it off."
   ]
  },
  {
   "cell_type": "code",
   "execution_count": 199,
   "metadata": {
    "ExecuteTime": {
     "end_time": "2023-10-01T16:03:10.460054Z",
     "start_time": "2023-10-01T16:03:10.441056Z"
    }
   },
   "outputs": [
    {
     "data": {
      "text/plain": [
       "2"
      ]
     },
     "execution_count": 199,
     "metadata": {},
     "output_type": "execute_result"
    }
   ],
   "source": [
    "round(1.543)"
   ]
  },
  {
   "cell_type": "code",
   "execution_count": 200,
   "metadata": {
    "ExecuteTime": {
     "end_time": "2023-10-01T16:03:17.385266Z",
     "start_time": "2023-10-01T16:03:17.367234Z"
    }
   },
   "outputs": [
    {
     "data": {
      "text/plain": [
       "1.54"
      ]
     },
     "execution_count": 200,
     "metadata": {},
     "output_type": "execute_result"
    }
   ],
   "source": [
    "round(1.543 , 2)"
   ]
  },
  {
   "cell_type": "markdown",
   "metadata": {},
   "source": [
    "### Sorted(iterable , reverse = False)\n",
    "Returns a list of iterable in ascending order.\n",
    "\n",
    "works when all the elements in the iterable are of same data type."
   ]
  },
  {
   "cell_type": "code",
   "execution_count": 249,
   "metadata": {
    "ExecuteTime": {
     "end_time": "2022-05-29T15:54:08.781899Z",
     "start_time": "2022-05-29T15:54:08.767897Z"
    }
   },
   "outputs": [],
   "source": [
    "t = (100 ,54,34)\n",
    "l = [9,8,3,8.5]"
   ]
  },
  {
   "cell_type": "code",
   "execution_count": 250,
   "metadata": {
    "ExecuteTime": {
     "end_time": "2022-05-29T15:54:09.093900Z",
     "start_time": "2022-05-29T15:54:09.073903Z"
    }
   },
   "outputs": [
    {
     "data": {
      "text/plain": [
       "[3, 8, 8.5, 9]"
      ]
     },
     "execution_count": 250,
     "metadata": {},
     "output_type": "execute_result"
    }
   ],
   "source": [
    "sorted(l)"
   ]
  },
  {
   "cell_type": "code",
   "execution_count": 251,
   "metadata": {},
   "outputs": [
    {
     "data": {
      "text/plain": [
       "[9, 8, 3, 8.5]"
      ]
     },
     "execution_count": 251,
     "metadata": {},
     "output_type": "execute_result"
    }
   ],
   "source": [
    "l"
   ]
  },
  {
   "cell_type": "code",
   "execution_count": 203,
   "metadata": {
    "ExecuteTime": {
     "end_time": "2022-05-29T15:54:09.331911Z",
     "start_time": "2022-05-29T15:54:09.322908Z"
    }
   },
   "outputs": [
    {
     "data": {
      "text/plain": [
       "[34, 54, 100]"
      ]
     },
     "execution_count": 203,
     "metadata": {},
     "output_type": "execute_result"
    }
   ],
   "source": [
    "sorted(t)"
   ]
  },
  {
   "cell_type": "markdown",
   "metadata": {},
   "source": [
    "### enumerate( iterable , start = 0(optional) )\n",
    "it generates a tuples of the element and its counter(can be said index if start not included) .To view should be called by list() ,for loop , tuple()."
   ]
  },
  {
   "cell_type": "code",
   "execution_count": 263,
   "metadata": {
    "ExecuteTime": {
     "end_time": "2023-10-01T16:05:54.917720Z",
     "start_time": "2023-10-01T16:05:54.901739Z"
    }
   },
   "outputs": [],
   "source": [
    "g = ['a' , 'f' , 'l']"
   ]
  },
  {
   "cell_type": "code",
   "execution_count": 264,
   "metadata": {},
   "outputs": [
    {
     "data": {
      "text/plain": [
       "<enumerate at 0x2553372a3c0>"
      ]
     },
     "execution_count": 264,
     "metadata": {},
     "output_type": "execute_result"
    }
   ],
   "source": [
    "enumerate(g)"
   ]
  },
  {
   "cell_type": "code",
   "execution_count": 266,
   "metadata": {
    "ExecuteTime": {
     "end_time": "2023-10-01T16:06:54.791849Z",
     "start_time": "2023-10-01T16:06:54.784850Z"
    }
   },
   "outputs": [
    {
     "data": {
      "text/plain": [
       "[(0, 'a'), (1, 'f'), (2, 'l')]"
      ]
     },
     "execution_count": 266,
     "metadata": {},
     "output_type": "execute_result"
    }
   ],
   "source": [
    "list(enumerate(g ))"
   ]
  },
  {
   "cell_type": "code",
   "execution_count": 267,
   "metadata": {
    "ExecuteTime": {
     "end_time": "2023-10-01T16:06:54.791849Z",
     "start_time": "2023-10-01T16:06:54.784850Z"
    }
   },
   "outputs": [
    {
     "data": {
      "text/plain": [
       "[(10, 'a'), (11, 'f'), (12, 'l')]"
      ]
     },
     "execution_count": 267,
     "metadata": {},
     "output_type": "execute_result"
    }
   ],
   "source": [
    "list(enumerate(g ,10))"
   ]
  },
  {
   "cell_type": "code",
   "execution_count": 268,
   "metadata": {
    "ExecuteTime": {
     "end_time": "2023-10-01T16:07:03.777946Z",
     "start_time": "2023-10-01T16:07:03.762991Z"
    }
   },
   "outputs": [
    {
     "data": {
      "text/plain": [
       "{10: 'a', 11: 'f', 12: 'l'}"
      ]
     },
     "execution_count": 268,
     "metadata": {},
     "output_type": "execute_result"
    }
   ],
   "source": [
    "dict( enumerate(g , 10) ) "
   ]
  },
  {
   "cell_type": "markdown",
   "metadata": {},
   "source": [
    "### help(object) - displays the info of object passed in it."
   ]
  },
  {
   "cell_type": "code",
   "execution_count": 271,
   "metadata": {
    "ExecuteTime": {
     "end_time": "2023-10-01T16:08:15.482187Z",
     "start_time": "2023-10-01T16:08:15.467180Z"
    }
   },
   "outputs": [
    {
     "name": "stdout",
     "output_type": "stream",
     "text": [
      "Help on built-in function min in module builtins:\n",
      "\n",
      "min(...)\n",
      "    min(iterable, *[, default=obj, key=func]) -> value\n",
      "    min(arg1, arg2, *args, *[, key=func]) -> value\n",
      "    \n",
      "    With a single iterable argument, return its smallest item. The\n",
      "    default keyword-only argument specifies an object to return if\n",
      "    the provided iterable is empty.\n",
      "    With two or more arguments, return the smallest argument.\n",
      "\n"
     ]
    }
   ],
   "source": [
    "help(min)"
   ]
  },
  {
   "cell_type": "markdown",
   "metadata": {},
   "source": [
    "### sum(iterable)\n",
    "Adds all the elements of the sequence."
   ]
  },
  {
   "cell_type": "code",
   "execution_count": 217,
   "metadata": {
    "ExecuteTime": {
     "end_time": "2023-10-01T16:09:08.258368Z",
     "start_time": "2023-10-01T16:09:08.246364Z"
    }
   },
   "outputs": [
    {
     "data": {
      "text/plain": [
       "18"
      ]
     },
     "execution_count": 217,
     "metadata": {},
     "output_type": "execute_result"
    }
   ],
   "source": [
    "l = [1,2,3,4,8]\n",
    "sum(l)"
   ]
  },
  {
   "cell_type": "markdown",
   "metadata": {},
   "source": [
    "### reversed(sequence) -\n",
    "Return the reversed iterator of a given sequence. to view pass in list() ,tuple()"
   ]
  },
  {
   "cell_type": "code",
   "execution_count": 218,
   "metadata": {
    "ExecuteTime": {
     "end_time": "2022-05-29T16:02:26.027823Z",
     "start_time": "2022-05-29T16:02:26.013782Z"
    }
   },
   "outputs": [
    {
     "data": {
      "text/plain": [
       "<reversed at 0x18928fa1a30>"
      ]
     },
     "execution_count": 218,
     "metadata": {},
     "output_type": "execute_result"
    }
   ],
   "source": [
    "l = (9,5,3,55,64,1,3)\n",
    "reversed(l)"
   ]
  },
  {
   "cell_type": "code",
   "execution_count": 219,
   "metadata": {
    "ExecuteTime": {
     "end_time": "2022-05-29T16:02:38.559605Z",
     "start_time": "2022-05-29T16:02:38.549598Z"
    }
   },
   "outputs": [
    {
     "data": {
      "text/plain": [
       "(3, 1, 64, 55, 3, 5, 9)"
      ]
     },
     "execution_count": 219,
     "metadata": {},
     "output_type": "execute_result"
    }
   ],
   "source": [
    "tuple(reversed(l))"
   ]
  },
  {
   "cell_type": "markdown",
   "metadata": {},
   "source": [
    "### zip() \n",
    "\n",
    "It takes iterables and aggregates them and returns an iterator of tuple means to have a view we have to pass it through list(), tuple().\n",
    "\n",
    "It stops aggregates as soon as any sequence ends. "
   ]
  },
  {
   "cell_type": "code",
   "execution_count": 220,
   "metadata": {
    "ExecuteTime": {
     "end_time": "2023-10-01T16:11:56.552459Z",
     "start_time": "2023-10-01T16:11:56.544414Z"
    }
   },
   "outputs": [
    {
     "data": {
      "text/plain": [
       "[('a', 9), ('g', 8), (1, 'j'), (5, 7), (9, 9), (8, 10)]"
      ]
     },
     "execution_count": 220,
     "metadata": {},
     "output_type": "execute_result"
    }
   ],
   "source": [
    "l1 = ['a' , 'g' ,  1 , 5 , 9 , 8 ]\n",
    "l2 = [ 9  ,  8  , 'j', 7 , 9 , 10 ]\n",
    "\n",
    "list(  zip(  l1 ,  l2  )  )"
   ]
  },
  {
   "cell_type": "code",
   "execution_count": 221,
   "metadata": {
    "ExecuteTime": {
     "end_time": "2023-10-01T16:12:27.838121Z",
     "start_time": "2023-10-01T16:12:27.831062Z"
    }
   },
   "outputs": [
    {
     "data": {
      "text/plain": [
       "{'a': 9, 'g': 8, 1: 'j'}"
      ]
     },
     "execution_count": 221,
     "metadata": {},
     "output_type": "execute_result"
    }
   ],
   "source": [
    "l1 = ['a' , 'g' ,  1 , 5 , 9 , 8]\n",
    "l2 = [ 9  ,  8  , 'j']\n",
    "\n",
    "dict( zip(l1,l2) )"
   ]
  },
  {
   "cell_type": "markdown",
   "metadata": {},
   "source": [
    "### str method\n",
    "##### .split(seperator(optional))\n",
    "It returns a list of strings after breaking the given string by the seperator."
   ]
  },
  {
   "cell_type": "code",
   "execution_count": 277,
   "metadata": {
    "ExecuteTime": {
     "end_time": "2022-05-29T16:07:04.572331Z",
     "start_time": "2022-05-29T16:07:04.554332Z"
    }
   },
   "outputs": [],
   "source": [
    "txt = \"avbvcgbmn\""
   ]
  },
  {
   "cell_type": "code",
   "execution_count": 278,
   "metadata": {
    "ExecuteTime": {
     "end_time": "2022-05-29T16:07:14.093861Z",
     "start_time": "2022-05-29T16:07:14.087822Z"
    }
   },
   "outputs": [
    {
     "data": {
      "text/plain": [
       "['av', 'vcg', 'mn']"
      ]
     },
     "execution_count": 278,
     "metadata": {},
     "output_type": "execute_result"
    }
   ],
   "source": [
    "txt.split('b')"
   ]
  },
  {
   "cell_type": "code",
   "execution_count": 279,
   "metadata": {
    "ExecuteTime": {
     "end_time": "2022-05-29T16:08:44.643195Z",
     "start_time": "2022-05-29T16:08:44.627157Z"
    }
   },
   "outputs": [
    {
     "data": {
      "text/plain": [
       "['a', 'b', 'cgbmn']"
      ]
     },
     "execution_count": 279,
     "metadata": {},
     "output_type": "execute_result"
    }
   ],
   "source": [
    "txt.split('v')"
   ]
  },
  {
   "cell_type": "code",
   "execution_count": 280,
   "metadata": {
    "ExecuteTime": {
     "end_time": "2022-05-29T16:09:23.593165Z",
     "start_time": "2022-05-29T16:09:23.581165Z"
    }
   },
   "outputs": [
    {
     "data": {
      "text/plain": [
       "['abc', 'def']"
      ]
     },
     "execution_count": 280,
     "metadata": {},
     "output_type": "execute_result"
    }
   ],
   "source": [
    "'abc def'.split()"
   ]
  },
  {
   "cell_type": "markdown",
   "metadata": {},
   "source": [
    "### .replace( old , new , count (optional) )\n",
    "replaces old values with new . works with strings only "
   ]
  },
  {
   "cell_type": "code",
   "execution_count": 281,
   "metadata": {
    "ExecuteTime": {
     "end_time": "2023-10-01T16:13:56.611942Z",
     "start_time": "2023-10-01T16:13:56.594914Z"
    }
   },
   "outputs": [
    {
     "data": {
      "text/plain": [
       "'Ac,Ac,Ac,Ac,Ac,Ac,Ac,Ac'"
      ]
     },
     "execution_count": 281,
     "metadata": {},
     "output_type": "execute_result"
    }
   ],
   "source": [
    "s = 'abc,abc,abc,abc,abc,abc,abc,abc'\n",
    "s.replace('ab','A')"
   ]
  },
  {
   "cell_type": "code",
   "execution_count": 282,
   "metadata": {
    "ExecuteTime": {
     "end_time": "2023-10-01T16:14:16.581848Z",
     "start_time": "2023-10-01T16:14:16.572898Z"
    }
   },
   "outputs": [
    {
     "data": {
      "text/plain": [
       "'abc,abc,abc,abc,abc,abc,abc,abc'"
      ]
     },
     "execution_count": 282,
     "metadata": {},
     "output_type": "execute_result"
    }
   ],
   "source": [
    "s"
   ]
  },
  {
   "cell_type": "code",
   "execution_count": 228,
   "metadata": {
    "ExecuteTime": {
     "end_time": "2022-05-29T16:10:36.771834Z",
     "start_time": "2022-05-29T16:10:36.760835Z"
    }
   },
   "outputs": [
    {
     "data": {
      "text/plain": [
       "'Ac,Ac,Ac,Ac,abc,abc,abc,abc'"
      ]
     },
     "execution_count": 228,
     "metadata": {},
     "output_type": "execute_result"
    }
   ],
   "source": [
    "s.replace('ab','A', 4)"
   ]
  },
  {
   "cell_type": "code",
   "execution_count": 230,
   "metadata": {},
   "outputs": [
    {
     "data": {
      "text/plain": [
       "'abc,abc,abc,abc,abc,abc,abc,abc'"
      ]
     },
     "execution_count": 230,
     "metadata": {},
     "output_type": "execute_result"
    }
   ],
   "source": [
    "s"
   ]
  },
  {
   "cell_type": "code",
   "execution_count": 231,
   "metadata": {
    "ExecuteTime": {
     "end_time": "2022-05-29T16:10:43.248043Z",
     "start_time": "2022-05-29T16:10:43.242042Z"
    }
   },
   "outputs": [],
   "source": [
    "s = s.replace('ab','A', 4)"
   ]
  },
  {
   "cell_type": "code",
   "execution_count": 232,
   "metadata": {},
   "outputs": [
    {
     "data": {
      "text/plain": [
       "'Ac,Ac,Ac,Ac,abc,abc,abc,abc'"
      ]
     },
     "execution_count": 232,
     "metadata": {},
     "output_type": "execute_result"
    }
   ],
   "source": [
    "s"
   ]
  },
  {
   "cell_type": "code",
   "execution_count": 187,
   "metadata": {
    "ExecuteTime": {
     "end_time": "2022-05-29T16:13:28.545204Z",
     "start_time": "2022-05-29T16:13:28.530170Z"
    }
   },
   "outputs": [],
   "source": [
    "# s.   # tab  -> gives you all the methods allowed with this data type"
   ]
  },
  {
   "cell_type": "markdown",
   "metadata": {},
   "source": [
    "### Input\n",
    "\n",
    "Allowing user Input\n",
    "\n",
    "Input functions stores everything as a string"
   ]
  },
  {
   "cell_type": "code",
   "execution_count": 283,
   "metadata": {
    "ExecuteTime": {
     "end_time": "2023-10-01T16:15:47.284583Z",
     "start_time": "2023-10-01T16:15:28.666677Z"
    }
   },
   "outputs": [
    {
     "name": "stdout",
     "output_type": "stream",
     "text": [
      "This is a input function use case, and everthing that i write here will be stored in variable c as string\n"
     ]
    }
   ],
   "source": [
    "c = input()"
   ]
  },
  {
   "cell_type": "code",
   "execution_count": 284,
   "metadata": {
    "ExecuteTime": {
     "end_time": "2023-10-01T16:15:52.373885Z",
     "start_time": "2023-10-01T16:15:52.367888Z"
    }
   },
   "outputs": [
    {
     "data": {
      "text/plain": [
       "'This is a input function use case, and everthing that i write here will be stored in variable c as string'"
      ]
     },
     "execution_count": 284,
     "metadata": {},
     "output_type": "execute_result"
    }
   ],
   "source": [
    "c "
   ]
  },
  {
   "cell_type": "code",
   "execution_count": 285,
   "metadata": {},
   "outputs": [
    {
     "data": {
      "text/plain": [
       "str"
      ]
     },
     "execution_count": 285,
     "metadata": {},
     "output_type": "execute_result"
    }
   ],
   "source": [
    "type(c)"
   ]
  },
  {
   "cell_type": "code",
   "execution_count": 286,
   "metadata": {
    "ExecuteTime": {
     "end_time": "2023-10-01T16:16:10.208940Z",
     "start_time": "2023-10-01T16:16:08.334717Z"
    }
   },
   "outputs": [
    {
     "name": "stdout",
     "output_type": "stream",
     "text": [
      "4500\n"
     ]
    }
   ],
   "source": [
    "d = input()"
   ]
  },
  {
   "cell_type": "code",
   "execution_count": 287,
   "metadata": {
    "ExecuteTime": {
     "end_time": "2023-10-01T16:16:11.435634Z",
     "start_time": "2023-10-01T16:16:11.420622Z"
    }
   },
   "outputs": [
    {
     "data": {
      "text/plain": [
       "'4500'"
      ]
     },
     "execution_count": 287,
     "metadata": {},
     "output_type": "execute_result"
    }
   ],
   "source": [
    "d"
   ]
  },
  {
   "cell_type": "code",
   "execution_count": 288,
   "metadata": {
    "ExecuteTime": {
     "end_time": "2023-10-01T16:16:37.393566Z",
     "start_time": "2023-10-01T16:16:34.110276Z"
    }
   },
   "outputs": [
    {
     "name": "stdout",
     "output_type": "stream",
     "text": [
      "Pass your Age 67\n"
     ]
    }
   ],
   "source": [
    "d = int( input('Pass your Age ') )"
   ]
  },
  {
   "cell_type": "code",
   "execution_count": 289,
   "metadata": {
    "ExecuteTime": {
     "end_time": "2023-10-01T16:16:38.976505Z",
     "start_time": "2023-10-01T16:16:38.972495Z"
    }
   },
   "outputs": [
    {
     "data": {
      "text/plain": [
       "67"
      ]
     },
     "execution_count": 289,
     "metadata": {},
     "output_type": "execute_result"
    }
   ],
   "source": [
    "d"
   ]
  },
  {
   "cell_type": "code",
   "execution_count": 290,
   "metadata": {
    "ExecuteTime": {
     "end_time": "2023-10-01T16:16:41.435113Z",
     "start_time": "2023-10-01T16:16:41.415082Z"
    }
   },
   "outputs": [
    {
     "data": {
      "text/plain": [
       "int"
      ]
     },
     "execution_count": 290,
     "metadata": {},
     "output_type": "execute_result"
    }
   ],
   "source": [
    "type(d)"
   ]
  },
  {
   "cell_type": "code",
   "execution_count": 291,
   "metadata": {
    "ExecuteTime": {
     "end_time": "2023-10-01T16:16:56.802017Z",
     "start_time": "2023-10-01T16:16:52.858914Z"
    }
   },
   "outputs": [
    {
     "name": "stdout",
     "output_type": "stream",
     "text": [
      "Please Enter your Name Rahul\n",
      "Hello Rahul\n"
     ]
    }
   ],
   "source": [
    "name = input('Please Enter your Name ')\n",
    "print('Hello' , name )"
   ]
  },
  {
   "cell_type": "markdown",
   "metadata": {},
   "source": [
    "### Logical operators\n",
    "- and\n",
    "- or"
   ]
  },
  {
   "cell_type": "code",
   "execution_count": null,
   "metadata": {},
   "outputs": [],
   "source": [
    "# c1 and c2  and c3 and c4 and c5 ...............................  cn"
   ]
  },
  {
   "cell_type": "code",
   "execution_count": 5,
   "metadata": {},
   "outputs": [
    {
     "data": {
      "text/plain": [
       "True"
      ]
     },
     "execution_count": 5,
     "metadata": {},
     "output_type": "execute_result"
    }
   ],
   "source": [
    "( 2> 1) and (3 > 2)"
   ]
  },
  {
   "cell_type": "code",
   "execution_count": 292,
   "metadata": {},
   "outputs": [
    {
     "data": {
      "text/plain": [
       "False"
      ]
     },
     "execution_count": 292,
     "metadata": {},
     "output_type": "execute_result"
    }
   ],
   "source": [
    "(2 > 1) and (3 > 2) and (5 > 6)"
   ]
  },
  {
   "cell_type": "markdown",
   "metadata": {},
   "source": [
    "(cond1) or (cond2) or (cond3) ........ or (condn)"
   ]
  },
  {
   "cell_type": "code",
   "execution_count": 9,
   "metadata": {},
   "outputs": [
    {
     "data": {
      "text/plain": [
       "True"
      ]
     },
     "execution_count": 9,
     "metadata": {},
     "output_type": "execute_result"
    }
   ],
   "source": [
    "(3 > 10) or (4 < 3) or (3 > 1)"
   ]
  },
  {
   "cell_type": "code",
   "execution_count": 10,
   "metadata": {},
   "outputs": [
    {
     "data": {
      "text/plain": [
       "False"
      ]
     },
     "execution_count": 10,
     "metadata": {},
     "output_type": "execute_result"
    }
   ],
   "source": [
    "(3 > 10) or (4 < 3) or (3 < 1)"
   ]
  },
  {
   "cell_type": "code",
   "execution_count": 11,
   "metadata": {},
   "outputs": [
    {
     "data": {
      "text/plain": [
       "False"
      ]
     },
     "execution_count": 11,
     "metadata": {},
     "output_type": "execute_result"
    }
   ],
   "source": [
    "( (3 >= 3)  or (4 > 10)  or (5 == 5) ) and ( (5 < 10) and (10 == 11) and (11 > 20) )"
   ]
  },
  {
   "cell_type": "markdown",
   "metadata": {},
   "source": [
    "  ## While Loops\n",
    "It repeatedly executes the statement until it is True.\n",
    "\n",
    "**Syntax**\n",
    "      while expression:\n",
    "              statement(s)\n",
    "\n",
    "They can make infinite loops. to break out of a infinite loop use ctrl+c"
   ]
  },
  {
   "cell_type": "code",
   "execution_count": 12,
   "metadata": {
    "ExecuteTime": {
     "end_time": "2023-10-01T16:34:12.287655Z",
     "start_time": "2023-10-01T16:34:12.281624Z"
    }
   },
   "outputs": [
    {
     "name": "stdout",
     "output_type": "stream",
     "text": [
      "This is a infinite loop\n"
     ]
    }
   ],
   "source": [
    "# infinite loop - do not run\n",
    "while 3 < 5:\n",
    "    print('This is a infinite loop')\n",
    "    break"
   ]
  },
  {
   "cell_type": "code",
   "execution_count": 293,
   "metadata": {
    "ExecuteTime": {
     "end_time": "2023-10-01T16:40:56.072824Z",
     "start_time": "2023-10-01T16:40:56.068818Z"
    },
    "run_control": {
     "marked": false
    },
    "scrolled": true
   },
   "outputs": [
    {
     "name": "stdout",
     "output_type": "stream",
     "text": [
      "1  is value of stored in i variable\n",
      "2  is value of stored in i variable\n",
      "3  is value of stored in i variable\n",
      "4  is value of stored in i variable\n",
      "loop completed\n"
     ]
    }
   ],
   "source": [
    "i = 1\n",
    "\n",
    "while i < 5:\n",
    "    \n",
    "    print(i , ' is value of stored in i variable')   \n",
    "     \n",
    "    i = i + 1\n",
    "    \n",
    "print('loop completed')"
   ]
  },
  {
   "cell_type": "markdown",
   "metadata": {},
   "source": [
    "## For Loops\n",
    "It itereates over a sequence"
   ]
  },
  {
   "cell_type": "code",
   "execution_count": 1,
   "metadata": {
    "ExecuteTime": {
     "end_time": "2023-10-01T16:45:11.341380Z",
     "start_time": "2023-10-01T16:45:11.326380Z"
    }
   },
   "outputs": [],
   "source": [
    "seq = ['a','b','c','d','e']"
   ]
  },
  {
   "cell_type": "code",
   "execution_count": 2,
   "metadata": {
    "ExecuteTime": {
     "end_time": "2023-10-01T16:45:24.502500Z",
     "start_time": "2023-10-01T16:45:24.484499Z"
    },
    "run_control": {
     "marked": false
    }
   },
   "outputs": [
    {
     "name": "stdout",
     "output_type": "stream",
     "text": [
      "a\n",
      "b\n",
      "c\n",
      "d\n",
      "e\n"
     ]
    }
   ],
   "source": [
    "for item in seq:\n",
    "    print(item)"
   ]
  },
  {
   "cell_type": "code",
   "execution_count": 3,
   "metadata": {},
   "outputs": [
    {
     "data": {
      "text/plain": [
       "['a', 'b', 'c', 'd', 'e']"
      ]
     },
     "execution_count": 3,
     "metadata": {},
     "output_type": "execute_result"
    }
   ],
   "source": [
    "seq"
   ]
  },
  {
   "cell_type": "code",
   "execution_count": 4,
   "metadata": {},
   "outputs": [
    {
     "data": {
      "text/plain": [
       "'e'"
      ]
     },
     "execution_count": 4,
     "metadata": {},
     "output_type": "execute_result"
    }
   ],
   "source": [
    "item"
   ]
  },
  {
   "cell_type": "code",
   "execution_count": 5,
   "metadata": {
    "ExecuteTime": {
     "end_time": "2022-05-29T16:36:45.804529Z",
     "start_time": "2022-05-29T16:36:45.800530Z"
    }
   },
   "outputs": [
    {
     "name": "stdout",
     "output_type": "stream",
     "text": [
      "hi\n",
      "hi\n",
      "hi\n",
      "hi\n",
      "hi\n"
     ]
    }
   ],
   "source": [
    "for Hello in seq:\n",
    "    print('hi')"
   ]
  },
  {
   "cell_type": "code",
   "execution_count": 6,
   "metadata": {},
   "outputs": [
    {
     "data": {
      "text/plain": [
       "'e'"
      ]
     },
     "execution_count": 6,
     "metadata": {},
     "output_type": "execute_result"
    }
   ],
   "source": [
    "Hello"
   ]
  },
  {
   "cell_type": "code",
   "execution_count": 22,
   "metadata": {},
   "outputs": [
    {
     "data": {
      "text/plain": [
       "['a', 'b', 'c', 'd', 'e']"
      ]
     },
     "execution_count": 22,
     "metadata": {},
     "output_type": "execute_result"
    }
   ],
   "source": [
    "seq"
   ]
  },
  {
   "cell_type": "code",
   "execution_count": 7,
   "metadata": {
    "ExecuteTime": {
     "end_time": "2022-05-29T16:36:46.963443Z",
     "start_time": "2022-05-29T16:36:46.950407Z"
    }
   },
   "outputs": [
    {
     "name": "stdout",
     "output_type": "stream",
     "text": [
      "aa\n",
      "bb\n",
      "cc\n",
      "dd\n",
      "ee\n"
     ]
    }
   ],
   "source": [
    "for jelly in seq:\n",
    "    print(jelly + jelly)"
   ]
  },
  {
   "cell_type": "code",
   "execution_count": 28,
   "metadata": {
    "ExecuteTime": {
     "end_time": "2022-05-29T16:36:48.158559Z",
     "start_time": "2022-05-29T16:36:48.151552Z"
    }
   },
   "outputs": [
    {
     "data": {
      "text/plain": [
       "'e'"
      ]
     },
     "execution_count": 28,
     "metadata": {},
     "output_type": "execute_result"
    }
   ],
   "source": [
    "jelly"
   ]
  },
  {
   "cell_type": "code",
   "execution_count": 11,
   "metadata": {
    "ExecuteTime": {
     "end_time": "2022-05-29T16:36:48.158559Z",
     "start_time": "2022-05-29T16:36:48.151552Z"
    }
   },
   "outputs": [
    {
     "name": "stdout",
     "output_type": "stream",
     "text": [
      "square of  0  is =  0\n",
      "square of  1  is =  1\n",
      "square of  2  is =  4\n",
      "square of  3  is =  9\n",
      "square of  4  is =  16\n",
      "square of  5  is =  25\n",
      "square of  6  is =  36\n",
      "square of  7  is =  49\n",
      "square of  8  is =  64\n",
      "square of  9  is =  81\n"
     ]
    }
   ],
   "source": [
    "for i in range(10):\n",
    "    print('square of ', i, ' is = ',  i*i)"
   ]
  },
  {
   "cell_type": "markdown",
   "metadata": {},
   "source": [
    "## if, else Statements\n",
    "Runs **if** statement and if the statement fails than **else** statement is run.\n",
    "\n",
    "if can be alone but else follows a if or while statement."
   ]
  },
  {
   "cell_type": "code",
   "execution_count": 12,
   "metadata": {
    "ExecuteTime": {
     "end_time": "2022-05-29T16:39:30.366277Z",
     "start_time": "2022-05-29T16:39:30.348315Z"
    }
   },
   "outputs": [
    {
     "name": "stdout",
     "output_type": "stream",
     "text": [
      "Yep!\n"
     ]
    }
   ],
   "source": [
    "if 1 < 2:\n",
    "    print('Yep!')"
   ]
  },
  {
   "cell_type": "code",
   "execution_count": 16,
   "metadata": {
    "ExecuteTime": {
     "end_time": "2022-05-29T16:39:32.897044Z",
     "start_time": "2022-05-29T16:39:32.890039Z"
    }
   },
   "outputs": [
    {
     "name": "stdout",
     "output_type": "stream",
     "text": [
      "hello\n"
     ]
    }
   ],
   "source": [
    "if 1 > 2:\n",
    "    print('Yep!')\n",
    "    \n",
    "if 3 == 3:\n",
    "    print('hello')\n",
    "    \n",
    "if (3 == 3) and ( 9 < 8):\n",
    "    print('hi')"
   ]
  },
  {
   "cell_type": "code",
   "execution_count": 20,
   "metadata": {
    "ExecuteTime": {
     "end_time": "2022-05-29T16:38:49.126324Z",
     "start_time": "2022-05-29T16:38:49.107282Z"
    }
   },
   "outputs": [
    {
     "name": "stdout",
     "output_type": "stream",
     "text": [
      "else condition\n"
     ]
    }
   ],
   "source": [
    "if 1 > 2:\n",
    "    print('if conditon')\n",
    "else:\n",
    "    print('else condition')"
   ]
  },
  {
   "cell_type": "code",
   "execution_count": 22,
   "metadata": {
    "ExecuteTime": {
     "end_time": "2022-05-29T16:40:09.533956Z",
     "start_time": "2022-05-29T16:40:09.514919Z"
    }
   },
   "outputs": [
    {
     "name": "stdout",
     "output_type": "stream",
     "text": [
      "if conditon\n",
      "else condition\n"
     ]
    }
   ],
   "source": [
    "if 1 < 2:\n",
    "    print('if conditon')  \n",
    "    \n",
    "if 1 > 2:\n",
    "    print('if 2nd conditon')\n",
    "else:\n",
    "    print('else condition')"
   ]
  },
  {
   "cell_type": "markdown",
   "metadata": {},
   "source": [
    "**In case of multiple if statements are used than all the if statements will run and the else follows the last if statement and there can be only one else statement.**"
   ]
  },
  {
   "cell_type": "code",
   "execution_count": 23,
   "metadata": {
    "ExecuteTime": {
     "end_time": "2022-05-29T16:41:03.036184Z",
     "start_time": "2022-05-29T16:41:03.025183Z"
    },
    "run_control": {
     "marked": false
    }
   },
   "outputs": [
    {
     "name": "stdout",
     "output_type": "stream",
     "text": [
      "x is 10\n",
      "else statement ran\n"
     ]
    }
   ],
   "source": [
    "x = 10\n",
    "y = 9\n",
    "\n",
    "if x < y:\n",
    "    print('y is greater than x')\n",
    "    \n",
    "if x == 10:\n",
    "    print('x is 10')\n",
    "    \n",
    "if x < 4:\n",
    "    print ('4 is greater than x')\n",
    "    \n",
    "else:\n",
    "    print('else statement ran')"
   ]
  },
  {
   "cell_type": "code",
   "execution_count": 24,
   "metadata": {
    "ExecuteTime": {
     "end_time": "2022-05-21T04:30:28.423588Z",
     "start_time": "2022-05-21T04:30:28.404650Z"
    },
    "run_control": {
     "marked": false
    }
   },
   "outputs": [
    {
     "name": "stdout",
     "output_type": "stream",
     "text": [
      "x is equal to 10 and smaller than 11\n"
     ]
    }
   ],
   "source": [
    "x = 10\n",
    "if x == 10:\n",
    "    if x < 11:\n",
    "        print('x is equal to 10 and smaller than 11')"
   ]
  },
  {
   "cell_type": "code",
   "execution_count": 284,
   "metadata": {
    "ExecuteTime": {
     "end_time": "2022-05-29T16:42:19.574117Z",
     "start_time": "2022-05-29T16:42:19.560117Z"
    }
   },
   "outputs": [],
   "source": [
    "# anyting can come inside any thing\n",
    "# while:\n",
    "#     if:\n",
    "#         for l:\n",
    "#             while:\n",
    "#                 for:\n",
    "#                     if: max(l) == 5:\n",
    "#                             print('hello')\n",
    "#                     else:\n",
    "#                         for l: \n",
    "#                              while"
   ]
  },
  {
   "cell_type": "markdown",
   "metadata": {},
   "source": [
    "## if ,elif and else statements\n",
    "* elif = else if\n",
    "* we use **elif** with **if** statement they can not be used independently.\n",
    "* if there is **if** and **elif** statements in the program then , if and elif statement breaks the code if they are true.\n"
   ]
  },
  {
   "cell_type": "code",
   "execution_count": 29,
   "metadata": {
    "ExecuteTime": {
     "end_time": "2022-05-29T16:51:35.953607Z",
     "start_time": "2022-05-29T16:51:35.938618Z"
    },
    "run_control": {
     "marked": false
    }
   },
   "outputs": [
    {
     "name": "stdout",
     "output_type": "stream",
     "text": [
      "first\n"
     ]
    }
   ],
   "source": [
    "if 2 == 2:\n",
    "    print('first')\n",
    "elif 3 == 3:\n",
    "    print('middle')\n",
    "else:\n",
    "    print('Last')"
   ]
  },
  {
   "cell_type": "code",
   "execution_count": 36,
   "metadata": {
    "ExecuteTime": {
     "end_time": "2022-05-29T16:51:35.953607Z",
     "start_time": "2022-05-29T16:51:35.938618Z"
    }
   },
   "outputs": [
    {
     "name": "stdout",
     "output_type": "stream",
     "text": [
      "4\n"
     ]
    }
   ],
   "source": [
    "if 2 != 2:\n",
    "    print('2')\n",
    "    \n",
    "elif 3 != 3:\n",
    "    print('3')\n",
    "    \n",
    "elif 4 == 4:\n",
    "    print('4')\n",
    "    \n",
    "elif 5 != 5:\n",
    "    print('5')\n",
    "    \n",
    "else:\n",
    "    print('else')"
   ]
  },
  {
   "cell_type": "markdown",
   "metadata": {},
   "source": [
    "### Error Handling  \n",
    "#### try ,except\n",
    "\n",
    "The python program terminates as soon as it encounters error.In python it can be syntax error or n exception. syntax error occurs when there is incorrect syntax like incomplete brackets , extra brackets ,wrong spelling\n",
    "\n",
    "**try :**\n",
    "\n",
    "       run this code\n",
    "       \n",
    "      \n",
    "**except:**\n",
    "\n",
    "       execute this code when there is a exception  / error in try block"
   ]
  },
  {
   "cell_type": "code",
   "execution_count": 37,
   "metadata": {
    "ExecuteTime": {
     "end_time": "2022-06-04T13:43:29.862105Z",
     "start_time": "2022-06-04T13:43:29.838660Z"
    }
   },
   "outputs": [
    {
     "ename": "ZeroDivisionError",
     "evalue": "division by zero",
     "output_type": "error",
     "traceback": [
      "\u001b[1;31m---------------------------------------------------------------------------\u001b[0m",
      "\u001b[1;31mZeroDivisionError\u001b[0m                         Traceback (most recent call last)",
      "\u001b[1;32m~\\AppData\\Local\\Temp\\ipykernel_12444\\4217119774.py\u001b[0m in \u001b[0;36m<module>\u001b[1;34m\u001b[0m\n\u001b[1;32m----> 1\u001b[1;33m \u001b[0mprint\u001b[0m\u001b[1;33m(\u001b[0m\u001b[1;36m5\u001b[0m\u001b[1;33m/\u001b[0m\u001b[1;36m0\u001b[0m\u001b[1;33m)\u001b[0m\u001b[1;33m\u001b[0m\u001b[1;33m\u001b[0m\u001b[0m\n\u001b[0m\u001b[0;32m      2\u001b[0m \u001b[0mprint\u001b[0m\u001b[1;33m(\u001b[0m\u001b[1;34m'hi'\u001b[0m\u001b[1;33m)\u001b[0m\u001b[1;33m\u001b[0m\u001b[1;33m\u001b[0m\u001b[0m\n",
      "\u001b[1;31mZeroDivisionError\u001b[0m: division by zero"
     ]
    }
   ],
   "source": [
    "print(5/0)\n",
    "print('hi')"
   ]
  },
  {
   "cell_type": "code",
   "execution_count": 38,
   "metadata": {
    "ExecuteTime": {
     "end_time": "2022-06-04T13:46:40.896413Z",
     "start_time": "2022-06-04T13:46:40.881427Z"
    }
   },
   "outputs": [
    {
     "name": "stdout",
     "output_type": "stream",
     "text": [
      "division by 0 not possible\n",
      "hi\n"
     ]
    }
   ],
   "source": [
    "try:\n",
    "    print(5/0)\n",
    "except:\n",
    "    print('division by 0 not possible')\n",
    "    \n",
    "print('hi')"
   ]
  },
  {
   "cell_type": "code",
   "execution_count": 39,
   "metadata": {
    "ExecuteTime": {
     "end_time": "2022-06-04T13:43:43.142294Z",
     "start_time": "2022-06-04T13:43:43.119296Z"
    }
   },
   "outputs": [
    {
     "name": "stdout",
     "output_type": "stream",
     "text": [
      "11\n",
      "12\n",
      "13\n"
     ]
    },
    {
     "ename": "TypeError",
     "evalue": "can only concatenate str (not \"int\") to str",
     "output_type": "error",
     "traceback": [
      "\u001b[1;31m---------------------------------------------------------------------------\u001b[0m",
      "\u001b[1;31mTypeError\u001b[0m                                 Traceback (most recent call last)",
      "\u001b[1;32m~\\AppData\\Local\\Temp\\ipykernel_12444\\3605104677.py\u001b[0m in \u001b[0;36m<module>\u001b[1;34m\u001b[0m\n\u001b[0;32m      1\u001b[0m \u001b[1;32mfor\u001b[0m \u001b[0mi\u001b[0m \u001b[1;32min\u001b[0m \u001b[1;33m[\u001b[0m\u001b[1;36m3\u001b[0m\u001b[1;33m,\u001b[0m\u001b[1;36m4\u001b[0m\u001b[1;33m,\u001b[0m\u001b[1;36m5\u001b[0m\u001b[1;33m,\u001b[0m\u001b[1;34m'a'\u001b[0m\u001b[1;33m,\u001b[0m\u001b[1;36m5\u001b[0m\u001b[1;33m,\u001b[0m\u001b[1;36m7\u001b[0m\u001b[1;33m]\u001b[0m\u001b[1;33m:\u001b[0m\u001b[1;33m\u001b[0m\u001b[1;33m\u001b[0m\u001b[0m\n\u001b[1;32m----> 2\u001b[1;33m     \u001b[0mprint\u001b[0m\u001b[1;33m(\u001b[0m\u001b[0mi\u001b[0m \u001b[1;33m+\u001b[0m \u001b[1;36m8\u001b[0m\u001b[1;33m)\u001b[0m\u001b[1;33m\u001b[0m\u001b[1;33m\u001b[0m\u001b[0m\n\u001b[0m",
      "\u001b[1;31mTypeError\u001b[0m: can only concatenate str (not \"int\") to str"
     ]
    }
   ],
   "source": [
    "for i in [3,4,5,'a',5,7]:\n",
    "    print(i + 8)"
   ]
  },
  {
   "cell_type": "code",
   "execution_count": 40,
   "metadata": {
    "ExecuteTime": {
     "end_time": "2022-06-04T13:46:06.824713Z",
     "start_time": "2022-06-04T13:46:06.811671Z"
    }
   },
   "outputs": [
    {
     "name": "stdout",
     "output_type": "stream",
     "text": [
      "3 sum  11\n",
      "4 sum  12\n",
      "5 sum  13\n",
      "a <class 'str'> In this try has failed, hence except ran\n",
      "5 sum  13\n",
      "7 sum  15\n",
      "[1, 2, 3] <class 'list'> In this try has failed, hence except ran\n"
     ]
    }
   ],
   "source": [
    "inp = [3,4,5,'a',5,7,[1,2,3]]\n",
    "\n",
    "for i in inp:\n",
    "    try:\n",
    "        print(i , 'sum ' , i + 8)\n",
    "    except:\n",
    "        print(i , type(i) , 'In this try has failed, hence except ran')"
   ]
  },
  {
   "cell_type": "markdown",
   "metadata": {},
   "source": [
    "### pass \n",
    "If nothing is supoosed to happen in a code block , a pass is needed for such a block to not produce error."
   ]
  },
  {
   "cell_type": "code",
   "execution_count": 41,
   "metadata": {},
   "outputs": [
    {
     "ename": "ZeroDivisionError",
     "evalue": "division by zero",
     "output_type": "error",
     "traceback": [
      "\u001b[1;31m---------------------------------------------------------------------------\u001b[0m",
      "\u001b[1;31mZeroDivisionError\u001b[0m                         Traceback (most recent call last)",
      "\u001b[1;32m~\\AppData\\Local\\Temp\\ipykernel_12444\\2874912419.py\u001b[0m in \u001b[0;36m<module>\u001b[1;34m\u001b[0m\n\u001b[1;32m----> 1\u001b[1;33m \u001b[1;36m5\u001b[0m\u001b[1;33m/\u001b[0m\u001b[1;36m0\u001b[0m\u001b[1;33m\u001b[0m\u001b[1;33m\u001b[0m\u001b[0m\n\u001b[0m",
      "\u001b[1;31mZeroDivisionError\u001b[0m: division by zero"
     ]
    }
   ],
   "source": [
    "5/0"
   ]
  },
  {
   "cell_type": "code",
   "execution_count": 44,
   "metadata": {
    "ExecuteTime": {
     "end_time": "2022-05-29T16:56:35.044137Z",
     "start_time": "2022-05-29T16:56:35.037136Z"
    }
   },
   "outputs": [],
   "source": [
    "try:\n",
    "    5/0\n",
    "except:\n",
    "    pass"
   ]
  },
  {
   "cell_type": "markdown",
   "metadata": {},
   "source": [
    "### break\n",
    "It breaks the loop and comes out of the loop."
   ]
  },
  {
   "cell_type": "code",
   "execution_count": 45,
   "metadata": {},
   "outputs": [
    {
     "name": "stdout",
     "output_type": "stream",
     "text": [
      "this is a infinite loop\n"
     ]
    }
   ],
   "source": [
    "while 3 < 5:\n",
    "    print('this is a infinite loop')\n",
    "    break"
   ]
  },
  {
   "cell_type": "code",
   "execution_count": 46,
   "metadata": {
    "ExecuteTime": {
     "end_time": "2022-05-29T16:58:37.235377Z",
     "start_time": "2022-05-29T16:58:37.222334Z"
    }
   },
   "outputs": [
    {
     "name": "stdout",
     "output_type": "stream",
     "text": [
      "Allow  10\n",
      "Allow  2\n",
      "Alert\n"
     ]
    }
   ],
   "source": [
    "for i in [10,2,'suspicious person',4,5,6]:\n",
    "    \n",
    "    if i == 'suspicious person':\n",
    "        print('Alert')\n",
    "        break\n",
    "        \n",
    "    print('Allow ',i)"
   ]
  },
  {
   "cell_type": "markdown",
   "metadata": {},
   "source": [
    "### continue\n",
    "The continue is preceeded by a condition . if the condition is True than continue will not run the code below and will move back starting step of the loop for processing next step."
   ]
  },
  {
   "cell_type": "code",
   "execution_count": 48,
   "metadata": {
    "ExecuteTime": {
     "end_time": "2022-05-29T17:07:42.993980Z",
     "start_time": "2022-05-29T17:07:42.977987Z"
    }
   },
   "outputs": [
    {
     "name": "stdout",
     "output_type": "stream",
     "text": [
      "norma1 security check will happen\n",
      "normal_1 security check will happen\n",
      "normal_2 security check will happen\n"
     ]
    }
   ],
   "source": [
    "for person in ['norma1' , 'vip' , 'normal_1' , 'vip' , 'normal_2']:\n",
    "    \n",
    "    if person == 'vip':\n",
    "        continue  # prevents the further procedure to happen\n",
    "\n",
    "    # further procedure to happen with the person\n",
    "    print(person , 'security check will happen')"
   ]
  },
  {
   "cell_type": "markdown",
   "metadata": {},
   "source": [
    "### Python Functions\n",
    "- They are block of codes which run when called upon , they are made to decrease our work for writing the code again and again.\n",
    "\n",
    "- They start with def which stands for define.\n",
    "\n",
    "- They have small paranthesis with them followed by colon (:) which gives indentation to next line.\n",
    "\n",
    "- Indentation is necsaary to make a particular code belong to a function\n",
    "\n",
    "- They are called by using function name with small brackets and with parameters if defined."
   ]
  },
  {
   "cell_type": "code",
   "execution_count": 49,
   "metadata": {
    "ExecuteTime": {
     "end_time": "2022-05-29T17:14:10.071340Z",
     "start_time": "2022-05-29T17:14:10.061333Z"
    },
    "run_control": {
     "marked": false
    }
   },
   "outputs": [],
   "source": [
    "# defining the function\n",
    "def myfunction():\n",
    "    print('hi')"
   ]
  },
  {
   "cell_type": "code",
   "execution_count": 51,
   "metadata": {
    "ExecuteTime": {
     "end_time": "2022-05-29T17:14:32.223485Z",
     "start_time": "2022-05-29T17:14:32.214539Z"
    }
   },
   "outputs": [
    {
     "name": "stdout",
     "output_type": "stream",
     "text": [
      "hi\n"
     ]
    }
   ],
   "source": [
    "# calling the function\n",
    "myfunction()"
   ]
  },
  {
   "cell_type": "code",
   "execution_count": 52,
   "metadata": {
    "ExecuteTime": {
     "end_time": "2022-05-29T17:18:14.253373Z",
     "start_time": "2022-05-29T17:18:14.240332Z"
    }
   },
   "outputs": [],
   "source": [
    "#  Function with parameters\n",
    "def addfunction(a , b):\n",
    "    print('add ', a + b)"
   ]
  },
  {
   "cell_type": "code",
   "execution_count": 53,
   "metadata": {},
   "outputs": [
    {
     "ename": "TypeError",
     "evalue": "addfunction() missing 2 required positional arguments: 'a' and 'b'",
     "output_type": "error",
     "traceback": [
      "\u001b[1;31m---------------------------------------------------------------------------\u001b[0m",
      "\u001b[1;31mTypeError\u001b[0m                                 Traceback (most recent call last)",
      "\u001b[1;32m~\\AppData\\Local\\Temp\\ipykernel_12444\\250976665.py\u001b[0m in \u001b[0;36m<module>\u001b[1;34m\u001b[0m\n\u001b[1;32m----> 1\u001b[1;33m \u001b[0maddfunction\u001b[0m\u001b[1;33m(\u001b[0m\u001b[1;33m)\u001b[0m\u001b[1;33m\u001b[0m\u001b[1;33m\u001b[0m\u001b[0m\n\u001b[0m",
      "\u001b[1;31mTypeError\u001b[0m: addfunction() missing 2 required positional arguments: 'a' and 'b'"
     ]
    }
   ],
   "source": [
    "addfunction()"
   ]
  },
  {
   "cell_type": "code",
   "execution_count": 54,
   "metadata": {
    "ExecuteTime": {
     "end_time": "2022-05-29T17:18:15.426165Z",
     "start_time": "2022-05-29T17:18:15.418166Z"
    }
   },
   "outputs": [
    {
     "name": "stdout",
     "output_type": "stream",
     "text": [
      "add  18\n"
     ]
    }
   ],
   "source": [
    "addfunction(10 , 8)\n",
    "# addfunction(a = 10 , b = 8)   # recommended"
   ]
  },
  {
   "cell_type": "code",
   "execution_count": 55,
   "metadata": {},
   "outputs": [
    {
     "ename": "NameError",
     "evalue": "name 'b' is not defined",
     "output_type": "error",
     "traceback": [
      "\u001b[1;31m---------------------------------------------------------------------------\u001b[0m",
      "\u001b[1;31mNameError\u001b[0m                                 Traceback (most recent call last)",
      "\u001b[1;32m~\\AppData\\Local\\Temp\\ipykernel_12444\\1685013873.py\u001b[0m in \u001b[0;36m<module>\u001b[1;34m\u001b[0m\n\u001b[1;32m----> 1\u001b[1;33m \u001b[0mb\u001b[0m\u001b[1;33m\u001b[0m\u001b[1;33m\u001b[0m\u001b[0m\n\u001b[0m",
      "\u001b[1;31mNameError\u001b[0m: name 'b' is not defined"
     ]
    }
   ],
   "source": [
    "b"
   ]
  },
  {
   "cell_type": "code",
   "execution_count": 59,
   "metadata": {
    "ExecuteTime": {
     "end_time": "2022-05-29T17:18:16.282268Z",
     "start_time": "2022-05-29T17:18:16.272224Z"
    }
   },
   "outputs": [
    {
     "name": "stdout",
     "output_type": "stream",
     "text": [
      "add  7\n"
     ]
    }
   ],
   "source": [
    "addfunction(b = 2 , a = 5) "
   ]
  },
  {
   "cell_type": "code",
   "execution_count": 57,
   "metadata": {
    "ExecuteTime": {
     "end_time": "2022-05-29T17:18:16.282268Z",
     "start_time": "2022-05-29T17:18:16.272224Z"
    }
   },
   "outputs": [
    {
     "name": "stdout",
     "output_type": "stream",
     "text": [
      "add  ['c', 'd', 'a', 'b']\n"
     ]
    }
   ],
   "source": [
    "addfunction(b = ['a','b'] , a = ['c', 'd']) "
   ]
  },
  {
   "cell_type": "code",
   "execution_count": 60,
   "metadata": {
    "ExecuteTime": {
     "end_time": "2022-05-29T17:19:26.785207Z",
     "start_time": "2022-05-29T17:19:26.778209Z"
    }
   },
   "outputs": [],
   "source": [
    "# calling one fuction inside other\n",
    "def subtraction_addition(ele1 , ele2):\n",
    "    print('sub ' , ele1 - ele2)\n",
    "    addfunction(ele1 , ele2)\n",
    "    myfunction()"
   ]
  },
  {
   "cell_type": "code",
   "execution_count": 61,
   "metadata": {
    "ExecuteTime": {
     "end_time": "2022-05-29T17:19:31.599321Z",
     "start_time": "2022-05-29T17:19:31.589322Z"
    }
   },
   "outputs": [
    {
     "name": "stdout",
     "output_type": "stream",
     "text": [
      "sub  1\n",
      "add  19\n",
      "hi\n"
     ]
    }
   ],
   "source": [
    "subtraction_addition(ele1 = 10, ele2 = 9)"
   ]
  },
  {
   "cell_type": "code",
   "execution_count": 62,
   "metadata": {
    "ExecuteTime": {
     "end_time": "2022-05-29T17:20:19.215456Z",
     "start_time": "2022-05-29T17:20:19.207456Z"
    }
   },
   "outputs": [
    {
     "name": "stdout",
     "output_type": "stream",
     "text": [
      "15\n"
     ]
    }
   ],
   "source": [
    "# specifying the parameter default value.\n",
    "\n",
    "def add( a , b = 10):\n",
    "    print(a + b)\n",
    "    \n",
    "    \n",
    "add(5)"
   ]
  },
  {
   "cell_type": "code",
   "execution_count": 63,
   "metadata": {
    "ExecuteTime": {
     "end_time": "2022-05-29T17:20:35.949923Z",
     "start_time": "2022-05-29T17:20:35.945923Z"
    }
   },
   "outputs": [
    {
     "name": "stdout",
     "output_type": "stream",
     "text": [
      "45\n"
     ]
    }
   ],
   "source": [
    "#  we can update the defined value by passing new value.\n",
    "add(10,35)"
   ]
  },
  {
   "cell_type": "code",
   "execution_count": 64,
   "metadata": {
    "ExecuteTime": {
     "end_time": "2022-05-29T17:20:46.040842Z",
     "start_time": "2022-05-29T17:20:46.031791Z"
    }
   },
   "outputs": [],
   "source": [
    "def add(a = 10 , b = 10):\n",
    "    print(a + b)"
   ]
  },
  {
   "cell_type": "code",
   "execution_count": 65,
   "metadata": {
    "ExecuteTime": {
     "end_time": "2022-05-29T17:20:46.548986Z",
     "start_time": "2022-05-29T17:20:46.530986Z"
    }
   },
   "outputs": [
    {
     "name": "stdout",
     "output_type": "stream",
     "text": [
      "55\n"
     ]
    }
   ],
   "source": [
    "add(a = 45)"
   ]
  },
  {
   "cell_type": "markdown",
   "metadata": {},
   "source": [
    "### return\n",
    "A return statement causes our function to exit and hand back a value to the caller.\n",
    "\n",
    "As soon as return is encountered , function exits without running the code written below return in function."
   ]
  },
  {
   "cell_type": "code",
   "execution_count": 66,
   "metadata": {
    "ExecuteTime": {
     "end_time": "2022-05-29T17:21:21.258851Z",
     "start_time": "2022-05-29T17:21:21.244869Z"
    }
   },
   "outputs": [],
   "source": [
    "def function(a , b):\n",
    "    print('in function')\n",
    "    print(a  +  b)"
   ]
  },
  {
   "cell_type": "code",
   "execution_count": 67,
   "metadata": {
    "ExecuteTime": {
     "end_time": "2022-05-29T17:21:23.182881Z",
     "start_time": "2022-05-29T17:21:23.174867Z"
    }
   },
   "outputs": [
    {
     "name": "stdout",
     "output_type": "stream",
     "text": [
      "in function\n",
      "6\n"
     ]
    }
   ],
   "source": [
    "function(2,4)"
   ]
  },
  {
   "cell_type": "code",
   "execution_count": 68,
   "metadata": {
    "ExecuteTime": {
     "end_time": "2022-05-29T17:21:33.916102Z",
     "start_time": "2022-05-29T17:21:33.897149Z"
    }
   },
   "outputs": [
    {
     "name": "stdout",
     "output_type": "stream",
     "text": [
      "in function\n",
      "6\n"
     ]
    }
   ],
   "source": [
    "x = function(2,4)"
   ]
  },
  {
   "cell_type": "code",
   "execution_count": 75,
   "metadata": {},
   "outputs": [],
   "source": [
    "x"
   ]
  },
  {
   "cell_type": "code",
   "execution_count": 76,
   "metadata": {
    "ExecuteTime": {
     "end_time": "2022-05-29T17:21:41.953258Z",
     "start_time": "2022-05-29T17:21:41.943255Z"
    }
   },
   "outputs": [
    {
     "data": {
      "text/plain": [
       "NoneType"
      ]
     },
     "execution_count": 76,
     "metadata": {},
     "output_type": "execute_result"
    }
   ],
   "source": [
    "type(x)"
   ]
  },
  {
   "cell_type": "code",
   "execution_count": 83,
   "metadata": {
    "ExecuteTime": {
     "end_time": "2022-05-29T17:24:51.513631Z",
     "start_time": "2022-05-29T17:24:51.508055Z"
    }
   },
   "outputs": [],
   "source": [
    "def function(a , b):\n",
    "    print('in function')\n",
    "    return a  +  b\n",
    "    print('this is after return keyword hence will not be executed')"
   ]
  },
  {
   "cell_type": "code",
   "execution_count": 84,
   "metadata": {
    "ExecuteTime": {
     "end_time": "2022-05-29T17:24:51.996992Z",
     "start_time": "2022-05-29T17:24:51.990970Z"
    }
   },
   "outputs": [
    {
     "name": "stdout",
     "output_type": "stream",
     "text": [
      "in function\n"
     ]
    }
   ],
   "source": [
    "x = function(2,4)"
   ]
  },
  {
   "cell_type": "code",
   "execution_count": 85,
   "metadata": {
    "ExecuteTime": {
     "end_time": "2022-05-29T17:24:52.432096Z",
     "start_time": "2022-05-29T17:24:52.425099Z"
    }
   },
   "outputs": [
    {
     "data": {
      "text/plain": [
       "6"
      ]
     },
     "execution_count": 85,
     "metadata": {},
     "output_type": "execute_result"
    }
   ],
   "source": [
    "x"
   ]
  },
  {
   "cell_type": "code",
   "execution_count": 86,
   "metadata": {
    "ExecuteTime": {
     "end_time": "2022-05-29T17:24:53.006821Z",
     "start_time": "2022-05-29T17:24:52.999698Z"
    }
   },
   "outputs": [
    {
     "name": "stdout",
     "output_type": "stream",
     "text": [
      "12\n"
     ]
    }
   ],
   "source": [
    "y = x + x\n",
    "print(y)"
   ]
  },
  {
   "cell_type": "code",
   "execution_count": 99,
   "metadata": {
    "ExecuteTime": {
     "end_time": "2022-05-29T17:26:45.226313Z",
     "start_time": "2022-05-29T17:26:45.210210Z"
    }
   },
   "outputs": [],
   "source": [
    "# multiple args\n",
    "def many_args_fun(*mult_args):\n",
    "    \n",
    "    print(mult_args)\n",
    "    print(type(mult_args))\n",
    "    \n",
    "    print(sum(mult_args))\n",
    "    print('avg' , sum(mult_args) / len(mult_args))"
   ]
  },
  {
   "cell_type": "code",
   "execution_count": 100,
   "metadata": {
    "ExecuteTime": {
     "end_time": "2022-05-29T17:26:45.753814Z",
     "start_time": "2022-05-29T17:26:45.733992Z"
    }
   },
   "outputs": [
    {
     "name": "stdout",
     "output_type": "stream",
     "text": [
      "(100, 20, 4.8, 5, 6, 7, 88, 9, 9, 456, 4, 35, 3, 356, 756, 6)\n",
      "<class 'tuple'>\n",
      "1864.8\n",
      "avg 116.55\n"
     ]
    }
   ],
   "source": [
    "many_args_fun(  100 , 20 , 4.8 , 5 , 6 , 7 , 88 , 9 , 9 , 456 , 4 , 35 , 3 , 356 , 756 , 6  )"
   ]
  },
  {
   "cell_type": "code",
   "execution_count": 101,
   "metadata": {
    "ExecuteTime": {
     "end_time": "2022-05-29T17:28:34.225906Z",
     "start_time": "2022-05-29T17:28:34.207774Z"
    }
   },
   "outputs": [],
   "source": [
    "# multiple keyword args\n",
    "def many_args_fun(**keyword_args):\n",
    "    \n",
    "    print(keyword_args)\n",
    "    print(type(keyword_args))\n",
    "    \n",
    "    print(f\" {keyword_args['name']} is from {keyword_args['city']} which is in {keyword_args['country']} \")\n",
    "    \n",
    "    # add this dic to dataframe which has all the users information"
   ]
  },
  {
   "cell_type": "code",
   "execution_count": 94,
   "metadata": {
    "ExecuteTime": {
     "end_time": "2022-05-29T17:28:34.613320Z",
     "start_time": "2022-05-29T17:28:34.603574Z"
    }
   },
   "outputs": [
    {
     "name": "stdout",
     "output_type": "stream",
     "text": [
      "{'name': 'sam', 'age': 34, 'city': 'Delhi', 'country': 'India', 'study': 'bachelors'}\n",
      "<class 'dict'>\n",
      " sam is from Delhi which is in India \n"
     ]
    }
   ],
   "source": [
    "# many_args_fun('sam' , 34 , 'Delhi' , 'India')\n",
    "\n",
    "many_args_fun(name = 'sam' , age = 34 , city = 'Delhi' , country = 'India' , study = 'bachelors')"
   ]
  },
  {
   "cell_type": "markdown",
   "metadata": {},
   "source": [
    "### Lambda Function"
   ]
  },
  {
   "cell_type": "code",
   "execution_count": 102,
   "metadata": {
    "ExecuteTime": {
     "end_time": "2022-06-04T13:51:15.468322Z",
     "start_time": "2022-06-04T13:51:15.453276Z"
    }
   },
   "outputs": [
    {
     "data": {
      "text/plain": [
       "16"
      ]
     },
     "execution_count": 102,
     "metadata": {},
     "output_type": "execute_result"
    }
   ],
   "source": [
    "def li(a):\n",
    "    return(a + 10)\n",
    "\n",
    "li(6)"
   ]
  },
  {
   "cell_type": "code",
   "execution_count": 103,
   "metadata": {
    "ExecuteTime": {
     "end_time": "2022-06-04T13:51:47.238642Z",
     "start_time": "2022-06-04T13:51:47.228641Z"
    }
   },
   "outputs": [
    {
     "data": {
      "text/plain": [
       "<function __main__.<lambda>(a)>"
      ]
     },
     "execution_count": 103,
     "metadata": {},
     "output_type": "execute_result"
    }
   ],
   "source": [
    "lambda a : a + 10"
   ]
  },
  {
   "cell_type": "code",
   "execution_count": 107,
   "metadata": {
    "ExecuteTime": {
     "end_time": "2022-06-04T13:52:06.540185Z",
     "start_time": "2022-06-04T13:52:06.522174Z"
    }
   },
   "outputs": [],
   "source": [
    "# def bb(a,b,c):\n",
    "#     return a+b+c\n",
    "\n",
    "\n",
    "bb = lambda a , b , c : a + b + c"
   ]
  },
  {
   "cell_type": "code",
   "execution_count": 109,
   "metadata": {
    "ExecuteTime": {
     "end_time": "2022-06-04T13:52:12.007508Z",
     "start_time": "2022-06-04T13:52:11.992461Z"
    }
   },
   "outputs": [],
   "source": [
    "bb(3 , 4 , 5)"
   ]
  },
  {
   "cell_type": "markdown",
   "metadata": {},
   "source": [
    "### List comprehension"
   ]
  },
  {
   "cell_type": "code",
   "execution_count": 111,
   "metadata": {
    "ExecuteTime": {
     "end_time": "2022-06-04T13:56:52.149073Z",
     "start_time": "2022-06-04T13:56:52.136069Z"
    }
   },
   "outputs": [],
   "source": [
    "l = []\n",
    "for i in range(10):\n",
    "    l.append(i ** 2)"
   ]
  },
  {
   "cell_type": "code",
   "execution_count": 112,
   "metadata": {
    "ExecuteTime": {
     "end_time": "2022-06-04T13:56:53.006596Z",
     "start_time": "2022-06-04T13:56:52.995544Z"
    }
   },
   "outputs": [
    {
     "data": {
      "text/plain": [
       "[0, 1, 4, 9, 16, 25, 36, 49, 64, 81]"
      ]
     },
     "execution_count": 112,
     "metadata": {},
     "output_type": "execute_result"
    }
   ],
   "source": [
    "l"
   ]
  },
  {
   "cell_type": "code",
   "execution_count": 115,
   "metadata": {
    "ExecuteTime": {
     "end_time": "2022-06-04T13:57:46.313445Z",
     "start_time": "2022-06-04T13:57:46.301444Z"
    }
   },
   "outputs": [
    {
     "data": {
      "text/plain": [
       "[0, 1, 4, 9, 16, 25, 36, 49, 64, 81]"
      ]
     },
     "execution_count": 115,
     "metadata": {},
     "output_type": "execute_result"
    }
   ],
   "source": [
    "l = [i**2 for i in range(10)]\n",
    "l"
   ]
  },
  {
   "cell_type": "code",
   "execution_count": 115,
   "metadata": {
    "ExecuteTime": {
     "end_time": "2022-06-04T13:58:59.311105Z",
     "start_time": "2022-06-04T13:58:59.296070Z"
    }
   },
   "outputs": [
    {
     "data": {
      "text/plain": [
       "{0, 1, 2, 3, 4, 5, 6, 7, 8, 9}"
      ]
     },
     "execution_count": 115,
     "metadata": {},
     "output_type": "execute_result"
    }
   ],
   "source": [
    "l = {i for i in range(10)}\n",
    "l"
   ]
  },
  {
   "cell_type": "code",
   "execution_count": 121,
   "metadata": {
    "ExecuteTime": {
     "end_time": "2022-06-04T13:59:56.824215Z",
     "start_time": "2022-06-04T13:59:56.808210Z"
    }
   },
   "outputs": [
    {
     "data": {
      "text/plain": [
       "{0: 0, 1: 1, 2: 4, 3: 9, 4: 16, 5: 25, 6: 36, 7: 49, 8: 64, 9: 81}"
      ]
     },
     "execution_count": 121,
     "metadata": {},
     "output_type": "execute_result"
    }
   ],
   "source": [
    "l = {i : i ** 2  for i in range(10)}\n",
    "l\n",
    "\n",
    "# l = {}\n",
    "# for i in range(10):\n",
    "#     l[i] = i ** 2"
   ]
  },
  {
   "cell_type": "markdown",
   "metadata": {
    "ExecuteTime": {
     "end_time": "2022-05-21T06:50:19.112764Z",
     "start_time": "2022-05-21T06:50:19.103310Z"
    }
   },
   "source": [
    "### Class"
   ]
  },
  {
   "cell_type": "code",
   "execution_count": 122,
   "metadata": {},
   "outputs": [],
   "source": [
    "def add(a,b):\n",
    "    print( a + b )\n",
    "    \n",
    "def sub():\n",
    "    print(a-b)"
   ]
  },
  {
   "cell_type": "code",
   "execution_count": 123,
   "metadata": {},
   "outputs": [
    {
     "name": "stdout",
     "output_type": "stream",
     "text": [
      "7\n"
     ]
    }
   ],
   "source": [
    "add(3,4)"
   ]
  },
  {
   "cell_type": "code",
   "execution_count": 124,
   "metadata": {},
   "outputs": [
    {
     "ename": "NameError",
     "evalue": "name 'a' is not defined",
     "output_type": "error",
     "traceback": [
      "\u001b[1;31m---------------------------------------------------------------------------\u001b[0m",
      "\u001b[1;31mNameError\u001b[0m                                 Traceback (most recent call last)",
      "\u001b[1;32m~\\AppData\\Local\\Temp\\ipykernel_12444\\2471435379.py\u001b[0m in \u001b[0;36m<module>\u001b[1;34m\u001b[0m\n\u001b[1;32m----> 1\u001b[1;33m \u001b[0msub\u001b[0m\u001b[1;33m(\u001b[0m\u001b[1;33m)\u001b[0m\u001b[1;33m\u001b[0m\u001b[1;33m\u001b[0m\u001b[0m\n\u001b[0m",
      "\u001b[1;32m~\\AppData\\Local\\Temp\\ipykernel_12444\\3934278638.py\u001b[0m in \u001b[0;36msub\u001b[1;34m()\u001b[0m\n\u001b[0;32m      3\u001b[0m \u001b[1;33m\u001b[0m\u001b[0m\n\u001b[0;32m      4\u001b[0m \u001b[1;32mdef\u001b[0m \u001b[0msub\u001b[0m\u001b[1;33m(\u001b[0m\u001b[1;33m)\u001b[0m\u001b[1;33m:\u001b[0m\u001b[1;33m\u001b[0m\u001b[1;33m\u001b[0m\u001b[0m\n\u001b[1;32m----> 5\u001b[1;33m     \u001b[0mprint\u001b[0m\u001b[1;33m(\u001b[0m\u001b[0ma\u001b[0m\u001b[1;33m-\u001b[0m\u001b[0mb\u001b[0m\u001b[1;33m)\u001b[0m\u001b[1;33m\u001b[0m\u001b[1;33m\u001b[0m\u001b[0m\n\u001b[0m",
      "\u001b[1;31mNameError\u001b[0m: name 'a' is not defined"
     ]
    }
   ],
   "source": [
    "sub()"
   ]
  },
  {
   "cell_type": "code",
   "execution_count": 104,
   "metadata": {},
   "outputs": [],
   "source": [
    "# class cal:  provide solustion to above kind of problem\n",
    "#      def add(a,b):\n",
    "#         print( a + b )\n",
    "    \n",
    "#      def sub():\n",
    "#         print(a-b)\n"
   ]
  },
  {
   "cell_type": "code",
   "execution_count": 130,
   "metadata": {},
   "outputs": [],
   "source": [
    "class calculator:\n",
    "    \n",
    "    ## functions inside a class are known as methods\n",
    "    \n",
    "    def __init__(self, a , b):\n",
    "        self.a = a\n",
    "        self.b = b\n",
    "        \n",
    "    def add(self):\n",
    "        print(self.a + self.b)\n",
    "        \n",
    "    def sub(self):\n",
    "        print(self.a - self.b)\n",
    "        \n",
    "    def mul(self):\n",
    "        print(self.a * self.b)"
   ]
  },
  {
   "cell_type": "code",
   "execution_count": 131,
   "metadata": {},
   "outputs": [],
   "source": [
    "case1 = calculator(3,4)"
   ]
  },
  {
   "cell_type": "code",
   "execution_count": 132,
   "metadata": {},
   "outputs": [
    {
     "name": "stdout",
     "output_type": "stream",
     "text": [
      "7\n"
     ]
    }
   ],
   "source": [
    "case1.add()"
   ]
  },
  {
   "cell_type": "code",
   "execution_count": 133,
   "metadata": {},
   "outputs": [
    {
     "name": "stdout",
     "output_type": "stream",
     "text": [
      "-1\n"
     ]
    }
   ],
   "source": [
    "case1.sub()"
   ]
  },
  {
   "cell_type": "code",
   "execution_count": 134,
   "metadata": {},
   "outputs": [
    {
     "name": "stdout",
     "output_type": "stream",
     "text": [
      "12\n"
     ]
    }
   ],
   "source": [
    "case1.mul()"
   ]
  },
  {
   "cell_type": "code",
   "execution_count": 135,
   "metadata": {},
   "outputs": [],
   "source": [
    "case1 = calculator(3,4)  # case1 variable over here is a instance of class calculator\n",
    "case2 = calculator(1800,12) # case2 variable over here is a instance of class calculator\n",
    "case3 = calculator(10,1200) # case2 variable over here is a instance of class calculator"
   ]
  },
  {
   "cell_type": "code",
   "execution_count": 139,
   "metadata": {},
   "outputs": [
    {
     "name": "stdout",
     "output_type": "stream",
     "text": [
      "1812\n",
      "12\n",
      "21600\n"
     ]
    }
   ],
   "source": [
    "case2.add()\n",
    "case1.mul()\n",
    "case2.mul()"
   ]
  },
  {
   "cell_type": "code",
   "execution_count": 140,
   "metadata": {
    "ExecuteTime": {
     "end_time": "2022-06-04T14:32:37.766813Z",
     "start_time": "2022-06-04T14:32:37.750862Z"
    }
   },
   "outputs": [],
   "source": [
    "class animal:\n",
    "    \n",
    "    def __init__(self , a):\n",
    "        self.a = a\n",
    "        \n",
    "    # funtions inside class are called as methods to that class\n",
    "    def sound(self):\n",
    "        if self.a == 'dog':\n",
    "            print('bark')\n",
    "        if self.a == 'Lion':\n",
    "            print('roar')\n",
    "        \n",
    "    def size(self):       \n",
    "        if self.a == 'dog':\n",
    "            print('small')\n",
    "        if self.a == 'Lion':\n",
    "            print('mid')"
   ]
  },
  {
   "cell_type": "code",
   "execution_count": 141,
   "metadata": {
    "ExecuteTime": {
     "end_time": "2022-06-04T14:32:40.549416Z",
     "start_time": "2022-06-04T14:32:40.540416Z"
    }
   },
   "outputs": [],
   "source": [
    "animal_1 = animal('Lion')\n",
    "animal_2 = animal('dog')"
   ]
  },
  {
   "cell_type": "code",
   "execution_count": 142,
   "metadata": {
    "ExecuteTime": {
     "end_time": "2022-06-04T14:32:40.549416Z",
     "start_time": "2022-06-04T14:32:40.540416Z"
    }
   },
   "outputs": [
    {
     "name": "stdout",
     "output_type": "stream",
     "text": [
      "roar\n",
      "mid\n"
     ]
    }
   ],
   "source": [
    "animal_1.sound()\n",
    "animal_1.size()"
   ]
  },
  {
   "cell_type": "code",
   "execution_count": 143,
   "metadata": {
    "ExecuteTime": {
     "end_time": "2022-06-04T14:32:42.670685Z",
     "start_time": "2022-06-04T14:32:42.658688Z"
    }
   },
   "outputs": [
    {
     "name": "stdout",
     "output_type": "stream",
     "text": [
      "bark\n",
      "small\n"
     ]
    }
   ],
   "source": [
    "animal_2.sound()\n",
    "animal_2.size()"
   ]
  },
  {
   "cell_type": "code",
   "execution_count": 144,
   "metadata": {
    "ExecuteTime": {
     "end_time": "2022-06-04T14:29:52.290692Z",
     "start_time": "2022-06-04T14:29:52.283689Z"
    }
   },
   "outputs": [],
   "source": [
    "class account_handling:\n",
    "    \n",
    "    def __init__(self , **kwargs):\n",
    "        self.all_args = kwargs\n",
    "        \n",
    "    def expenditure(self):\n",
    "        return sum(self.all_args['exp'])\n",
    "    \n",
    "    def inc(self):\n",
    "        return sum(self.all_args['income'])\n",
    "    \n",
    "    def profit(self):\n",
    "        return self.all_args['income'] - self.all_args['exp']"
   ]
  },
  {
   "cell_type": "code",
   "execution_count": 145,
   "metadata": {
    "ExecuteTime": {
     "end_time": "2022-06-04T14:30:55.891071Z",
     "start_time": "2022-06-04T14:30:55.876102Z"
    }
   },
   "outputs": [],
   "source": [
    "org1 = account_handling(exp = 56000 , income = 60000)\n",
    "org2 = account_handling(exp = 46000 , income = 6560000)\n",
    "org3 = account_handling(exp = 76000 , income = 7660000)\n",
    "org4 = account_handling(exp = 96000 , income = 6660000)"
   ]
  },
  {
   "cell_type": "code",
   "execution_count": 146,
   "metadata": {},
   "outputs": [
    {
     "data": {
      "text/plain": [
       "6514000"
      ]
     },
     "execution_count": 146,
     "metadata": {},
     "output_type": "execute_result"
    }
   ],
   "source": [
    "org2.profit()"
   ]
  },
  {
   "cell_type": "code",
   "execution_count": 147,
   "metadata": {},
   "outputs": [
    {
     "data": {
      "text/plain": [
       "4000"
      ]
     },
     "execution_count": 147,
     "metadata": {},
     "output_type": "execute_result"
    }
   ],
   "source": [
    "org1.profit()"
   ]
  },
  {
   "cell_type": "code",
   "execution_count": 148,
   "metadata": {
    "ExecuteTime": {
     "end_time": "2022-06-04T14:31:13.380953Z",
     "start_time": "2022-06-04T14:31:13.367917Z"
    }
   },
   "outputs": [
    {
     "data": {
      "text/plain": [
       "7580000"
      ]
     },
     "execution_count": 148,
     "metadata": {},
     "output_type": "execute_result"
    }
   ],
   "source": [
    "org3.profit() - org1.profit()"
   ]
  }
 ],
 "metadata": {
  "hide_input": false,
  "kernelspec": {
   "display_name": "Python 3 (ipykernel)",
   "language": "python",
   "name": "python3"
  },
  "language_info": {
   "codemirror_mode": {
    "name": "ipython",
    "version": 3
   },
   "file_extension": ".py",
   "mimetype": "text/x-python",
   "name": "python",
   "nbconvert_exporter": "python",
   "pygments_lexer": "ipython3",
   "version": "3.12.4"
  }
 },
 "nbformat": 4,
 "nbformat_minor": 4
}
