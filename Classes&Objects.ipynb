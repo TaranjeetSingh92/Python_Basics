{
 "cells": [
  {
   "cell_type": "markdown",
   "id": "LXs8CmjFHnrq",
   "metadata": {
    "id": "LXs8CmjFHnrq"
   },
   "source": [
    "# Classes and Objects"
   ]
  },
  {
   "cell_type": "code",
   "execution_count": null,
   "id": "qTtwFggEHnrt",
   "metadata": {
    "id": "qTtwFggEHnrt"
   },
   "outputs": [],
   "source": [
    "class demo :\n",
    "    pass"
   ]
  },
  {
   "cell_type": "code",
   "execution_count": null,
   "id": "CnawLp5FHnrv",
   "metadata": {
    "id": "CnawLp5FHnrv"
   },
   "outputs": [],
   "source": [
    "obj = demo()"
   ]
  },
  {
   "cell_type": "code",
   "execution_count": null,
   "id": "cTxXsXg2Hnrv",
   "metadata": {
    "colab": {
     "base_uri": "https://localhost:8080/"
    },
    "executionInfo": {
     "elapsed": 22,
     "status": "ok",
     "timestamp": 1715925389514,
     "user": {
      "displayName": "Kunal Guwalani",
      "userId": "06540083485482537728"
     },
     "user_tz": -330
    },
    "id": "cTxXsXg2Hnrv",
    "outputId": "9eb6ce7f-1bd6-4450-a38b-6c44bb2df188"
   },
   "outputs": [
    {
     "name": "stdout",
     "output_type": "stream",
     "text": [
      "<__main__.demo object at 0x7f3629a14c40>\n"
     ]
    }
   ],
   "source": [
    "print(obj)"
   ]
  },
  {
   "cell_type": "code",
   "execution_count": null,
   "id": "_wz4iUJLHnrv",
   "metadata": {
    "colab": {
     "base_uri": "https://localhost:8080/"
    },
    "executionInfo": {
     "elapsed": 3,
     "status": "ok",
     "timestamp": 1715925392964,
     "user": {
      "displayName": "Kunal Guwalani",
      "userId": "06540083485482537728"
     },
     "user_tz": -330
    },
    "id": "_wz4iUJLHnrv",
    "outputId": "31505202-db48-48fe-9000-ffcd7d0067a1"
   },
   "outputs": [
    {
     "name": "stdout",
     "output_type": "stream",
     "text": [
      "Help on demo in module __main__ object:\n",
      "\n",
      "class demo(builtins.object)\n",
      " |  Data descriptors defined here:\n",
      " |  \n",
      " |  __dict__\n",
      " |      dictionary for instance variables (if defined)\n",
      " |  \n",
      " |  __weakref__\n",
      " |      list of weak references to the object (if defined)\n",
      "\n"
     ]
    }
   ],
   "source": [
    "help(obj)"
   ]
  },
  {
   "cell_type": "markdown",
   "id": "WZwYmEQbHnrw",
   "metadata": {
    "id": "WZwYmEQbHnrw"
   },
   "source": [
    "## Attributes and Methods"
   ]
  },
  {
   "cell_type": "code",
   "execution_count": null,
   "id": "pyTGvGmFHnrw",
   "metadata": {
    "id": "pyTGvGmFHnrw"
   },
   "outputs": [],
   "source": [
    "class Health :\n",
    "    '''This is class \"Health\" with information and functions related with our health. '''\n",
    "    # __init__ function\n",
    "    def __init__(self, name, age, loc):\n",
    "        '''\n",
    "        Initialization of Health class.\n",
    "        '''\n",
    "        self.name = name\n",
    "        self.age = age\n",
    "        self.location = loc\n",
    "\n",
    "    # another method to display data\n",
    "    def print_info(self):\n",
    "        print('Individual Helath Information :')\n",
    "        print('Name     : ', self.name)\n",
    "        print('Age      : ', self.age)\n",
    "        print('Location : ', self.location)"
   ]
  },
  {
   "cell_type": "code",
   "execution_count": null,
   "id": "KaX7eGD6Hnrw",
   "metadata": {
    "id": "KaX7eGD6Hnrw"
   },
   "outputs": [],
   "source": [
    "h1 = Health('John Davis', 54, 'Texas')"
   ]
  },
  {
   "cell_type": "code",
   "execution_count": null,
   "id": "aYHefRXvHnrx",
   "metadata": {
    "colab": {
     "base_uri": "https://localhost:8080/"
    },
    "executionInfo": {
     "elapsed": 4,
     "status": "ok",
     "timestamp": 1715925401813,
     "user": {
      "displayName": "Kunal Guwalani",
      "userId": "06540083485482537728"
     },
     "user_tz": -330
    },
    "id": "aYHefRXvHnrx",
    "outputId": "5bd179d8-0067-4d4c-a6cf-5e08f98031f5"
   },
   "outputs": [
    {
     "name": "stdout",
     "output_type": "stream",
     "text": [
      "Individual Helath Information :\n",
      "Name     :  John Davis\n",
      "Age      :  54\n",
      "Location :  Texas\n"
     ]
    }
   ],
   "source": [
    "h1.print_info()"
   ]
  },
  {
   "cell_type": "markdown",
   "id": "PzaM3NDwHnrx",
   "metadata": {
    "id": "PzaM3NDwHnrx"
   },
   "source": [
    "\n",
    "## Data Attributes and Class Attributes"
   ]
  },
  {
   "cell_type": "code",
   "execution_count": null,
   "id": "Ni-ty8lFHnrx",
   "metadata": {
    "id": "Ni-ty8lFHnrx"
   },
   "outputs": [],
   "source": [
    "class Health :\n",
    "    '''This is class \"Health\" with information and functions related with our health. '''\n",
    "    # class attribute\n",
    "    counter = 0\n",
    "\n",
    "    # __init__ function\n",
    "    def __init__(self, name, age, loc):\n",
    "        '''\n",
    "        Initialization of Health class.\n",
    "        '''\n",
    "        self.name = name\n",
    "        self.age = age\n",
    "        self.location = loc\n",
    "        Health.counter += 1\n",
    "\n",
    "    # another method to display data\n",
    "    def print_info(self):\n",
    "        print('Individual Information :')\n",
    "        print('Name     : ', self.name)\n",
    "        print('Age      : ', self.age)\n",
    "        print('Location : ', self.location)\n",
    "        print('No. of Objects : ', Health.counter)"
   ]
  },
  {
   "cell_type": "code",
   "execution_count": null,
   "id": "rSOXQ8eJHnry",
   "metadata": {
    "id": "rSOXQ8eJHnry"
   },
   "outputs": [],
   "source": [
    "obj_1 = Health('John Davis', 54, 'Texas')"
   ]
  },
  {
   "cell_type": "code",
   "execution_count": null,
   "id": "5gDDPdS5Hnry",
   "metadata": {
    "colab": {
     "base_uri": "https://localhost:8080/"
    },
    "executionInfo": {
     "elapsed": 4,
     "status": "ok",
     "timestamp": 1715925410986,
     "user": {
      "displayName": "Kunal Guwalani",
      "userId": "06540083485482537728"
     },
     "user_tz": -330
    },
    "id": "5gDDPdS5Hnry",
    "outputId": "6bc83d79-5792-4d1e-949c-f616f648d799"
   },
   "outputs": [
    {
     "name": "stdout",
     "output_type": "stream",
     "text": [
      "Individual Information :\n",
      "Name     :  John Davis\n",
      "Age      :  54\n",
      "Location :  Texas\n",
      "No. of Objects :  1\n"
     ]
    }
   ],
   "source": [
    "obj_1.print_info()"
   ]
  },
  {
   "cell_type": "code",
   "execution_count": null,
   "id": "fq6ydFXEHnry",
   "metadata": {
    "id": "fq6ydFXEHnry"
   },
   "outputs": [],
   "source": [
    "obj_2 = Health('Dave Jones', 31, 'NewYork')"
   ]
  },
  {
   "cell_type": "code",
   "execution_count": null,
   "id": "zBGrUGIjHnrz",
   "metadata": {
    "colab": {
     "base_uri": "https://localhost:8080/"
    },
    "executionInfo": {
     "elapsed": 544,
     "status": "ok",
     "timestamp": 1715925417060,
     "user": {
      "displayName": "Kunal Guwalani",
      "userId": "06540083485482537728"
     },
     "user_tz": -330
    },
    "id": "zBGrUGIjHnrz",
    "outputId": "c61d6c14-558e-4f0c-d0d9-e38e47f4016b"
   },
   "outputs": [
    {
     "name": "stdout",
     "output_type": "stream",
     "text": [
      "Individual Information :\n",
      "Name     :  Dave Jones\n",
      "Age      :  31\n",
      "Location :  NewYork\n",
      "No. of Objects :  2\n"
     ]
    }
   ],
   "source": [
    "obj_2.print_info()"
   ]
  },
  {
   "cell_type": "markdown",
   "id": "VdLdBoScHnrz",
   "metadata": {
    "id": "VdLdBoScHnrz"
   },
   "source": [
    "## Access Data and Class Attributes"
   ]
  },
  {
   "cell_type": "code",
   "execution_count": null,
   "id": "Fbik6SVkHnrz",
   "metadata": {
    "colab": {
     "base_uri": "https://localhost:8080/"
    },
    "executionInfo": {
     "elapsed": 353,
     "status": "ok",
     "timestamp": 1715925420102,
     "user": {
      "displayName": "Kunal Guwalani",
      "userId": "06540083485482537728"
     },
     "user_tz": -330
    },
    "id": "Fbik6SVkHnrz",
    "outputId": "500e530f-1ac8-43c3-e14f-599006ec3d5c"
   },
   "outputs": [
    {
     "data": {
      "text/plain": [
       "('John Davis', 54)"
      ]
     },
     "execution_count": 13,
     "metadata": {},
     "output_type": "execute_result"
    }
   ],
   "source": [
    "obj_1.name, obj_1.age"
   ]
  },
  {
   "cell_type": "code",
   "execution_count": null,
   "id": "GRgd3gX0Hnrz",
   "metadata": {
    "colab": {
     "base_uri": "https://localhost:8080/"
    },
    "executionInfo": {
     "elapsed": 368,
     "status": "ok",
     "timestamp": 1715925422368,
     "user": {
      "displayName": "Kunal Guwalani",
      "userId": "06540083485482537728"
     },
     "user_tz": -330
    },
    "id": "GRgd3gX0Hnrz",
    "outputId": "a559ea86-5d40-4f3c-d3da-773c883dd139"
   },
   "outputs": [
    {
     "data": {
      "text/plain": [
       "('Dave Jones', 31)"
      ]
     },
     "execution_count": 14,
     "metadata": {},
     "output_type": "execute_result"
    }
   ],
   "source": [
    "obj_2.name, obj_2.age"
   ]
  },
  {
   "cell_type": "code",
   "execution_count": null,
   "id": "1AKm1pQwHnr0",
   "metadata": {
    "colab": {
     "base_uri": "https://localhost:8080/"
    },
    "executionInfo": {
     "elapsed": 343,
     "status": "ok",
     "timestamp": 1715925424479,
     "user": {
      "displayName": "Kunal Guwalani",
      "userId": "06540083485482537728"
     },
     "user_tz": -330
    },
    "id": "1AKm1pQwHnr0",
    "outputId": "c7287960-9261-4a53-e514-77027890e2c9"
   },
   "outputs": [
    {
     "data": {
      "text/plain": [
       "(2, 2)"
      ]
     },
     "execution_count": 15,
     "metadata": {},
     "output_type": "execute_result"
    }
   ],
   "source": [
    "obj_1.counter , obj_2.counter"
   ]
  },
  {
   "cell_type": "markdown",
   "id": "EYexJpy0Hnr0",
   "metadata": {
    "id": "EYexJpy0Hnr0",
    "tags": []
   },
   "source": [
    "## Data Attributes vs. Class Attributes"
   ]
  },
  {
   "cell_type": "code",
   "execution_count": null,
   "id": "_pWvbkUAHnr0",
   "metadata": {
    "colab": {
     "base_uri": "https://localhost:8080/"
    },
    "executionInfo": {
     "elapsed": 538,
     "status": "ok",
     "timestamp": 1715925426944,
     "user": {
      "displayName": "Kunal Guwalani",
      "userId": "06540083485482537728"
     },
     "user_tz": -330
    },
    "id": "_pWvbkUAHnr0",
    "outputId": "f59d1977-a805-4108-9bc9-f7cebee14634"
   },
   "outputs": [
    {
     "data": {
      "text/plain": [
       "False"
      ]
     },
     "execution_count": 16,
     "metadata": {},
     "output_type": "execute_result"
    }
   ],
   "source": [
    "obj_1.name is obj_2.name"
   ]
  },
  {
   "cell_type": "code",
   "execution_count": null,
   "id": "Pq96cb-5Hnr1",
   "metadata": {
    "colab": {
     "base_uri": "https://localhost:8080/"
    },
    "executionInfo": {
     "elapsed": 402,
     "status": "ok",
     "timestamp": 1715925429425,
     "user": {
      "displayName": "Kunal Guwalani",
      "userId": "06540083485482537728"
     },
     "user_tz": -330
    },
    "id": "Pq96cb-5Hnr1",
    "outputId": "977d25d5-461c-4ef1-81a4-1979750e4a6a"
   },
   "outputs": [
    {
     "data": {
      "text/plain": [
       "True"
      ]
     },
     "execution_count": 17,
     "metadata": {},
     "output_type": "execute_result"
    }
   ],
   "source": [
    "obj_1.counter is obj_2.counter"
   ]
  },
  {
   "cell_type": "markdown",
   "id": "UlRBmRwwHnr1",
   "metadata": {
    "id": "UlRBmRwwHnr1",
    "tags": []
   },
   "source": [
    "# Access Modifiers"
   ]
  },
  {
   "cell_type": "code",
   "execution_count": null,
   "id": "WgwO0wGbHnr1",
   "metadata": {
    "id": "WgwO0wGbHnr1"
   },
   "outputs": [],
   "source": [
    "\n",
    "class student :\n",
    "    counter = 0\n",
    "    # constructor\n",
    "    def __init__(self, name, fathersname, age):\n",
    "        self.name = name\n",
    "        self.fathersname = fathersname\n",
    "        self.age = age\n",
    "        student.counter +=1\n",
    "        self._roll_no = 'A2022/{}/{:003d}'.format(self.name[:3].upper() ,student.counter)\n",
    "        self.__file_no = 'A2022/{}/{:003d}'.format(self.name.upper() ,student.counter)\n",
    "    def print_info(self):\n",
    "        print('Name          : ', self.name)\n",
    "        print(\"Father's Name : \",self.fathersname )\n",
    "        print(\"Age           : \", self.age)\n",
    "        print(\"Roll No.      : \", self._roll_no)\n",
    "        print(\"File No.      : \", self.__file_no)"
   ]
  },
  {
   "cell_type": "code",
   "execution_count": null,
   "id": "qiDstOEGHnr2",
   "metadata": {
    "id": "qiDstOEGHnr2"
   },
   "outputs": [],
   "source": [
    "st1 = student('John Davis', 'Malcom Davis', 10)"
   ]
  },
  {
   "cell_type": "code",
   "execution_count": null,
   "id": "UHDU7WX1Hnr2",
   "metadata": {
    "colab": {
     "base_uri": "https://localhost:8080/"
    },
    "executionInfo": {
     "elapsed": 3,
     "status": "ok",
     "timestamp": 1715925445783,
     "user": {
      "displayName": "Kunal Guwalani",
      "userId": "06540083485482537728"
     },
     "user_tz": -330
    },
    "id": "UHDU7WX1Hnr2",
    "outputId": "0da245fd-c63e-4a22-efcb-666291e257d2"
   },
   "outputs": [
    {
     "name": "stdout",
     "output_type": "stream",
     "text": [
      "Name          :  John Davis\n",
      "Father's Name :  Malcom Davis\n",
      "Age           :  10\n",
      "Roll No.      :  A2022/JOH/001\n",
      "File No.      :  A2022/JOHN DAVIS/001\n"
     ]
    }
   ],
   "source": [
    "st1.print_info()"
   ]
  },
  {
   "cell_type": "code",
   "execution_count": null,
   "id": "x6oIsw9NHnr2",
   "metadata": {
    "id": "x6oIsw9NHnr2"
   },
   "outputs": [],
   "source": [
    "class science(student):\n",
    "    def display(self):\n",
    "        print('Name          : ', self.name)\n",
    "        print(\"Father's Name : \",self.fathersname )\n",
    "        print(\"Age           : \", self.age)\n",
    "        print(\"Roll No.      : \", self._roll_no)\n",
    "        print(\"File No.      : \", self.__file_no)\n"
   ]
  },
  {
   "cell_type": "code",
   "execution_count": null,
   "id": "1x67Cdw0Hnr3",
   "metadata": {
    "id": "1x67Cdw0Hnr3"
   },
   "outputs": [],
   "source": [
    "sci_st = science('John Davis', 'Malcom Davis', 15)"
   ]
  },
  {
   "cell_type": "code",
   "execution_count": null,
   "id": "R5z9j2hWHnr3",
   "metadata": {
    "colab": {
     "base_uri": "https://localhost:8080/"
    },
    "executionInfo": {
     "elapsed": 5,
     "status": "ok",
     "timestamp": 1715925454693,
     "user": {
      "displayName": "Kunal Guwalani",
      "userId": "06540083485482537728"
     },
     "user_tz": -330
    },
    "id": "R5z9j2hWHnr3",
    "outputId": "0ffa6431-6fb9-45f6-dbb7-8e47cbd0967e"
   },
   "outputs": [
    {
     "name": "stdout",
     "output_type": "stream",
     "text": [
      "Name          :  John Davis\n",
      "Father's Name :  Malcom Davis\n",
      "Age           :  15\n",
      "Roll No.      :  A2022/JOH/002\n",
      "File No.      :  A2022/JOHN DAVIS/002\n"
     ]
    }
   ],
   "source": [
    "sci_st.print_info()"
   ]
  },
  {
   "cell_type": "code",
   "execution_count": null,
   "id": "w3Jln33QHnr3",
   "metadata": {
    "colab": {
     "base_uri": "https://localhost:8080/",
     "height": 315
    },
    "executionInfo": {
     "elapsed": 412,
     "status": "error",
     "timestamp": 1715925457083,
     "user": {
      "displayName": "Kunal Guwalani",
      "userId": "06540083485482537728"
     },
     "user_tz": -330
    },
    "id": "w3Jln33QHnr3",
    "outputId": "55edcad9-98da-4949-dc86-ecef6fbb1a52"
   },
   "outputs": [
    {
     "name": "stdout",
     "output_type": "stream",
     "text": [
      "Name          :  John Davis\n",
      "Father's Name :  Malcom Davis\n",
      "Age           :  15\n",
      "Roll No.      :  A2022/JOH/002\n"
     ]
    },
    {
     "ename": "AttributeError",
     "evalue": "'science' object has no attribute '_science__file_no'",
     "output_type": "error",
     "traceback": [
      "\u001b[0;31m---------------------------------------------------------------------------\u001b[0m",
      "\u001b[0;31mAttributeError\u001b[0m                            Traceback (most recent call last)",
      "\u001b[0;32m<ipython-input-24-667a2f14f6d6>\u001b[0m in \u001b[0;36m<cell line: 1>\u001b[0;34m()\u001b[0m\n\u001b[0;32m----> 1\u001b[0;31m \u001b[0msci_st\u001b[0m\u001b[0;34m.\u001b[0m\u001b[0mdisplay\u001b[0m\u001b[0;34m(\u001b[0m\u001b[0;34m)\u001b[0m\u001b[0;34m\u001b[0m\u001b[0;34m\u001b[0m\u001b[0m\n\u001b[0m",
      "\u001b[0;32m<ipython-input-21-32e8f909e500>\u001b[0m in \u001b[0;36mdisplay\u001b[0;34m(self)\u001b[0m\n\u001b[1;32m      5\u001b[0m         \u001b[0mprint\u001b[0m\u001b[0;34m(\u001b[0m\u001b[0;34m\"Age           : \"\u001b[0m\u001b[0;34m,\u001b[0m \u001b[0mself\u001b[0m\u001b[0;34m.\u001b[0m\u001b[0mage\u001b[0m\u001b[0;34m)\u001b[0m\u001b[0;34m\u001b[0m\u001b[0;34m\u001b[0m\u001b[0m\n\u001b[1;32m      6\u001b[0m         \u001b[0mprint\u001b[0m\u001b[0;34m(\u001b[0m\u001b[0;34m\"Roll No.      : \"\u001b[0m\u001b[0;34m,\u001b[0m \u001b[0mself\u001b[0m\u001b[0;34m.\u001b[0m\u001b[0m_roll_no\u001b[0m\u001b[0;34m)\u001b[0m\u001b[0;34m\u001b[0m\u001b[0;34m\u001b[0m\u001b[0m\n\u001b[0;32m----> 7\u001b[0;31m         \u001b[0mprint\u001b[0m\u001b[0;34m(\u001b[0m\u001b[0;34m\"File No.      : \"\u001b[0m\u001b[0;34m,\u001b[0m \u001b[0mself\u001b[0m\u001b[0;34m.\u001b[0m\u001b[0m__file_no\u001b[0m\u001b[0;34m)\u001b[0m\u001b[0;34m\u001b[0m\u001b[0;34m\u001b[0m\u001b[0m\n\u001b[0m\u001b[1;32m      8\u001b[0m \u001b[0;34m\u001b[0m\u001b[0m\n",
      "\u001b[0;31mAttributeError\u001b[0m: 'science' object has no attribute '_science__file_no'"
     ]
    }
   ],
   "source": [
    "sci_st.display()"
   ]
  },
  {
   "cell_type": "markdown",
   "id": "AhUuY3YRHnr4",
   "metadata": {
    "id": "AhUuY3YRHnr4"
   },
   "source": [
    "# Inheritance"
   ]
  },
  {
   "cell_type": "code",
   "execution_count": null,
   "id": "_PkMcdv0Hnr5",
   "metadata": {
    "id": "_PkMcdv0Hnr5"
   },
   "outputs": [],
   "source": [
    "class Parent :\n",
    "    def __init__(self):\n",
    "        print('Welcome to Parent Class')\n",
    "\n",
    "    def parent_func(self):\n",
    "        print('This is the parent Function')"
   ]
  },
  {
   "cell_type": "code",
   "execution_count": null,
   "id": "ssASyKb-Hnr5",
   "metadata": {
    "id": "ssASyKb-Hnr5"
   },
   "outputs": [],
   "source": [
    "class Child(Parent):\n",
    "    pass"
   ]
  },
  {
   "cell_type": "code",
   "execution_count": null,
   "id": "u6Oy_tB3Hnr5",
   "metadata": {
    "id": "u6Oy_tB3Hnr5"
   },
   "outputs": [],
   "source": [
    "obj = Child()"
   ]
  },
  {
   "cell_type": "code",
   "execution_count": null,
   "id": "d146It_FHnr6",
   "metadata": {
    "id": "d146It_FHnr6"
   },
   "outputs": [],
   "source": [
    "obj.parent_func()"
   ]
  },
  {
   "cell_type": "markdown",
   "id": "Ah4vUCm_Hnr6",
   "metadata": {
    "id": "Ah4vUCm_Hnr6"
   },
   "source": [
    "## Types of Inheritance"
   ]
  },
  {
   "cell_type": "markdown",
   "id": "VF3lLNDWHnsE",
   "metadata": {
    "id": "VF3lLNDWHnsE"
   },
   "source": [
    "### Single Inheritance"
   ]
  },
  {
   "cell_type": "code",
   "execution_count": null,
   "id": "NYpuk8jkHnsE",
   "metadata": {
    "id": "NYpuk8jkHnsE"
   },
   "outputs": [],
   "source": [
    "# base class\n",
    "class information:\n",
    "    def __init__(self, name, age, gender):\n",
    "        self.name = name\n",
    "        self.age = age\n",
    "        self.gender = gender\n",
    "\n",
    "    def print_info(self):\n",
    "        print('Name   : ', self.name)\n",
    "        print('Age    : ', self.age)\n",
    "        print('Gender : ', self.gender)"
   ]
  },
  {
   "cell_type": "code",
   "execution_count": null,
   "id": "pa8TCOwSHnsE",
   "metadata": {
    "id": "pa8TCOwSHnsE"
   },
   "outputs": [],
   "source": [
    "# derived class\n",
    "class learners(information):\n",
    "    def set_learner_data(self, exp = None, qual = None):\n",
    "        self.qual = qual\n",
    "        self.exp = exp\n",
    "\n",
    "    def display(self):\n",
    "        self.print_info()\n",
    "        print('Qual   : ', self.qual)\n",
    "        print('Exp    : ', self.exp)\n"
   ]
  },
  {
   "cell_type": "code",
   "execution_count": null,
   "id": "YCjTKcsQHnsF",
   "metadata": {
    "id": "YCjTKcsQHnsF"
   },
   "outputs": [],
   "source": [
    "obj1 = learners('John Davis', 34, 'M')"
   ]
  },
  {
   "cell_type": "code",
   "execution_count": null,
   "id": "-HfOBu_DHnsF",
   "metadata": {
    "id": "-HfOBu_DHnsF"
   },
   "outputs": [],
   "source": [
    "obj1.print_info()"
   ]
  },
  {
   "cell_type": "code",
   "execution_count": null,
   "id": "FDm5wTCzHnsF",
   "metadata": {
    "id": "FDm5wTCzHnsF"
   },
   "outputs": [],
   "source": [
    "obj1.set_learner_data(5, 'Graduate')"
   ]
  },
  {
   "cell_type": "code",
   "execution_count": null,
   "id": "g-zc3PF0HnsF",
   "metadata": {
    "id": "g-zc3PF0HnsF"
   },
   "outputs": [],
   "source": [
    "obj1.display()"
   ]
  },
  {
   "cell_type": "markdown",
   "id": "tnyw-yKbHnsF",
   "metadata": {
    "id": "tnyw-yKbHnsF"
   },
   "source": [
    "### Multilevel Inheritance"
   ]
  },
  {
   "cell_type": "code",
   "execution_count": null,
   "id": "Yvew92VYHnsF",
   "metadata": {
    "id": "Yvew92VYHnsF"
   },
   "outputs": [],
   "source": [
    "# base class\n",
    "class information:\n",
    "    def __init__(self, name, age, gender):\n",
    "        self.name = name\n",
    "        self.age = age\n",
    "        self.gender = gender\n",
    "\n",
    "    def print_info(self):\n",
    "        print('Name   : ', self.name)\n",
    "        print('Age    : ', self.age)\n",
    "        print('Gender : ', self.gender)"
   ]
  },
  {
   "cell_type": "code",
   "execution_count": null,
   "id": "O6y8myg8HnsG",
   "metadata": {
    "id": "O6y8myg8HnsG"
   },
   "outputs": [],
   "source": [
    "# derived class\n",
    "class learners(information):\n",
    "    def set_learner_data(self, exp = None, qual = None):\n",
    "        self.qual = qual\n",
    "        self.exp = exp\n",
    "\n",
    "    def display(self):\n",
    "        self.print_info()\n",
    "        print('Qual   : ', self.qual)\n",
    "        print('Exp    : ', self.exp)"
   ]
  },
  {
   "cell_type": "code",
   "execution_count": null,
   "id": "Yh6S-feYHnsG",
   "metadata": {
    "id": "Yh6S-feYHnsG"
   },
   "outputs": [],
   "source": [
    "class profile(learners) :\n",
    "    pass"
   ]
  },
  {
   "cell_type": "code",
   "execution_count": null,
   "id": "1chDUuCQHnsG",
   "metadata": {
    "id": "1chDUuCQHnsG"
   },
   "outputs": [],
   "source": [
    "obj_2 = profile('John Davis', 34, 'M')"
   ]
  },
  {
   "cell_type": "code",
   "execution_count": null,
   "id": "fcZAdqJWHnsG",
   "metadata": {
    "id": "fcZAdqJWHnsG"
   },
   "outputs": [],
   "source": [
    "obj_2.print_info()"
   ]
  },
  {
   "cell_type": "code",
   "execution_count": null,
   "id": "ILbVcVCuHnsG",
   "metadata": {
    "id": "ILbVcVCuHnsG"
   },
   "outputs": [],
   "source": [
    "obj_2.set_learner_data(3, 'Graduate')"
   ]
  },
  {
   "cell_type": "code",
   "execution_count": null,
   "id": "bTe5YJI2HnsH",
   "metadata": {
    "id": "bTe5YJI2HnsH"
   },
   "outputs": [],
   "source": [
    "obj_2.display()"
   ]
  },
  {
   "cell_type": "markdown",
   "id": "A8JVwcnjHnsH",
   "metadata": {
    "id": "A8JVwcnjHnsH"
   },
   "source": [
    "### Hierarchical Inheritance"
   ]
  },
  {
   "cell_type": "code",
   "execution_count": null,
   "id": "6P8OMV0rHnsH",
   "metadata": {
    "id": "6P8OMV0rHnsH"
   },
   "outputs": [],
   "source": [
    "# base class\n",
    "class information:\n",
    "    def __init__(self, name, age, gender):\n",
    "        self.name = name\n",
    "        self.age = age\n",
    "        self.gender = gender\n",
    "\n",
    "    def print_info(self):\n",
    "        print('Name   : ', self.name)\n",
    "        print('Age    : ', self.age)\n",
    "        print('Gender : ', self.gender)"
   ]
  },
  {
   "cell_type": "code",
   "execution_count": null,
   "id": "Gg87GXfgHnsH",
   "metadata": {
    "id": "Gg87GXfgHnsH"
   },
   "outputs": [],
   "source": [
    "# derived class 1\n",
    "class learners(information):\n",
    "    def set_learner_data(self, exp = None, qual = None):\n",
    "        self.qual = qual\n",
    "        self.exp = exp\n",
    "\n",
    "    def display(self):\n",
    "        self.print_info()\n",
    "        print('Qual   : ', self.qual)\n",
    "        print('Exp    : ', self.exp)"
   ]
  },
  {
   "cell_type": "code",
   "execution_count": null,
   "id": "dX6yCBySHnsI",
   "metadata": {
    "id": "dX6yCBySHnsI"
   },
   "outputs": [],
   "source": [
    "# derived class 2\n",
    "class trainer(information):\n",
    "    def set_trainer_data(self, exp, charges ):\n",
    "        self.exp = exp\n",
    "        self.charges = charges\n",
    "\n",
    "    def display_trainer(self):\n",
    "        self.print_info()\n",
    "        print('Experience        : ', self.exp)\n",
    "        print('Hourly Charges    : ', self.charges)"
   ]
  },
  {
   "cell_type": "code",
   "execution_count": null,
   "id": "_k9fAJ2kHnsI",
   "metadata": {
    "id": "_k9fAJ2kHnsI"
   },
   "outputs": [],
   "source": [
    "obj_learner = learners('John Davis', 21, 'M')\n",
    "obj_learner.set_learner_data(3, 'Graduate')"
   ]
  },
  {
   "cell_type": "code",
   "execution_count": null,
   "id": "zLgN_xwNHnsI",
   "metadata": {
    "id": "zLgN_xwNHnsI"
   },
   "outputs": [],
   "source": [
    "obj_learner.print_info()"
   ]
  },
  {
   "cell_type": "code",
   "execution_count": null,
   "id": "oxRYh2B4HnsI",
   "metadata": {
    "id": "oxRYh2B4HnsI"
   },
   "outputs": [],
   "source": [
    "obj_learner.display()"
   ]
  },
  {
   "cell_type": "code",
   "execution_count": null,
   "id": "Nutiz8TnHnsI",
   "metadata": {
    "id": "Nutiz8TnHnsI"
   },
   "outputs": [],
   "source": [
    "obj_trainer = trainer('Michael Dave', 43, 'Doctrate')\n",
    "obj_trainer.set_trainer_data(15, 3500)"
   ]
  },
  {
   "cell_type": "code",
   "execution_count": null,
   "id": "geffi7R4HnsJ",
   "metadata": {
    "id": "geffi7R4HnsJ"
   },
   "outputs": [],
   "source": [
    "obj_trainer.print_info()"
   ]
  },
  {
   "cell_type": "code",
   "execution_count": null,
   "id": "pK0ZN9AYHnsJ",
   "metadata": {
    "id": "pK0ZN9AYHnsJ"
   },
   "outputs": [],
   "source": [
    "obj_trainer.display_trainer()"
   ]
  },
  {
   "cell_type": "markdown",
   "id": "UjgltOIeHnsJ",
   "metadata": {
    "id": "UjgltOIeHnsJ"
   },
   "source": [
    "### Multiple Inheritance"
   ]
  },
  {
   "cell_type": "code",
   "execution_count": null,
   "id": "g01yb6cKHnsJ",
   "metadata": {
    "id": "g01yb6cKHnsJ"
   },
   "outputs": [],
   "source": [
    "# base class 1\n",
    "class information:\n",
    "    def __init__(self, name, age, gender):\n",
    "        self.name = name\n",
    "        self.age = age\n",
    "        self.gender = gender\n",
    "\n",
    "    def print_info(self):\n",
    "        print('Name   : ', self.name)\n",
    "        print('Age    : ', self.age)\n",
    "        print('Gender : ', self.gender)"
   ]
  },
  {
   "cell_type": "code",
   "execution_count": null,
   "id": "tLzxCMdEHnsJ",
   "metadata": {
    "id": "tLzxCMdEHnsJ"
   },
   "outputs": [],
   "source": [
    "# base class 2\n",
    "class course_inf:\n",
    "    def __init__(self):\n",
    "        self.inf = {'Weekend' : {'Big Data & AI':12,\n",
    "                                'Cloud Computing' : 8,\n",
    "                                'Data Science with Python' :6,\n",
    "                                'Data Science with R' : 5 },\n",
    "                   'Weekday' : {'Big Data & AI':6,\n",
    "                                'Cloud Computing' : 5,\n",
    "                                'Data Science with Python': 3,\n",
    "                                'Data Science with R' : 2.5 }}"
   ]
  },
  {
   "cell_type": "code",
   "execution_count": null,
   "id": "-z965w07HnsK",
   "metadata": {
    "id": "-z965w07HnsK"
   },
   "outputs": [],
   "source": [
    "# derived class\n",
    "class learners(information, course_inf):\n",
    "\n",
    "    def __init__(self,name, age, gender,course, pref):\n",
    "        information.__init__(self, name, age, gender)\n",
    "        course_inf.__init__(self)\n",
    "        self.course = course\n",
    "        self.pref = pref\n",
    "\n",
    "    def display(self):\n",
    "        information.print_info(self)\n",
    "        print('Course : ', self.course)\n",
    "        print('Pref   : ', self.pref)\n",
    "        weeks = self.inf[self.pref][self.course]\n",
    "        print('# of Weeks : ', weeks)"
   ]
  },
  {
   "cell_type": "code",
   "execution_count": null,
   "id": "zOPr0t_hHnsK",
   "metadata": {
    "id": "zOPr0t_hHnsK"
   },
   "outputs": [],
   "source": [
    "obj_learn = learners('Ava Jones', 33, 'F', 'Data Science with R', 'Weekend')\n",
    "\n",
    "obj_learn.display()"
   ]
  },
  {
   "cell_type": "code",
   "execution_count": null,
   "id": "apZ9WinNHnsK",
   "metadata": {
    "id": "apZ9WinNHnsK"
   },
   "outputs": [],
   "source": [
    "obj_learn.inf"
   ]
  },
  {
   "cell_type": "markdown",
   "id": "l747gFHRHnsK",
   "metadata": {
    "id": "l747gFHRHnsK"
   },
   "source": [
    "#"
   ]
  },
  {
   "cell_type": "markdown",
   "id": "c69lq8rcHnsK",
   "metadata": {
    "id": "c69lq8rcHnsK"
   },
   "source": [
    "#"
   ]
  },
  {
   "cell_type": "markdown",
   "id": "uEAh4hzwHnsL",
   "metadata": {
    "id": "uEAh4hzwHnsL"
   },
   "source": [
    "# Polymorphism\n",
    "## Method Overloading"
   ]
  },
  {
   "cell_type": "code",
   "execution_count": null,
   "id": "BKa6d-8oHnsL",
   "metadata": {
    "id": "BKa6d-8oHnsL"
   },
   "outputs": [],
   "source": [
    "class information:\n",
    "    def __init__(self, name, age, gender):\n",
    "        self.name = name\n",
    "        self.age = age\n",
    "        self.gender = gender\n",
    "\n",
    "    def print_info(self):\n",
    "        print('Name   : ', self.name)\n",
    "        print('Age    : ', self.age)\n",
    "        print('Gender : ', self.gender)"
   ]
  },
  {
   "cell_type": "code",
   "execution_count": null,
   "id": "l5LlUPpNHnsM",
   "metadata": {
    "id": "l5LlUPpNHnsM"
   },
   "outputs": [],
   "source": [
    "class learners:\n",
    "    def __init__(self, name, age, gender, exp, qual):\n",
    "        self.name = name\n",
    "        self.age = age\n",
    "        self.gender = gender\n",
    "        self.qual = qual\n",
    "        self.exp = exp\n",
    "\n",
    "    def print_info(self):\n",
    "        print('Name\\t: ', self.name)\n",
    "        print('Age\\t: ', self.age)\n",
    "        print('Gender\\t: ', self.gender)\n",
    "        print('Qual   : ', self.qual)\n",
    "        print('Exp    : ', self.exp)"
   ]
  },
  {
   "cell_type": "code",
   "execution_count": null,
   "id": "G__j_xcyHnsM",
   "metadata": {
    "id": "G__j_xcyHnsM"
   },
   "outputs": [],
   "source": [
    "obj1 = information('John Davis', 34, 'M' )\n",
    "obj2 = learners('John Davis', 34, 'M', 3.5, 'Graduate')"
   ]
  },
  {
   "cell_type": "code",
   "execution_count": null,
   "id": "Bk1lCcBAHnsM",
   "metadata": {
    "id": "Bk1lCcBAHnsM"
   },
   "outputs": [],
   "source": [
    "obj1.print_info()"
   ]
  },
  {
   "cell_type": "code",
   "execution_count": null,
   "id": "NmbY_iXrHnsN",
   "metadata": {
    "id": "NmbY_iXrHnsN"
   },
   "outputs": [],
   "source": [
    "obj2.print_info()"
   ]
  },
  {
   "cell_type": "markdown",
   "id": "HPphqti4HnsN",
   "metadata": {
    "id": "HPphqti4HnsN"
   },
   "source": [
    "## Operator Overloading"
   ]
  },
  {
   "cell_type": "code",
   "execution_count": null,
   "id": "DeXOekdAHnsN",
   "metadata": {
    "id": "DeXOekdAHnsN"
   },
   "outputs": [],
   "source": [
    "x = 8; y = 15\n",
    "x + y"
   ]
  },
  {
   "cell_type": "code",
   "execution_count": null,
   "id": "8sBgrpfyHnsO",
   "metadata": {
    "id": "8sBgrpfyHnsO"
   },
   "outputs": [],
   "source": [
    "x = 'FirstName'\n",
    "y = 'LastName'\n",
    "x + ' ' + y"
   ]
  },
  {
   "cell_type": "markdown",
   "id": "ZUHznzeaHnsO",
   "metadata": {
    "id": "ZUHznzeaHnsO"
   },
   "source": [
    "## Method Overriding"
   ]
  },
  {
   "cell_type": "code",
   "execution_count": null,
   "id": "leJzoqNQHnsO",
   "metadata": {
    "id": "leJzoqNQHnsO"
   },
   "outputs": [],
   "source": [
    "class information:\n",
    "    def __init__(self, name, age, gender):\n",
    "        self.name = name\n",
    "        self.age = age\n",
    "        self.gender = gender\n",
    "\n",
    "    def print_info(self):\n",
    "        print('Name   : ', self.name)\n",
    "        print('Age    : ', self.age)\n",
    "        print('Gender : ', self.gender)"
   ]
  },
  {
   "cell_type": "code",
   "execution_count": null,
   "id": "354I8PaNHnsP",
   "metadata": {
    "id": "354I8PaNHnsP"
   },
   "outputs": [],
   "source": [
    "class learners(information):\n",
    "    def __init__(self, name, age, gender, exp, qual):\n",
    "        information.__init__(self, name, age, gender)\n",
    "        self.qual = qual\n",
    "        self.exp = exp\n",
    "\n",
    "    def print_info(self):\n",
    "        '''print_info function of derived class overrides the print_info function of parent class'''\n",
    "        print('Qual   : ', self.qual)\n",
    "        print('Exp    : ', self.exp)"
   ]
  },
  {
   "cell_type": "code",
   "execution_count": null,
   "id": "LRQTvN8HHnsP",
   "metadata": {
    "id": "LRQTvN8HHnsP"
   },
   "outputs": [],
   "source": [
    "obj = learners('John Davis', 45, 'M', 4.5, 'Graduate')"
   ]
  },
  {
   "cell_type": "code",
   "execution_count": null,
   "id": "EMl5AF5GHnsP",
   "metadata": {
    "id": "EMl5AF5GHnsP"
   },
   "outputs": [],
   "source": [
    "obj.print_info()"
   ]
  },
  {
   "cell_type": "code",
   "execution_count": null,
   "id": "eCDYXIb2HnsQ",
   "metadata": {
    "id": "eCDYXIb2HnsQ"
   },
   "outputs": [],
   "source": [
    "class learners(information):\n",
    "    def __init__(self, name, age, gender, exp, qual):\n",
    "        information.__init__(self, name, age, gender)\n",
    "        self.qual = qual\n",
    "        self.exp = exp\n",
    "\n",
    "    def print_info(self):\n",
    "        '''\n",
    "        print_info function of derived class overrides the print_info function of parent class.\n",
    "        To use the print ifno function of parent class, the function needs to be invoked explicitly.\n",
    "        '''\n",
    "        information.print_info(self)\n",
    "        print('Qual   : ', self.qual)\n",
    "        print('Exp    : ', self.exp)"
   ]
  },
  {
   "cell_type": "code",
   "execution_count": null,
   "id": "3TR_gzv_HnsQ",
   "metadata": {
    "id": "3TR_gzv_HnsQ"
   },
   "outputs": [],
   "source": [
    "obj = learners('John Davis', 45, 'M', 4.5, 'Graduate')"
   ]
  },
  {
   "cell_type": "code",
   "execution_count": null,
   "id": "TecXzzmjHnsQ",
   "metadata": {
    "id": "TecXzzmjHnsQ"
   },
   "outputs": [],
   "source": [
    "obj.print_info()"
   ]
  },
  {
   "cell_type": "code",
   "execution_count": null,
   "id": "9hTIrlmnHnsQ",
   "metadata": {
    "id": "9hTIrlmnHnsQ"
   },
   "outputs": [],
   "source": []
  },
  {
   "cell_type": "code",
   "execution_count": null,
   "id": "ug2ragviHnsR",
   "metadata": {
    "id": "ug2ragviHnsR"
   },
   "outputs": [],
   "source": []
  },
  {
   "cell_type": "markdown",
   "id": "YEy4vdu3HnsR",
   "metadata": {
    "id": "YEy4vdu3HnsR"
   },
   "source": [
    "#"
   ]
  },
  {
   "cell_type": "markdown",
   "id": "M9J-0CVgHnsR",
   "metadata": {
    "id": "M9J-0CVgHnsR"
   },
   "source": [
    "#"
   ]
  },
  {
   "cell_type": "markdown",
   "id": "GADf4fFfHnsR",
   "metadata": {
    "id": "GADf4fFfHnsR"
   },
   "source": [
    "# Abstraction"
   ]
  },
  {
   "cell_type": "code",
   "execution_count": null,
   "id": "vifUO24YHnsR",
   "metadata": {
    "id": "vifUO24YHnsR"
   },
   "outputs": [],
   "source": [
    "from abc import abstractmethod, ABC"
   ]
  },
  {
   "cell_type": "code",
   "execution_count": null,
   "id": "HEzt_d5PHnsS",
   "metadata": {
    "id": "HEzt_d5PHnsS"
   },
   "outputs": [],
   "source": [
    "class beverage(ABC):\n",
    "    @abstractmethod\n",
    "    def ingredients(self):\n",
    "        print('base')\n",
    "    def taste(self):\n",
    "        pass"
   ]
  },
  {
   "cell_type": "code",
   "execution_count": null,
   "id": "0kDVgRliHnsS",
   "metadata": {
    "id": "0kDVgRliHnsS",
    "outputId": "c041f551-774f-4fd1-80cf-4e7b962a70af"
   },
   "outputs": [
    {
     "ename": "TypeError",
     "evalue": "Can't instantiate abstract class beverage with abstract methods ingredients",
     "output_type": "error",
     "traceback": [
      "\u001b[0;31m---------------------------------------------------------------------------\u001b[0m",
      "\u001b[0;31mTypeError\u001b[0m                                 Traceback (most recent call last)",
      "\u001b[0;32m<ipython-input-3-570ae97a100b>\u001b[0m in \u001b[0;36m<module>\u001b[0;34m\u001b[0m\n\u001b[0;32m----> 1\u001b[0;31m \u001b[0mobj\u001b[0m \u001b[0;34m=\u001b[0m \u001b[0mbeverage\u001b[0m\u001b[0;34m(\u001b[0m\u001b[0;34m)\u001b[0m\u001b[0;34m\u001b[0m\u001b[0;34m\u001b[0m\u001b[0m\n\u001b[0m",
      "\u001b[0;31mTypeError\u001b[0m: Can't instantiate abstract class beverage with abstract methods ingredients"
     ]
    }
   ],
   "source": [
    "obj = beverage()"
   ]
  },
  {
   "cell_type": "code",
   "execution_count": null,
   "id": "u__cBSPLHnsT",
   "metadata": {
    "id": "u__cBSPLHnsT"
   },
   "outputs": [],
   "source": [
    "# derived class 1\n",
    "class mango_shake(beverage):\n",
    "    def ingredients(self):\n",
    "        print('Mango, Milk and Sugar')\n",
    "\n",
    "    def taste(self):\n",
    "        print('Yumm!!')"
   ]
  },
  {
   "cell_type": "code",
   "execution_count": null,
   "id": "q2vBv5odHnsU",
   "metadata": {
    "id": "q2vBv5odHnsU"
   },
   "outputs": [],
   "source": [
    "# derived class 1\n",
    "class orange_juice(beverage):\n",
    "    def ingredients(self):\n",
    "        print('Orange, Water and Sugar')\n",
    "\n",
    "    def taste(self):\n",
    "        print('Sweet!!')"
   ]
  },
  {
   "cell_type": "code",
   "execution_count": null,
   "id": "nhtm8LxYHnsU",
   "metadata": {
    "id": "nhtm8LxYHnsU",
    "outputId": "98de64e4-2a04-4bff-8922-7c4d1d5e62e7"
   },
   "outputs": [
    {
     "name": "stdout",
     "output_type": "stream",
     "text": [
      "Mango, Milk and Sugar\n",
      "Yumm!!\n"
     ]
    }
   ],
   "source": [
    "obj1 = mango_shake()\n",
    "obj1.ingredients()\n",
    "obj1.taste()"
   ]
  },
  {
   "cell_type": "code",
   "execution_count": null,
   "id": "ClKuFBWTHnsU",
   "metadata": {
    "id": "ClKuFBWTHnsU",
    "outputId": "97608d1c-3b50-4c62-ae73-b98bbe313779"
   },
   "outputs": [
    {
     "name": "stdout",
     "output_type": "stream",
     "text": [
      "Orange, Water and Sugar\n",
      "Sweet!!\n"
     ]
    }
   ],
   "source": [
    "obj2 = orange_juice()\n",
    "obj2.ingredients()\n",
    "obj2.taste()"
   ]
  },
  {
   "cell_type": "code",
   "execution_count": null,
   "id": "u77XiZ8bHnsV",
   "metadata": {
    "id": "u77XiZ8bHnsV"
   },
   "outputs": [],
   "source": []
  }
 ],
 "metadata": {
  "colab": {
   "provenance": []
  },
  "kernelspec": {
   "display_name": "Python 3 (ipykernel)",
   "language": "python",
   "name": "python3"
  },
  "language_info": {
   "codemirror_mode": {
    "name": "ipython",
    "version": 3
   },
   "file_extension": ".py",
   "mimetype": "text/x-python",
   "name": "python",
   "nbconvert_exporter": "python",
   "pygments_lexer": "ipython3",
   "version": "3.12.4"
  }
 },
 "nbformat": 4,
 "nbformat_minor": 5
}
